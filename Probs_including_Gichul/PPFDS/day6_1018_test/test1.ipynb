{
 "cells": [
  {
   "cell_type": "code",
   "execution_count": 44,
   "id": "c574553b",
   "metadata": {},
   "outputs": [
    {
     "name": "stdout",
     "output_type": "stream",
     "text": [
      "{0, 3, 4, 5, 8, 9, -1}\n"
     ]
    },
    {
     "data": {
      "text/plain": [
       "[-1, 0, 3, 4, 5, 8, 9]"
      ]
     },
     "execution_count": 44,
     "metadata": {},
     "output_type": "execute_result"
    }
   ],
   "source": [
    "# [-3,-2,-1,0,0,1,2,3] n=3\n",
    "temp=[0,0,5,5,4,-1,4,9,9,-1,4,3,4,8,3,8] #[-1,0,4,5] , n = 4\n",
    "temp.sort()\n",
    "s = set()\n",
    "for x in temp:\n",
    "    s.add(x)\n",
    "print(s)\n",
    "lst=list(s)\n",
    "lst.sort()\n",
    "lst"
   ]
  },
  {
   "cell_type": "code",
   "execution_count": null,
   "id": "a1c6296b",
   "metadata": {},
   "outputs": [],
   "source": [
    "# -1 0 4 5 "
   ]
  },
  {
   "cell_type": "code",
   "execution_count": 74,
   "id": "b9b6ecf7",
   "metadata": {},
   "outputs": [],
   "source": [
    "def findArrayGivenSubsetSums(n: int, sums: list[int]) -> list[int]:\n",
    "    if not sums:\n",
    "        return []\n",
    "    if n==1:\n",
    "        return sums[:1]\n",
    "    sums.sort()\n",
    "    s = set()\n",
    "    ans = []\n",
    "    for x in sums:\n",
    "        s.add(x)\n",
    "    if len(s)==1 : # 하나의 element로만 이루어짐\n",
    "        for i in range(n):\n",
    "            ans.append(sums[i])\n",
    "        return sums\n",
    "    temp = list(s)\n",
    "    temp.sort()\n",
    "    max_num = temp[-1]\n",
    "    temp=temp[:-1]\n",
    "    ans.append(temp[0])\n",
    "    for i in range(1,len(temp)): # 문제의 코드\n",
    "        curr = temp[i]\n",
    "        if curr == 0:\n",
    "            continue\n",
    "        for x in ans:\n",
    "            if x==0: continue\n",
    "            num = curr+x\n",
    "            if curr not in ans and num in temp:\n",
    "                ans.append(curr)\n",
    "                if len(ans)==n:return ans\n",
    "    if 0 in temp:\n",
    "        ans.append(0)\n",
    "        if len(ans)==n : return ans\n",
    "        else :\n",
    "            ans.append(max_num)\n",
    "            return ans"
   ]
  },
  {
   "cell_type": "code",
   "execution_count": 66,
   "id": "0015032e",
   "metadata": {},
   "outputs": [
    {
     "data": {
      "text/plain": [
       "[-3, -2, -1, 0, 1, 2, 3]"
      ]
     },
     "execution_count": 66,
     "metadata": {},
     "output_type": "execute_result"
    }
   ],
   "source": [
    "[-3,-2,-1,0,1,2,3]"
   ]
  },
  {
   "cell_type": "code",
   "execution_count": 72,
   "id": "7b2d85ca",
   "metadata": {},
   "outputs": [
    {
     "ename": "IndexError",
     "evalue": "list index out of range",
     "output_type": "error",
     "traceback": [
      "\u001b[1;31m---------------------------------------------------------------------------\u001b[0m",
      "\u001b[1;31mIndexError\u001b[0m                                Traceback (most recent call last)",
      "Cell \u001b[1;32mIn[72], line 2\u001b[0m\n\u001b[0;32m      1\u001b[0m lst \u001b[38;5;241m=\u001b[39m []\n\u001b[1;32m----> 2\u001b[0m findArrayGivenSubsetSums(\u001b[38;5;241m3\u001b[39m,lst)\n",
      "Cell \u001b[1;32mIn[71], line 15\u001b[0m, in \u001b[0;36mfindArrayGivenSubsetSums\u001b[1;34m(n, sums)\u001b[0m\n\u001b[0;32m     13\u001b[0m temp \u001b[38;5;241m=\u001b[39m \u001b[38;5;28mlist\u001b[39m(s)\n\u001b[0;32m     14\u001b[0m temp\u001b[38;5;241m.\u001b[39msort()\n\u001b[1;32m---> 15\u001b[0m max_num \u001b[38;5;241m=\u001b[39m temp[\u001b[38;5;241m-\u001b[39m\u001b[38;5;241m1\u001b[39m]\n\u001b[0;32m     16\u001b[0m temp\u001b[38;5;241m=\u001b[39mtemp[:\u001b[38;5;241m-\u001b[39m\u001b[38;5;241m1\u001b[39m]\n\u001b[0;32m     17\u001b[0m ans\u001b[38;5;241m.\u001b[39mappend(temp[\u001b[38;5;241m0\u001b[39m])\n",
      "\u001b[1;31mIndexError\u001b[0m: list index out of range"
     ]
    }
   ],
   "source": [
    "lst = []\n",
    "findArrayGivenSubsetSums(3,lst)\n",
    "\n",
    "# [1,2,-3] or [-1,-2,3]"
   ]
  },
  {
   "cell_type": "code",
   "execution_count": 67,
   "id": "6ed3195a",
   "metadata": {},
   "outputs": [
    {
     "data": {
      "text/plain": [
       "[-3, 1, 2]"
      ]
     },
     "execution_count": 67,
     "metadata": {},
     "output_type": "execute_result"
    }
   ],
   "source": [
    "lst = [-3,-2,-1,0,0,1,2,3]\n",
    "findArrayGivenSubsetSums(3,lst)\n",
    "\n",
    "# [1,2,-3] or [-1,-2,3]"
   ]
  },
  {
   "cell_type": "code",
   "execution_count": 68,
   "id": "8e9cce8b",
   "metadata": {},
   "outputs": [
    {
     "data": {
      "text/plain": [
       "[-1, 4, 5, 0]"
      ]
     },
     "execution_count": 68,
     "metadata": {},
     "output_type": "execute_result"
    }
   ],
   "source": [
    "lst =[0,0,5,5,4,-1,4,9,9,-1,4,3,4,8,3,8]\n",
    "findArrayGivenSubsetSums(4,lst)\n",
    "\n",
    "# [1,2,-3] or [-1,-2,3]"
   ]
  },
  {
   "cell_type": "code",
   "execution_count": 64,
   "id": "5610cdde",
   "metadata": {},
   "outputs": [
    {
     "data": {
      "text/plain": [
       "[-1, 4, 5, 0]"
      ]
     },
     "execution_count": 64,
     "metadata": {},
     "output_type": "execute_result"
    }
   ],
   "source": [
    "lst =[0,0,5,5,4,-1,4,9,9,-1,4,3,4,8,3,8]\n",
    "findArrayGivenSubsetSums(4,lst)\n",
    "\n",
    "# [1,2,-3] or [-1,-2,3]"
   ]
  },
  {
   "cell_type": "code",
   "execution_count": null,
   "id": "5cfa93a1",
   "metadata": {},
   "outputs": [],
   "source": [
    "-3 0 3"
   ]
  },
  {
   "cell_type": "code",
   "execution_count": null,
   "id": "4c483ce2",
   "metadata": {},
   "outputs": [],
   "source": []
  }
 ],
 "metadata": {
  "kernelspec": {
   "display_name": "Python 3 (ipykernel)",
   "language": "python",
   "name": "python3"
  },
  "language_info": {
   "codemirror_mode": {
    "name": "ipython",
    "version": 3
   },
   "file_extension": ".py",
   "mimetype": "text/x-python",
   "name": "python",
   "nbconvert_exporter": "python",
   "pygments_lexer": "ipython3",
   "version": "3.11.5"
  }
 },
 "nbformat": 4,
 "nbformat_minor": 5
}
