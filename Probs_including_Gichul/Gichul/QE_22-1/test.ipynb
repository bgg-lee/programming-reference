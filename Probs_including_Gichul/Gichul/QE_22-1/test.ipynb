{
 "cells": [
  {
   "cell_type": "markdown",
   "metadata": {},
   "source": []
  },
  {
   "cell_type": "code",
   "execution_count": 3,
   "metadata": {},
   "outputs": [
    {
     "data": {
      "text/plain": [
       "''"
      ]
     },
     "execution_count": 3,
     "metadata": {},
     "output_type": "execute_result"
    }
   ],
   "source": [
    "temp = \"abcdefgh\"\n",
    "temp[2:5]\n",
    "temp[0:0]"
   ]
  },
  {
   "cell_type": "code",
   "execution_count": 7,
   "metadata": {},
   "outputs": [
    {
     "data": {
      "text/plain": [
       "['b', 'c', 'z', 'ddd']"
      ]
     },
     "execution_count": 7,
     "metadata": {},
     "output_type": "execute_result"
    }
   ],
   "source": [
    "lst = ['a','b','c','z','ddd']\n",
    "# lst.pop(2)\n",
    "lst.remove('a')\n",
    "lst"
   ]
  },
  {
   "cell_type": "code",
   "execution_count": 10,
   "metadata": {},
   "outputs": [
    {
     "ename": "TypeError",
     "evalue": "unsupported operand type(s) for +: 'NoneType' and 'int'",
     "output_type": "error",
     "traceback": [
      "\u001b[1;31m---------------------------------------------------------------------------\u001b[0m",
      "\u001b[1;31mTypeError\u001b[0m                                 Traceback (most recent call last)",
      "Cell \u001b[1;32mIn[10], line 37\u001b[0m\n\u001b[0;32m     33\u001b[0m     \u001b[38;5;28;01mfor\u001b[39;00m i \u001b[38;5;129;01min\u001b[39;00m \u001b[38;5;28mrange\u001b[39m(\u001b[38;5;241m0\u001b[39m,\u001b[38;5;28mlen\u001b[39m(v)): res[v[i]\u001b[38;5;241m.\u001b[39mdistance]\u001b[38;5;241m.\u001b[39mappend(v[i]\u001b[38;5;241m.\u001b[39mid)\n\u001b[0;32m     35\u001b[0m     \u001b[38;5;28;01mreturn\u001b[39;00m res\n\u001b[1;32m---> 37\u001b[0m v \u001b[38;5;241m=\u001b[39m bfs(G,s)\n",
      "Cell \u001b[1;32mIn[10], line 25\u001b[0m, in \u001b[0;36mbfs\u001b[1;34m(G, s)\u001b[0m\n\u001b[0;32m     23\u001b[0m         q\u001b[38;5;241m.\u001b[39mextend(G[n])\n\u001b[0;32m     24\u001b[0m         \u001b[38;5;28;01mfor\u001b[39;00m cn \u001b[38;5;129;01min\u001b[39;00m G[n]: \n\u001b[1;32m---> 25\u001b[0m             \u001b[38;5;28;01mif\u001b[39;00m cn\u001b[38;5;241m.\u001b[39mdistance \u001b[38;5;129;01mis\u001b[39;00m \u001b[38;5;28;01mNone\u001b[39;00m: cn\u001b[38;5;241m.\u001b[39mdistance \u001b[38;5;241m=\u001b[39m n\u001b[38;5;241m.\u001b[39mdistance\u001b[38;5;241m+\u001b[39m\u001b[38;5;241m1\u001b[39m\n\u001b[0;32m     27\u001b[0m \u001b[38;5;28;01mreturn\u001b[39;00m v\n",
      "\u001b[1;31mTypeError\u001b[0m: unsupported operand type(s) for +: 'NoneType' and 'int'"
     ]
    }
   ],
   "source": [
    "class GNode:   \n",
    "    def __init__(self, id, color = 'W', d = None, p = None):        \n",
    "        self.id = id        \n",
    "        self.distance = d                 \n",
    "  \n",
    "    \n",
    "r, s, t, u, v = GNode('r'), GNode('s'), GNode('t'), GNode('u'), GNode('v')\n",
    "w, x, y = GNode('w'), GNode('x'), GNode('y')\n",
    "    \n",
    "G = dict()\n",
    "    \n",
    "G[r], G[s], G[t], G[u], G[v] = [s, v], [r, w], [w, x, u], [t, x, y], [r]\n",
    "G[w], G[x], G[y] = [s, t, x], [w, t, u, y], [x, u]\n",
    "\n",
    "def bfs(G, s):\n",
    "    v = []\n",
    "    q = [s]\n",
    "\n",
    "    while(len(q)!=0):\n",
    "        n = q.pop(0)\n",
    "        if n not in v:\n",
    "            v.append(n)\n",
    "            q.extend(G[n])\n",
    "            for cn in G[n]: \n",
    "                if cn.distance is None: cn.distance = n.distance+1\n",
    "    \n",
    "    return v\n",
    "\n",
    "def level_partition(G, s):\n",
    "    s.distance = 0\n",
    "    v = bfs(G, s)\n",
    "    res = [[] for i in range(v[-1].distance+1)]\n",
    "    for i in range(0,len(v)): res[v[i].distance].append(v[i].id)\n",
    "    \n",
    "    return res\n",
    "\n",
    "v = bfs(G,s)\n",
    "# level_partition(G,s)\n",
    "\n",
    "\n"
   ]
  },
  {
   "cell_type": "code",
   "execution_count": null,
   "metadata": {},
   "outputs": [],
   "source": []
  },
  {
   "cell_type": "code",
   "execution_count": null,
   "metadata": {},
   "outputs": [],
   "source": []
  }
 ],
 "metadata": {
  "kernelspec": {
   "display_name": "Python 3",
   "language": "python",
   "name": "python3"
  },
  "language_info": {
   "codemirror_mode": {
    "name": "ipython",
    "version": 3
   },
   "file_extension": ".py",
   "mimetype": "text/x-python",
   "name": "python",
   "nbconvert_exporter": "python",
   "pygments_lexer": "ipython3",
   "version": "3.11.5"
  }
 },
 "nbformat": 4,
 "nbformat_minor": 2
}
