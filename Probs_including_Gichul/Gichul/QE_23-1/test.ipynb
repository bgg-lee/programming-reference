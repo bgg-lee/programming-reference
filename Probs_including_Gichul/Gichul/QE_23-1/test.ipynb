{
 "cells": [
  {
   "cell_type": "code",
   "execution_count": 1,
   "metadata": {},
   "outputs": [
    {
     "name": "stdout",
     "output_type": "stream",
     "text": [
      "abc\n",
      "cba\n"
     ]
    }
   ],
   "source": [
    "test = \"abc\"\n",
    "print(test)\n",
    "print(test[::-1])"
   ]
  },
  {
   "cell_type": "code",
   "execution_count": 7,
   "metadata": {},
   "outputs": [
    {
     "data": {
      "text/plain": [
       "'dag'"
      ]
     },
     "execution_count": 7,
     "metadata": {},
     "output_type": "execute_result"
    }
   ],
   "source": [
    "test = \"gad\"\n",
    "test[-2:]\n",
    "test[::-1]"
   ]
  },
  {
   "cell_type": "code",
   "execution_count": 8,
   "metadata": {},
   "outputs": [
    {
     "data": {
      "text/plain": [
       "False"
      ]
     },
     "execution_count": 8,
     "metadata": {},
     "output_type": "execute_result"
    }
   ],
   "source": [
    "temp = [1,2,3,1]\n",
    "temp == temp[::-1]"
   ]
  },
  {
   "cell_type": "code",
   "execution_count": 10,
   "metadata": {},
   "outputs": [
    {
     "data": {
      "text/plain": [
       "True"
      ]
     },
     "execution_count": 10,
     "metadata": {},
     "output_type": "execute_result"
    }
   ],
   "source": [
    "temp = []\n",
    "temp == temp[::-1]"
   ]
  },
  {
   "cell_type": "code",
   "execution_count": null,
   "metadata": {},
   "outputs": [],
   "source": [
    "test = ['abc','a','abcd','bcd']\n",
    "n = len(test)\n",
    "for i in range(n):\n",
    "    if test:\n",
    "        temp = test.pop(0)\n",
    "        cond = True\n",
    "        for a in test:\n",
    "            if temp in a:\n",
    "                cond = False\n",
    "                break\n",
    "        if cond:\n",
    "            test.append(temp)\n",
    "test\n",
    "\n",
    "\n",
    "# abcd"
   ]
  },
  {
   "cell_type": "code",
   "execution_count": 11,
   "metadata": {},
   "outputs": [
    {
     "ename": "IndexError",
     "evalue": "pop from empty list",
     "output_type": "error",
     "traceback": [
      "\u001b[1;31m---------------------------------------------------------------------------\u001b[0m",
      "\u001b[1;31mIndexError\u001b[0m                                Traceback (most recent call last)",
      "Cell \u001b[1;32mIn[11], line 2\u001b[0m\n\u001b[0;32m      1\u001b[0m temp \u001b[38;5;241m=\u001b[39m []\n\u001b[1;32m----> 2\u001b[0m temp\u001b[38;5;241m.\u001b[39mpop(\u001b[38;5;241m0\u001b[39m)\n",
      "\u001b[1;31mIndexError\u001b[0m: pop from empty list"
     ]
    }
   ],
   "source": [
    "temp = []\n",
    "temp.pop(0)"
   ]
  },
  {
   "cell_type": "code",
   "execution_count": 1,
   "metadata": {},
   "outputs": [
    {
     "data": {
      "image/png": "[encoded data removed]",
      "text/plain": [
       "<Figure size 500x400 with 1 Axes>"
      ]
     },
     "metadata": {},
     "output_type": "display_data"
    }
   ],
   "source": [
    "import numpy as np\n",
    "import matplotlib.pyplot as plt\n",
    "from scipy.cluster.hierarchy import dendrogram, linkage\n",
    "from scipy.spatial.distance import squareform\n",
    "\n",
    "# 1) 불일치(거리) 행렬 정의\n",
    "#   문제에서 주어진 dissimilarity (A,B,C,D):\n",
    "#        A    B    C    D\n",
    "#   A [ 0.0, 0.3, 0.4, 0.7 ]\n",
    "#   B [ 0.3, 0.0, 0.5, 0.8 ]\n",
    "#   C [ 0.4, 0.5, 0.0, 0.45]\n",
    "#   D [ 0.7, 0.8, 0.45,0.0 ]\n",
    "\n",
    "dist_matrix = np.array([\n",
    "    [0.0,  0.3,  0.4,  0.7 ],\n",
    "    [0.3,  0.0,  0.5,  0.8 ],\n",
    "    [0.4,  0.5,  0.0,  0.45],\n",
    "    [0.7,  0.8,  0.45, 0.0 ]\n",
    "])\n",
    "\n",
    "# 2) 계층 군집 함수가 요구하는 형식(1D 벡터)으로 변환\n",
    "condensed_dist = squareform(dist_matrix)\n",
    "\n",
    "# 3) Complete Linkage로 linkage 계산\n",
    "Z = linkage(condensed_dist, method='complete')\n",
    "\n",
    "# 4) 덴드로그램 플롯\n",
    "plt.figure(figsize=(5, 4))\n",
    "dendrogram(\n",
    "    Z,\n",
    "    labels=['A','B','C','D'],  # 관측치 이름\n",
    "    above_threshold_color='black',\n",
    "    orientation='top',         # 가지가 아래로 뻗어나오도록\n",
    "    distance_sort='ascending',\n",
    "    color_threshold=0\n",
    ")\n",
    "\n",
    "plt.title(\"Hierarchical Clustering (Complete Linkage) of {A, B, C, D}\")\n",
    "plt.xlabel(\"Observations\")\n",
    "plt.ylabel(\"Distance\")\n",
    "plt.tight_layout()\n",
    "plt.show()\n"
   ]
  },
  {
   "cell_type": "code",
   "execution_count": null,
   "metadata": {},
   "outputs": [],
   "source": []
  },
  {
   "cell_type": "code",
   "execution_count": 15,
   "metadata": {},
   "outputs": [
    {
     "name": "stdout",
     "output_type": "stream",
     "text": [
      "0 & ['a', 'abc', 'ab', 'bc']\n",
      "1 & ['^*^', 'abc', 'ab', 'bc']\n",
      "2 & ['^*^', 'abc', 'ab', 'bc']\n",
      "3 & ['^*^', 'abc', '^*^', 'bc']\n"
     ]
    },
    {
     "data": {
      "text/plain": [
       "['abc']"
      ]
     },
     "execution_count": 15,
     "metadata": {},
     "output_type": "execute_result"
    }
   ],
   "source": [
    "test = ['a','abc','ab','bc']\n",
    "i = 0\n",
    "while i < len(test):\n",
    "    print(i,\"&\",test)\n",
    "    temp = test[i]\n",
    "    cond = False\n",
    "    for j in range(len(test)):\n",
    "        if temp!=test[j] and temp in test[j]:\n",
    "            cond = True\n",
    "            break\n",
    "    if cond:\n",
    "        test[i] = \"^*^\"\n",
    "    i+=1\n",
    "test = list(set(test))\n",
    "test.remove(\"^*^\")\n",
    "test"
   ]
  },
  {
   "cell_type": "code",
   "execution_count": 11,
   "metadata": {},
   "outputs": [
    {
     "data": {
      "text/plain": [
       "['abc', 'bc', 'ab']"
      ]
     },
     "execution_count": 11,
     "metadata": {},
     "output_type": "execute_result"
    }
   ],
   "source": [
    "test = ['a','abc','ab','bc','a']\n",
    "test = list(set(test))\n",
    "test.remove('a')\n",
    "test"
   ]
  },
  {
   "cell_type": "code",
   "execution_count": 20,
   "metadata": {},
   "outputs": [
    {
     "name": "stdout",
     "output_type": "stream",
     "text": [
      "0\n",
      "1\n",
      "2\n",
      "3\n",
      "4\n"
     ]
    }
   ],
   "source": [
    "test = [1,2,5,12,5,12,12,5,125,7]\n",
    "i = 0\n",
    "\n",
    "while i< len(test):\n",
    "    print(i)\n",
    "    test.pop()\n",
    "    i+=1"
   ]
  },
  {
   "cell_type": "code",
   "execution_count": 3,
   "metadata": {},
   "outputs": [
    {
     "name": "stdout",
     "output_type": "stream",
     "text": [
      "0 10\n",
      "1 9\n",
      "2 8\n",
      "3 7\n",
      "4 6\n"
     ]
    }
   ],
   "source": [
    "test = [1,2,5,12,5,12,12,5,125,7]\n",
    "i = 0\n",
    "\n",
    "while i< len(test):\n",
    "    print(i,len(test))\n",
    "    test.remove(test[-1])\n",
    "    i+=1\n"
   ]
  },
  {
   "cell_type": "code",
   "execution_count": null,
   "metadata": {},
   "outputs": [],
   "source": []
  }
 ],
 "metadata": {
  "kernelspec": {
   "display_name": "Python 3",
   "language": "python",
   "name": "python3"
  },
  "language_info": {
   "codemirror_mode": {
    "name": "ipython",
    "version": 3
   },
   "file_extension": ".py",
   "mimetype": "text/x-python",
   "name": "python",
   "nbconvert_exporter": "python",
   "pygments_lexer": "ipython3",
   "version": "3.11.5"
  }
 },
 "nbformat": 4,
 "nbformat_minor": 2
}
