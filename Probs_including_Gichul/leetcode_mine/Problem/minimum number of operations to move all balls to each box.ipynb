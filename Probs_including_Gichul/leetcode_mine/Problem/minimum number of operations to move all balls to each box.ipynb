{
 "cells": [
  {
   "cell_type": "markdown",
   "metadata": {},
   "source": [
    "You have n boxes. You are given a binary string boxes of length n, where boxes[i] is '0' if the ith box is empty, and '1' if it contains one ball.\n",
    "\n",
    "In one operation, you can move one ball from a box to an adjacent box. Box i is adjacent to box j if abs(i - j) == 1. Note that after doing so, there may be more than one ball in some boxes.\n",
    "\n",
    "Return an array answer of size n, where answer[i] is the minimum number of operations needed to move all the balls to the ith box.\n",
    "\n",
    "Each answer[i] is calculated considering the initial state of the boxes.\n",
    "\n",
    " \n",
    "\n",
    "Example 1:\n",
    "\n",
    "Input: boxes = \"110\"\n",
    "Output: [1,1,3]\n",
    "Explanation: The answer for each box is as follows:\n",
    "1) First box: you will have to move one ball from the second box to the first box in one operation.\n",
    "2) Second box: you will have to move one ball from the first box to the second box in one operation.\n",
    "3) Third box: you will have to move one ball from the first box to the third box in two operations, and move one ball from the second box to the third box in one operation.\n",
    "Example 2:\n",
    "\n",
    "Input: boxes = \"001011\"\n",
    "Output: [11,8,5,4,3,4]\n",
    " \n",
    "\n",
    "Constraints:\n",
    "\n",
    "n == boxes.length\n",
    "1 <= n <= 2000\n",
    "boxes[i] is either '0' or '1'."
   ]
  },
  {
   "cell_type": "code",
   "execution_count": 2,
   "metadata": {},
   "outputs": [
    {
     "name": "stdout",
     "output_type": "stream",
     "text": [
      "0 5\n",
      "1 1\n",
      "2 2\n",
      "3 60\n",
      "4 123\n",
      "5 0\n",
      "6 66\n"
     ]
    }
   ],
   "source": [
    "test = [5,1,2,60,123,0,66]\n",
    "for x, y in enumerate(test):\n",
    "    print(x,y)"
   ]
  },
  {
   "cell_type": "code",
   "execution_count": 5,
   "metadata": {},
   "outputs": [
    {
     "name": "stdout",
     "output_type": "stream",
     "text": [
      "0 1\n",
      "1 1\n",
      "2 1\n",
      "3 0\n",
      "4 1\n",
      "5 1\n",
      "6 1\n"
     ]
    },
    {
     "data": {
      "text/plain": [
       "7"
      ]
     },
     "execution_count": 5,
     "metadata": {},
     "output_type": "execute_result"
    }
   ],
   "source": [
    "test = \"1110111\"\n",
    "for x, y in enumerate(test):\n",
    "    print(x,y)\n",
    "len(test)"
   ]
  },
  {
   "cell_type": "code",
   "execution_count": null,
   "metadata": {},
   "outputs": [],
   "source": [
    "class Solution:\n",
    "    def minOperations(self, boxes: str) -> List[int]:\n",
    "        n = len(boxes)\n",
    "        ans = [0]*n\n",
    "        for i in range(n):\n",
    "            for x,y in enumerate(boxes):\n",
    "                if y == '1':\n",
    "                    ans[i] += abs(x-i)\n",
    "        return ans"
   ]
  },
  {
   "cell_type": "code",
   "execution_count": null,
   "metadata": {},
   "outputs": [],
   "source": [
    "# Better time complexity\n",
    "class Solution:\n",
    "    def minOperations(self, boxes: str) -> List[int]:\n",
    "        answer = []\n",
    "        pref = p = s = 0\n",
    "        for i, el in enumerate(boxes):\n",
    "            if el == '1':\n",
    "                pref += i\n",
    "                p += 1\n",
    "        for el in boxes:\n",
    "            answer.append(pref)\n",
    "            if el == '1':\n",
    "                p -= 1\n",
    "                s += 1\n",
    "            pref = pref - p + s\n",
    "        return answer"
   ]
  },
  {
   "cell_type": "code",
   "execution_count": null,
   "metadata": {},
   "outputs": [],
   "source": [
    "# C\n",
    "/**\n",
    " * Note: The returned array must be malloced, assume caller calls free().\n",
    " */\n",
    "int* minOperations(char* boxes, int* returnSize) {\n",
    "    int n = strlen(boxes);\n",
    "    int* ans = (int*)malloc(n*sizeof(int));\n",
    "\n",
    "    int sum = 0, pre = 0, post = 0;\n",
    "\n",
    "    for(int i=0;i<n;i++){\n",
    "        if(boxes[i]=='1'){\n",
    "            sum += i;\n",
    "            post += 1;\n",
    "        }\n",
    "    }\n",
    "\n",
    "    for(int j=0;j<n;j++){\n",
    "        ans[j] = sum;\n",
    "        if(boxes[j]=='1'){\n",
    "            pre += 1;\n",
    "            post -= 1;\n",
    "        }\n",
    "        sum = sum - post + pre ;\n",
    "    }\n",
    "    *returnSize = n;\n",
    "    return ans;\n",
    "}"
   ]
  },
  {
   "cell_type": "code",
   "execution_count": null,
   "metadata": {},
   "outputs": [],
   "source": [
    "# C++\n",
    "class Solution {\n",
    "public:\n",
    "    vector<int> minOperations(string boxes) {\n",
    "        int n = boxes.size();\n",
    "        vector<int> ans;\n",
    "        int sum = 0, pre = 0, post = 0;\n",
    "        \n",
    "        for(int i=0;i<n;i++){\n",
    "            if(boxes[i]=='1'){\n",
    "                sum += i;\n",
    "                post += 1;\n",
    "            }\n",
    "        }\n",
    "\n",
    "        for(int j=0;j<n;j++){\n",
    "            ans.push_back(sum);\n",
    "            if(boxes[j]=='1'){\n",
    "                post -= 1;\n",
    "                pre += 1;\n",
    "            }\n",
    "            sum = sum - post + pre;\n",
    "        }\n",
    "        return ans;\n",
    "    }\n",
    "};"
   ]
  },
  {
   "cell_type": "code",
   "execution_count": null,
   "metadata": {},
   "outputs": [],
   "source": []
  }
 ],
 "metadata": {
  "kernelspec": {
   "display_name": "base",
   "language": "python",
   "name": "python3"
  },
  "language_info": {
   "codemirror_mode": {
    "name": "ipython",
    "version": 3
   },
   "file_extension": ".py",
   "mimetype": "text/x-python",
   "name": "python",
   "nbconvert_exporter": "python",
   "pygments_lexer": "ipython3",
   "version": "3.11.5"
  }
 },
 "nbformat": 4,
 "nbformat_minor": 2
}
