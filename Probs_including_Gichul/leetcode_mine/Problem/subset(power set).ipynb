{
 "cells": [
  {
   "cell_type": "markdown",
   "metadata": {},
   "source": [
    "78. Subsets\n",
    "Medium\n",
    "Topics\n",
    "Companies\n",
    "Given an integer array nums of unique elements, return all possible subsets(the power set).\n",
    "\n",
    "The solution set must not contain duplicate subsets. Return the solution in any order.\n",
    "\n",
    " \n",
    "\n",
    "Example 1:\n",
    "\n",
    "Input: nums = [1,2,3]\n",
    "Output: [[],[1],[2],[1,2],[3],[1,3],[2,3],[1,2,3]]\n",
    "Example 2:\n",
    "\n",
    "Input: nums = [0]\n",
    "Output: [[],[0]]\n",
    " \n",
    "\n",
    "Constraints:\n",
    "\n",
    "1 <= nums.length <= 10\n",
    "-10 <= nums[i] <= 10\n",
    "All the numbers of nums are unique.\n",
    "\n",
    "powerset 멱집합 문제다. 부분집합 개수 구하는 문제\n",
    "이것도 backtracking의 일부일듯\n",
    " \n",
    "아.. 진짜 간단한 거 같은데 머리가 안 굴러간다.. GG"
   ]
  },
  {
   "cell_type": "code",
   "execution_count": null,
   "metadata": {},
   "outputs": [],
   "source": [
    "# Intuition\n",
    "# Knapsack Problem. Take it or leave it situation when picking elements for subsets.\n",
    "\n",
    "# Approach\n",
    "# Knapsack approach.\n",
    "# At ach index of dp(i) takes decision for dp(i+1) by including and exluding nums[i] and excluding nums[i].\n",
    "\n",
    "# Complexity\n",
    "# Time complexity:\n",
    "# O(2^n)\n",
    "\n",
    "# Space complexity:\n",
    "\n",
    "# Recursive Code\n",
    "from typing import List\n",
    "class Solution:\n",
    "    def subsets(self, nums: List[int]) -> List[List[int]]:\n",
    "        ans = []\n",
    "        def dp(i,arr):\n",
    "            if i == len(nums):\n",
    "                ans.append(arr)\n",
    "            else:\n",
    "                dp(i+1, arr+[nums[i]])\n",
    "                dp(i+1, arr)\n",
    "        dp(0,[])\n",
    "        return ans\n",
    "\n",
    "        "
   ]
  },
  {
   "cell_type": "code",
   "execution_count": null,
   "metadata": {},
   "outputs": [],
   "source": [
    "# BackTracking\n",
    "class Solution:\n",
    "    def subsets(self, nums: List[int]) -> List[List[int]]:\n",
    "        ans = []\n",
    "\n",
    "        def backtrack(start,path):\n",
    "            ans.append(path[:]) # 현재 path를 결과에 추가\n",
    "            for i in range(start,len(nums)):\n",
    "                path.append(nums[i]) # 숫자선택\n",
    "                backtrack(i+1,path) # 다음 숫자 탐색\n",
    "                path.pop() # Backtracking = 되돌리기\n",
    "        backtrack(0,[])\n",
    "        return ans\n",
    "\n",
    "\n"
   ]
  },
  {
   "cell_type": "code",
   "execution_count": null,
   "metadata": {},
   "outputs": [
    {
     "name": "stdout",
     "output_type": "stream",
     "text": [
      "[]\n",
      "[1]\n",
      "[1, 2]\n",
      "[1, 2, 3]\n",
      "[1, 3]\n",
      "[2]\n",
      "[2, 3]\n",
      "[3]\n"
     ]
    },
    {
     "data": {
      "text/plain": [
       "[[], [1], [1, 2], [1, 2, 3], [1, 3], [2], [2, 3], [3]]"
      ]
     },
     "execution_count": 5,
     "metadata": {},
     "output_type": "execute_result"
    }
   ],
   "source": [
    "# 어렵다...\n",
    "# # BackTracking\n",
    "# from typing import List\n",
    "# class Solution:\n",
    "#     def subsets(self, nums: List[int]) -> List[List[int]]:\n",
    "#         ans = []\n",
    "\n",
    "#         def backtrack(start,path):\n",
    "#             ans.append(path[:]) # 현재 path를 결과에 추가\n",
    "#             # print(path[:])\n",
    "#             for i in range(start,len(nums)):\n",
    "#                 path.append(nums[i]) # 숫자선택\n",
    "#                 backtrack(i+1,path) # 다음 숫자 탐색\n",
    "#                 path.pop() # Backtracking = 되돌리기\n",
    "#         backtrack(0,[])\n",
    "#         return ans\n",
    "# s = Solution()\n",
    "# s.subsets([1,2,3])\n",
    "\n",
    "\n"
   ]
  },
  {
   "cell_type": "code",
   "execution_count": null,
   "metadata": {},
   "outputs": [],
   "source": [
    "# C++\n",
    "#include <vector>\n",
    "using namespace std;\n",
    "\n",
    "class Solution {\n",
    "public:\n",
    "    vector<vector<int>> subsets(vector<int>& nums) {\n",
    "        vector<vector<int>> result;\n",
    "        vector<int> path;\n",
    "        backtrack(0, nums, path, result);\n",
    "        return result;\n",
    "    }\n",
    "\n",
    "private:\n",
    "    void backtrack(int start, vector<int>& nums, vector<int>& path, vector<vector<int>>& result) {\n",
    "        result.push_back(path);  // 현재 부분집합 추가\n",
    "\n",
    "        for (int i = start; i < nums.size(); i++) {\n",
    "            path.push_back(nums[i]);  // 숫자 선택\n",
    "            backtrack(i + 1, nums, path, result);  // 다음 숫자 탐색\n",
    "            path.pop_back();  // 백트래킹 (되돌리기)\n",
    "        }\n",
    "    }\n",
    "};\n"
   ]
  },
  {
   "cell_type": "code",
   "execution_count": null,
   "metadata": {},
   "outputs": [],
   "source": [
    "#include <vector>\n",
    "using namespace std;\n",
    "\n",
    "class Solution {\n",
    "public:\n",
    "    vector<vector<int>> subsets(vector<int>& nums) {\n",
    "        vector<vector<int>> result;\n",
    "        vector<int> path;\n",
    "        dfs(0, nums, path, result);\n",
    "        return result;\n",
    "    }\n",
    "\n",
    "private:\n",
    "    void dfs(int idx, vector<int>& nums, vector<int>& path, vector<vector<int>>& result) {\n",
    "        if (idx == nums.size()) {\n",
    "            result.push_back(path);  // 부분집합 추가\n",
    "            return;\n",
    "        }\n",
    "        \n",
    "        // 현재 숫자를 포함하지 않는 경우\n",
    "        dfs(idx + 1, nums, path, result);\n",
    "\n",
    "        // 현재 숫자를 포함하는 경우\n",
    "        path.push_back(nums[idx]);\n",
    "        dfs(idx + 1, nums, path, result);\n",
    "        path.pop_back();  // 백트래킹 (되돌리기)\n",
    "    }\n",
    "};\n"
   ]
  },
  {
   "cell_type": "code",
   "execution_count": 3,
   "metadata": {},
   "outputs": [
    {
     "name": "stdout",
     "output_type": "stream",
     "text": [
      "현재 부분집합: []\n",
      "현재 부분집합: [1]\n",
      "현재 부분집합: [1, 2]\n",
      "현재 부분집합: [1, 2, 3]\n",
      "현재 부분집합: [1, 3]\n",
      "현재 부분집합: [2]\n",
      "현재 부분집합: [2, 3]\n",
      "현재 부분집합: [3]\n"
     ]
    }
   ],
   "source": [
    "def backtrack(start, path):\n",
    "    print(\"현재 부분집합:\", path)  # 탐색 중인 부분집합 출력\n",
    "    for i in range(start, len(nums)):\n",
    "        path.append(nums[i])  # 현재 숫자 추가\n",
    "        backtrack(i + 1, path)  # 다음 숫자 탐색\n",
    "        path.pop()  # 백트래킹 (되돌리기)\n",
    "\n",
    "nums = [1, 2, 3]\n",
    "backtrack(0, [])"
   ]
  },
  {
   "cell_type": "markdown",
   "metadata": {},
   "source": [
    "🚀 백트래킹 실행 과정 (스택 트레이스)\n",
    "🔹 Step 1: start=0, path=[]\n",
    "처음 호출: backtrack(0, [])\n",
    "for i in range(0, 3), 즉 i=0, 1, 2 순서로 실행됨.\n",
    "🔸 Step 2: i=0 → path=[1], backtrack(1, [1]) 호출\n",
    "현재 path: [1]\n",
    "for i in range(1, 3), 즉 i=1, 2 순서로 실행.\n",
    "🔹 Step 3: i=1 → path=[1, 2], backtrack(2, [1, 2]) 호출\n",
    "현재 path: [1, 2]\n",
    "for i in range(2, 3), 즉 i=2 실행.\n",
    "🔸 Step 4: i=2 → path=[1, 2, 3], backtrack(3, [1, 2, 3]) 호출\n",
    "현재 path: [1, 2, 3]\n",
    "start=3이므로, for 루프 실행 불가 → 리턴 & 백트래킹\n",
    "✅ 백트래킹! path.pop(), 즉 [1, 2, 3] → [1, 2]\n",
    "\n",
    "🔹 Step 5: i=2 종료 → 백트래킹\n",
    "backtrack(2, [1, 2]) 종료됨 → path.pop() 실행 → [1, 2] → [1]\n",
    "이제 i=2 실행 (path=[1, 3])\n",
    "🔸 Step 6: i=2 → path=[1, 3], backtrack(3, [1, 3]) 호출\n",
    "현재 path: [1, 3]\n",
    "start=3이므로 루프 실행 불가 → 리턴 & 백트래킹\n",
    "✅ 백트래킹! path.pop(), 즉 [1, 3] → [1]\n",
    "\n",
    "🔹 Step 7: i=1,2 종료 → 백트래킹\n",
    "path.pop(), 즉 [1] → []\n",
    "이제 i=1 실행 (path=[2])\n",
    "🔸 Step 8: i=1 → path=[2], backtrack(2, [2]) 호출\n",
    "현재 path: [2]\n",
    "for i in range(2, 3), 즉 i=2 실행.\n",
    "🔹 Step 9: i=2 → path=[2, 3], backtrack(3, [2, 3]) 호출\n",
    "현재 path: [2, 3]\n",
    "start=3이므로 리턴 & 백트래킹\n",
    "✅ 백트래킹! path.pop(), 즉 [2, 3] → [2]\n",
    "\n",
    "🔸 Step 10: i=2 종료 → 백트래킹\n",
    "path.pop(), 즉 [2] → []\n",
    "이제 i=2 실행 (path=[3])\n",
    "🔹 Step 11: i=2 → path=[3], backtrack(3, [3]) 호출\n",
    "현재 path: [3]\n",
    "start=3이므로 리턴 & 백트래킹\n",
    "✅ 백트래킹! path.pop(), 즉 [3] → []\n",
    "\n"
   ]
  },
  {
   "cell_type": "code",
   "execution_count": null,
   "metadata": {},
   "outputs": [],
   "source": []
  },
  {
   "cell_type": "code",
   "execution_count": null,
   "metadata": {},
   "outputs": [],
   "source": []
  },
  {
   "cell_type": "code",
   "execution_count": null,
   "metadata": {},
   "outputs": [],
   "source": []
  }
 ],
 "metadata": {
  "kernelspec": {
   "display_name": "Python 3",
   "language": "python",
   "name": "python3"
  },
  "language_info": {
   "codemirror_mode": {
    "name": "ipython",
    "version": 3
   },
   "file_extension": ".py",
   "mimetype": "text/x-python",
   "name": "python",
   "nbconvert_exporter": "python",
   "pygments_lexer": "ipython3",
   "version": "3.11.5"
  }
 },
 "nbformat": 4,
 "nbformat_minor": 2
}
