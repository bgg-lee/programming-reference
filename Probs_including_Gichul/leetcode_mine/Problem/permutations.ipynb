{
 "cells": [
  {
   "cell_type": "markdown",
   "metadata": {},
   "source": [
    "46. Permutations\n",
    "Medium\n",
    "Topics\n",
    "Companies\n",
    "Given an array nums of distinct integers, return all the possible \n",
    "permutations\n",
    ". You can return the answer in any order.\n",
    "\n",
    " \n",
    "\n",
    "Example 1:\n",
    "\n",
    "Input: nums = [1,2,3]\n",
    "Output: [[1,2,3],[1,3,2],[2,1,3],[2,3,1],[3,1,2],[3,2,1]]\n",
    "Example 2:\n",
    "\n",
    "Input: nums = [0,1]\n",
    "Output: [[0,1],[1,0]]\n",
    "Example 3:\n",
    "\n",
    "Input: nums = [1]\n",
    "Output: [[1]]\n",
    " \n",
    "\n",
    "Constraints:\n",
    "\n",
    "1 <= nums.length <= 6\n",
    "-10 <= nums[i] <= 10\n",
    "All the integers of nums are unique."
   ]
  },
  {
   "cell_type": "code",
   "execution_count": null,
   "metadata": {},
   "outputs": [],
   "source": [
    "# Back track O(N!)\n",
    "class Solution:\n",
    "    def permute(self, nums: List[int]) -> List[List[int]]:\n",
    "\n",
    "        def backtrack(start):\n",
    "            if start == len(nums):\n",
    "                res.append(nums[:]) # 이는 res.append(nums)가 nums의 참조(reference)저장하면 nums가 바뀜. 그러니 새로운 객체 저장 필요 nums[:]\n",
    "                return\n",
    "            \n",
    "            for i in range(start, len(nums)):\n",
    "                nums[start], nums[i] = nums[i], nums[start]\n",
    "                backtrack(start + 1)\n",
    "                nums[start], nums[i] = nums[i], nums[start]\n",
    "\n",
    "        res = []\n",
    "        backtrack(0)\n",
    "        return res"
   ]
  },
  {
   "cell_type": "code",
   "execution_count": null,
   "metadata": {},
   "outputs": [],
   "source": [
    "# Recursive # O(N * N!)\n",
    "class Solution:\n",
    "    def permute(self, nums: List[int]) -> List[List[int]]:\n",
    "        if len(nums) == 1 :\n",
    "            return [nums[:]]\n",
    "        \n",
    "        ans = []\n",
    "\n",
    "        for _ in range(len(nums)):\n",
    "            n = nums.pop(0)\n",
    "            perms = self.permute(nums)\n",
    "\n",
    "            for p in perms:\n",
    "                p.append(n)\n",
    "            ans += perms\n",
    "            nums.append(n)\n",
    "        return ans\n",
    "            "
   ]
  },
  {
   "cell_type": "code",
   "execution_count": null,
   "metadata": {},
   "outputs": [],
   "source": [
    "# C++\n",
    "class Solution {\n",
    "public:\n",
    "    vector<vector<int>> permute(vector<int>& nums) {\n",
    "        vector<vector<int>> res;\n",
    "        if (nums.size() == 1) {\n",
    "            vector<int> singleList;\n",
    "            singleList.push_back(nums[0]);\n",
    "            res.push_back(singleList);\n",
    "            return res;\n",
    "        }\n",
    "\n",
    "        for (int i = 0; i < nums.size(); i++) {\n",
    "            int n = nums[i];\n",
    "            vector<int> remainingNums;\n",
    "            for (int j = 0; j < nums.size(); j++) {\n",
    "                if (j != i) {\n",
    "                    remainingNums.push_back(nums[j]);\n",
    "                }\n",
    "            }\n",
    "            \n",
    "            vector<vector<int>> perms = permute(remainingNums);\n",
    "            for (vector<int> p : perms) {\n",
    "                p.insert(p.begin(), n);  // Insert n at the beginning of the permutation\n",
    "                res.push_back(p);  // Append the modified permutation to the result\n",
    "            }\n",
    "        }\n",
    "        \n",
    "        return res;    \n",
    "    }\n",
    "};"
   ]
  },
  {
   "cell_type": "code",
   "execution_count": null,
   "metadata": {},
   "outputs": [],
   "source": [
    "# C\n",
    " void swap(int* a, int* b){\n",
    "     int temp = *a;\n",
    "     *a = *b;\n",
    "     *b = temp;\n",
    " }\n",
    "\n",
    " void backtrack(int* nums, int numsSize, int*** arr, int* returnSize, int** returnColumnSizes, int index){\n",
    "     if(index == numsSize - 1){\n",
    "         (*returnSize)++;\n",
    "         *arr = (int**)realloc(*arr, sizeof(int*) * (*returnSize));\n",
    "         (*returnColumnSizes)[*returnSize - 1] = numsSize;\n",
    "         (*arr)[*returnSize - 1] = (int*)malloc(sizeof(int) * numsSize);\n",
    "         for(int i=0; i<numsSize; i++){\n",
    "             (*arr)[*returnSize - 1][i] = nums[i];\n",
    "         }\n",
    "         return;\n",
    "     }\n",
    "     for(int i=index; i<numsSize; i++){\n",
    "         swap(nums+index, nums+i);\n",
    "         backtrack(nums, numsSize, arr, returnSize, returnColumnSizes, index + 1);\n",
    "         swap(nums+index, nums+i);\n",
    "     }\n",
    " }\n",
    "\n",
    "int** permute(int* nums, int numsSize, int* returnSize, int** returnColumnSizes){\n",
    "    *returnSize = 1;\n",
    "    for(int i=1; i<=numsSize; i++) (*returnSize) *= i;\n",
    "    *returnColumnSizes = (int*)malloc(*returnSize * sizeof(int)); \n",
    "    *returnSize = 0;\n",
    "    int **arr = (int**)malloc(sizeof(int*));\n",
    "    backtrack(nums, numsSize, &arr, returnSize, returnColumnSizes, 0);\n",
    "    return arr;\n",
    "}"
   ]
  },
  {
   "cell_type": "code",
   "execution_count": null,
   "metadata": {},
   "outputs": [],
   "source": [
    "# C 2\n",
    "/**\n",
    " * Return an array of arrays of size *returnSize.\n",
    " * The sizes of the arrays are returned as *returnColumnSizes array.\n",
    " * Note: Both returned array and *columnSizes array must be malloced, assume caller calls free().\n",
    " */\n",
    "void swap(int *a, int *b) {\n",
    "    int temp = *a;\n",
    "    *a = *b;\n",
    "    *b = temp;\n",
    "}\n",
    "void backtrack(int* nums, int numsSize, int start, int** result, int* returnSize, int* temp) {\n",
    "    if (start == numsSize) {\n",
    "        result[*returnSize] = (int*)malloc(numsSize * sizeof(int));\n",
    "        for (int i = 0; i < numsSize; i++) {\n",
    "            result[*returnSize][i] = nums[i];\n",
    "        }\n",
    "        (*returnSize)++;\n",
    "        return;\n",
    "    }\n",
    "\n",
    "    for (int i = start; i < numsSize; i++) {\n",
    "        swap(&nums[start], &nums[i]);\n",
    "        backtrack(nums, numsSize, start + 1, result, returnSize, temp);\n",
    "        swap(&nums[start], &nums[i]);  // Backtrack\n",
    "    }\n",
    "}\n",
    "int** permute(int* nums, int numsSize, int* returnSize, int** returnColumnSizes) {\n",
    "    int totalPermutations = 1;\n",
    "    for (int i = 2; i <= numsSize; i++) {\n",
    "        totalPermutations *= i;\n",
    "    }\n",
    "\n",
    "    int** result = (int**)malloc(totalPermutations * sizeof(int*));\n",
    "    *returnSize = 0;\n",
    "    *returnColumnSizes = (int*)malloc(totalPermutations * sizeof(int));\n",
    "\n",
    "    backtrack(nums, numsSize, 0, result, returnSize, *returnColumnSizes);\n",
    "\n",
    "    for (int i = 0; i < totalPermutations; i++) {\n",
    "        (*returnColumnSizes)[i] = numsSize; \n",
    "    }\n",
    "\n",
    "    return result;\n",
    "}\n",
    "void printPermutations(int** permutations, int returnSize, int* returnColumnSizes) {\n",
    "    for (int i = 0; i < returnSize; i++) {\n",
    "        printf(\"[\");\n",
    "        for (int j = 0; j < returnColumnSizes[i]; j++) {\n",
    "            printf(\"%d\", permutations[i][j]);\n",
    "            if (j < returnColumnSizes[i] - 1) printf(\", \");\n",
    "        }\n",
    "        printf(\"]\\n\");\n",
    "        free(permutations[i]);\n",
    "    }\n",
    "    free(permutations);\n",
    "    free(returnColumnSizes);\n",
    "}"
   ]
  },
  {
   "cell_type": "code",
   "execution_count": 3,
   "metadata": {},
   "outputs": [
    {
     "data": {
      "text/plain": [
       "5"
      ]
     },
     "execution_count": 3,
     "metadata": {},
     "output_type": "execute_result"
    }
   ],
   "source": [
    "test = [5,12,56,1245]\n",
    "test.pop(0)"
   ]
  },
  {
   "cell_type": "code",
   "execution_count": null,
   "metadata": {},
   "outputs": [
    {
     "data": {
      "text/plain": [
       "[[3, 2, 1], [2, 3, 1], [1, 3, 2], [3, 1, 2], [2, 1, 3], [1, 2, 3]]"
      ]
     },
     "execution_count": 4,
     "metadata": {},
     "output_type": "execute_result"
    }
   ],
   "source": [
    "class Solution:\n",
    "    def permute(self, nums: list[int]) -> list[list[int]]:\n",
    "        if len(nums) == 1 :\n",
    "            return [nums[:]]\n",
    "        \n",
    "        ans = []\n",
    "\n",
    "        for _ in range(len(nums)):\n",
    "            n = nums.pop(0)\n",
    "            perms = self.permute(nums)\n",
    "\n",
    "            for p in perms:\n",
    "                p.append(n)\n",
    "            ans+=perms\n",
    "            nums.append(n)\n",
    "        return ans\n",
    "    \n",
    "s = Solution()\n",
    "s.permute([1,2,3])"
   ]
  },
  {
   "cell_type": "code",
   "execution_count": null,
   "metadata": {},
   "outputs": [
    {
     "data": {
      "text/plain": [
       "[[[2, 3], [5, 6]]]"
      ]
     },
     "execution_count": 2,
     "metadata": {},
     "output_type": "execute_result"
    }
   ],
   "source": [
    "test = [[2,3],[5,6]]\n",
    "ans = []\n",
    "ans.append(test)\n",
    "ans"
   ]
  },
  {
   "cell_type": "code",
   "execution_count": 4,
   "metadata": {},
   "outputs": [
    {
     "data": {
      "text/plain": [
       "[[2, 3], [6, 77]]"
      ]
     },
     "execution_count": 4,
     "metadata": {},
     "output_type": "execute_result"
    }
   ],
   "source": [
    "test = [[2,3]]\n",
    "test2= [[6,77]]\n",
    "ans = []\n",
    "ans += test\n",
    "ans += test2\n",
    "ans"
   ]
  },
  {
   "cell_type": "code",
   "execution_count": null,
   "metadata": {},
   "outputs": [],
   "source": []
  }
 ],
 "metadata": {
  "kernelspec": {
   "display_name": "Python 3",
   "language": "python",
   "name": "python3"
  },
  "language_info": {
   "codemirror_mode": {
    "name": "ipython",
    "version": 3
   },
   "file_extension": ".py",
   "mimetype": "text/x-python",
   "name": "python",
   "nbconvert_exporter": "python",
   "pygments_lexer": "ipython3",
   "version": "3.11.5"
  }
 },
 "nbformat": 4,
 "nbformat_minor": 2
}
