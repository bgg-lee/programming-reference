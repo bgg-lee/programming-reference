{
 "cells": [
  {
   "cell_type": "markdown",
   "metadata": {},
   "source": [
    "Given an integer n, return the number of structurally unique BST's (binary search trees) which has exactly n nodes of unique values from 1 to n.\n",
    "\n",
    " \n",
    "\n",
    "Example 1:\n",
    "\n",
    "\n",
    "Input: n = 3\n",
    "Output: 5\n",
    "Example 2:\n",
    "\n",
    "Input: n = 1\n",
    "Output: 1\n",
    " \n",
    "\n",
    "Constraints:\n",
    "\n",
    "1 <= n <= 19"
   ]
  },
  {
   "cell_type": "code",
   "execution_count": 2,
   "metadata": {},
   "outputs": [
    {
     "data": {
      "text/plain": [
       "1"
      ]
     },
     "execution_count": 2,
     "metadata": {},
     "output_type": "execute_result"
    }
   ],
   "source": [
    "int(1.5)"
   ]
  },
  {
   "cell_type": "code",
   "execution_count": null,
   "metadata": {},
   "outputs": [],
   "source": [
    "# 카탈란 수를 구하는 문제다.\n",
    "class Solution:\n",
    "    def numTrees(self, n: int) -> int:\n",
    "        # DP 배열 초기화\n",
    "        dp = [0] * (n + 1)\n",
    "        dp[0] = 1  # C_0 = 1\n",
    "        dp[1] = 1  # C_1 = 1\n",
    "        \n",
    "        # 점화식 계산\n",
    "        for i in range(2, n + 1):\n",
    "            for j in range(1, i + 1):  # 각 i에 대해 C_{i-1} * C_{n-i} 계산\n",
    "                dp[i] += dp[j - 1] * dp[i - j]\n",
    "        \n",
    "        return dp[n]\n"
   ]
  },
  {
   "cell_type": "code",
   "execution_count": null,
   "metadata": {},
   "outputs": [],
   "source": [
    "# C++ , map에서 find 쓰기, class 안에서 method 2개 연관시키기\n",
    "class Solution {\n",
    "public:\n",
    "    int numTrees(int n) {\n",
    "        map<int,int> m;\n",
    "        return cnt(n,m);\n",
    "    }\n",
    "\n",
    "    int cnt(int k, map<int,int>& m){\n",
    "        if(k<=1) return 1;\n",
    "        if(m.find(k)!=m.end()){ // how to use 'find' method in MAP(C++)\n",
    "            return m[k];\n",
    "        }\n",
    "        int total = 0;\n",
    "        for(int i=1;i<=k;i++){\n",
    "            int left = cnt(i-1,m);\n",
    "            int right = cnt(k-i,m);\n",
    "            total += left*right;\n",
    "        }\n",
    "        m[k] = total;\n",
    "        return total;\n",
    "    }\n",
    "};"
   ]
  },
  {
   "cell_type": "code",
   "execution_count": null,
   "metadata": {},
   "outputs": [],
   "source": []
  },
  {
   "cell_type": "code",
   "execution_count": null,
   "metadata": {},
   "outputs": [],
   "source": []
  },
  {
   "cell_type": "code",
   "execution_count": null,
   "metadata": {},
   "outputs": [],
   "source": []
  },
  {
   "cell_type": "code",
   "execution_count": null,
   "metadata": {},
   "outputs": [],
   "source": []
  }
 ],
 "metadata": {
  "kernelspec": {
   "display_name": "base",
   "language": "python",
   "name": "python3"
  },
  "language_info": {
   "codemirror_mode": {
    "name": "ipython",
    "version": 3
   },
   "file_extension": ".py",
   "mimetype": "text/x-python",
   "name": "python",
   "nbconvert_exporter": "python",
   "pygments_lexer": "ipython3",
   "version": "3.11.5"
  }
 },
 "nbformat": 4,
 "nbformat_minor": 2
}
