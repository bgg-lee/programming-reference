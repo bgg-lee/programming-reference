{
 "cells": [
  {
   "cell_type": "markdown",
   "metadata": {},
   "source": [
    "You are given two 0-indexed integer permutations A and B of length n.\n",
    "\n",
    "A prefix common array of A and B is an array C such that C[i] is equal to the count of numbers that are present at or before the index i in both A and B.\n",
    "\n",
    "Return the prefix common array of A and B.\n",
    "\n",
    "A sequence of n integers is called a permutation if it contains all integers from 1 to n exactly once.\n",
    "\n",
    " \n",
    "\n",
    "Example 1:\n",
    "\n",
    "Input: A = [1,3,2,4], B = [3,1,2,4]\n",
    "Output: [0,2,3,4]\n",
    "Explanation: At i = 0: no number is common, so C[0] = 0.\n",
    "At i = 1: 1 and 3 are common in A and B, so C[1] = 2.\n",
    "At i = 2: 1, 2, and 3 are common in A and B, so C[2] = 3.\n",
    "At i = 3: 1, 2, 3, and 4 are common in A and B, so C[3] = 4.\n",
    "Example 2:\n",
    "\n",
    "Input: A = [2,3,1], B = [3,1,2]\n",
    "Output: [0,1,3]\n",
    "Explanation: At i = 0: no number is common, so C[0] = 0.\n",
    "At i = 1: only 3 is common in A and B, so C[1] = 1.\n",
    "At i = 2: 1, 2, and 3 are common in A and B, so C[2] = 3.\n",
    " \n",
    "\n",
    "Constraints:\n",
    "\n",
    "1 <= A.length == B.length == n <= 50\n",
    "1 <= A[i], B[i] <= n\n",
    "It is guaranteed that A and B are both a permutation of n integers."
   ]
  },
  {
   "cell_type": "code",
   "execution_count": 8,
   "metadata": {},
   "outputs": [
    {
     "name": "stdout",
     "output_type": "stream",
     "text": [
      "6\n",
      "1\n",
      "5\n"
     ]
    }
   ],
   "source": [
    "# s = set()\n",
    "# s.add(3)\n",
    "# s.add(6)\n",
    "# s.add(7)\n",
    "# t = (3,6,1)\n",
    "temp = [5,1,6,23]\n",
    "for i in range(2,-1,-1):\n",
    "    print(temp[i])"
   ]
  },
  {
   "cell_type": "code",
   "execution_count": null,
   "metadata": {},
   "outputs": [],
   "source": [
    "# Super Naive way\n",
    "class Solution:\n",
    "    def findThePrefixCommonArray(self, A: List[int], B: List[int]) -> List[int]:\n",
    "        # Navie way\n",
    "        cnt = 0\n",
    "        ans = []\n",
    "        n = len(A)\n",
    "        for i in range(n):\n",
    "            cnt = 0\n",
    "            for j in range(i,-1,-1):\n",
    "                for k in range(i,-1,-1):\n",
    "                    if B[j]==A[k] : cnt+=1\n",
    "            ans.append(cnt)\n",
    "        return ans"
   ]
  },
  {
   "cell_type": "code",
   "execution_count": 12,
   "metadata": {},
   "outputs": [
    {
     "name": "stdout",
     "output_type": "stream",
     "text": [
      "2 1356\n",
      "5 2\n",
      "12 0\n",
      "56 -1124\n",
      "-1 124\n"
     ]
    }
   ],
   "source": [
    "# fast way\n",
    "class Solution:\n",
    "    def findThePrefixCommonArray(self, A: List[int], B: List[int]) -> List[int]:\n",
    "        n = len(A)\n",
    "        check = [0]*(n+1)\n",
    "        ans = []\n",
    "        cnt = 0\n",
    "        \n",
    "        for a,b in zip(A,B):\n",
    "            check[a] += 1\n",
    "            if check[a]==2:\n",
    "                cnt+=1\n",
    "            check[b] +=1\n",
    "            if check[b]==2:\n",
    "                cnt+=1\n",
    "            ans.append(cnt)\n",
    "        return ans"
   ]
  },
  {
   "cell_type": "code",
   "execution_count": null,
   "metadata": {},
   "outputs": [],
   "source": [
    "# C\n",
    "/**\n",
    " * Note: The returned array must be malloced, assume caller calls free().\n",
    " */\n",
    "int* findThePrefixCommonArray(int* A, int ASize, int* B, int BSize, int* returnSize) {\n",
    "    *returnSize = ASize;\n",
    "    int cnt = 0;\n",
    "    int* ans = (int*)malloc(ASize*sizeof(int));\n",
    "    int check[51] = {0};\n",
    "\n",
    "    for(int i=0;i<ASize;i++){\n",
    "        check[A[i]]++;\n",
    "        if(check[A[i]]==2) cnt++;\n",
    "        check[B[i]]++;\n",
    "        if(check[B[i]]==2) cnt++;\n",
    "        ans[i] = cnt;\n",
    "    }\n",
    "    return ans;\n",
    "}"
   ]
  },
  {
   "cell_type": "code",
   "execution_count": null,
   "metadata": {},
   "outputs": [],
   "source": [
    "# C++\n",
    "class Solution {\n",
    "public:\n",
    "    vector<int> findThePrefixCommonArray(vector<int>& A, vector<int>& B) {\n",
    "        int cnt = 0;\n",
    "        vector<int> vec;\n",
    "        int n = A.size();\n",
    "        vector<int> check(n+1,0);\n",
    "        for(int i=0;i<n;i++){\n",
    "            check[A[i]]++;\n",
    "            if(check[A[i]]==2) cnt++;\n",
    "            check[B[i]]++;\n",
    "            if(check[B[i]]==2) cnt++;\n",
    "            vec.push_back(cnt);\n",
    "        }\n",
    "        return vec;\n",
    "    }\n",
    "};"
   ]
  },
  {
   "cell_type": "code",
   "execution_count": null,
   "metadata": {},
   "outputs": [],
   "source": []
  },
  {
   "cell_type": "code",
   "execution_count": null,
   "metadata": {},
   "outputs": [],
   "source": []
  }
 ],
 "metadata": {
  "kernelspec": {
   "display_name": "base",
   "language": "python",
   "name": "python3"
  },
  "language_info": {
   "codemirror_mode": {
    "name": "ipython",
    "version": 3
   },
   "file_extension": ".py",
   "mimetype": "text/x-python",
   "name": "python",
   "nbconvert_exporter": "python",
   "pygments_lexer": "ipython3",
   "version": "3.11.5"
  }
 },
 "nbformat": 4,
 "nbformat_minor": 2
}
