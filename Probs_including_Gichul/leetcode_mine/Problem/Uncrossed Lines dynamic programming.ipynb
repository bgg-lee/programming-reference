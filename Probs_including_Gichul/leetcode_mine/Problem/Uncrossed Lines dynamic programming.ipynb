{
 "cells": [
  {
   "cell_type": "markdown",
   "metadata": {},
   "source": [
    "You are given two integer arrays nums1 and nums2. We write the integers of nums1 and nums2 (in the order they are given) on two separate horizontal lines.\n",
    "\n",
    "We may draw connecting lines: a straight line connecting two numbers nums1[i] and nums2[j] such that:\n",
    "\n",
    "nums1[i] == nums2[j], and\n",
    "the line we draw does not intersect any other connecting (non-horizontal) line.\n",
    "Note that a connecting line cannot intersect even at the endpoints (i.e., each number can only belong to one connecting line).\n",
    "\n",
    "Return the maximum number of connecting lines we can draw in this way.\n",
    "\n",
    " \n",
    "\n",
    "Example 1:\n",
    "\n",
    "\n",
    "Input: nums1 = [1,4,2], nums2 = [1,2,4]\n",
    "Output: 2\n",
    "Explanation: We can draw 2 uncrossed lines as in the diagram.\n",
    "We cannot draw 3 uncrossed lines, because the line from nums1[1] = 4 to nums2[2] = 4 will intersect the line from nums1[2]=2 to nums2[1]=2.\n",
    "Example 2:\n",
    "\n",
    "Input: nums1 = [2,5,1,2,5], nums2 = [10,5,2,1,5,2]\n",
    "Output: 3\n",
    "Example 3:\n",
    "\n",
    "Input: nums1 = [1,3,7,1,7,5], nums2 = [1,9,2,5,1]\n",
    "Output: 2\n",
    " \n",
    "\n",
    "Constraints:\n",
    "\n",
    "1 <= nums1.length, nums2.length <= 500\n",
    "1 <= nums1[i], nums2[j] <= 2000\n",
    "\n",
    "hint : Think dynamic programming. Given an oracle dp(i,j) that tells us how many lines A[i:], B[j:] [the sequence A[i], A[i+1], ... and B[j], B[j+1], ...] are uncrossed, can we write this as a recursion?\n",
    "\n",
    "LCS Longest Common Substring 문제제"
   ]
  },
  {
   "cell_type": "code",
   "execution_count": 3,
   "metadata": {},
   "outputs": [
    {
     "data": {
      "text/plain": [
       "[[0, 0, 0, 0], [0, 0, 0, 0], [0, 0, 0, 0], [0, 0, 0, 0], [0, 0, 0, 0]]"
      ]
     },
     "execution_count": 3,
     "metadata": {},
     "output_type": "execute_result"
    }
   ],
   "source": [
    "# test = [5,1,6346,12,-531,6]\n",
    "# # test[2:]\n",
    "# test = test[::-1]\n",
    "# test\n",
    "dp = [[0]*4 for _ in range(5)] # 5 * 4 matrix\n",
    "dp"
   ]
  },
  {
   "cell_type": "code",
   "execution_count": null,
   "metadata": {},
   "outputs": [],
   "source": [
    "# Python DP..! \n",
    "class Solution:\n",
    "    def maxUncrossedLines(self, nums1: List[int], nums2: List[int]) -> int:\n",
    "        m, n = len(nums1),len(nums2)\n",
    "        # DP initialize\n",
    "        dp = [[0]*(n+1) for _ in range(m+1)] # m+1 * n+1 matrix\n",
    "        # Fill DP\n",
    "        for i in range(1,m+1):\n",
    "            for j in range(1,n+1):\n",
    "                if nums1[i-1] == nums2[j-1]:\n",
    "                    # if elements match, add 1 to the result of excluding these elements\n",
    "                    dp[i][j] = dp[i-1][j-1] + 1\n",
    "                else:\n",
    "                    # O.W take the maximum of excluding the current element\n",
    "                    dp[i][j] = max(dp[i-1][j],dp[i][j-1])\n",
    "        return dp[m][n]"
   ]
  },
  {
   "cell_type": "code",
   "execution_count": null,
   "metadata": {},
   "outputs": [],
   "source": [
    "# DP 그려지는 예시\n",
    "# dp = [[0, 0, 0, 0, 0, 0, 0],\n",
    "#       [0, 0, 0, 0, 0, 1, 1],\n",
    "#       [0, 0, 1, 1, 1, 1, 1],\n",
    "#       [0, 0, 1, 1, 2, 2, 2],\n",
    "#       [0, 0, 1, 2, 2, 2, 3],\n",
    "#       [0, 0, 1, 2, 2, 3, 3]]"
   ]
  },
  {
   "cell_type": "code",
   "execution_count": null,
   "metadata": {},
   "outputs": [],
   "source": [
    "# C++\n",
    "class Solution {\n",
    "public:\n",
    "    int maxUncrossedLines(vector<int>& nums1, vector<int>& nums2) {\n",
    "        int m = nums1.size();\n",
    "        int n = nums2.size();\n",
    "        \n",
    "        vector<vector<int>> dp(m+1,vector<int>(n+1,0)); // m+1 * n+1\n",
    "        for(int i=1;i<=m;i++){\n",
    "            for(int j=1;j<=n;j++){\n",
    "                if(nums1[i-1]==nums2[j-1]){\n",
    "                    dp[i][j] = dp[i-1][j-1]+1;\n",
    "                }\n",
    "                else{\n",
    "                    dp[i][j] = max(dp[i-1][j],dp[i][j-1]);\n",
    "                }\n",
    "            }\n",
    "        }\n",
    "        return dp[m][n];\n",
    "    }\n",
    "};"
   ]
  },
  {
   "cell_type": "code",
   "execution_count": null,
   "metadata": {},
   "outputs": [],
   "source": []
  }
 ],
 "metadata": {
  "kernelspec": {
   "display_name": "base",
   "language": "python",
   "name": "python3"
  },
  "language_info": {
   "codemirror_mode": {
    "name": "ipython",
    "version": 3
   },
   "file_extension": ".py",
   "mimetype": "text/x-python",
   "name": "python",
   "nbconvert_exporter": "python",
   "pygments_lexer": "ipython3",
   "version": "3.11.5"
  }
 },
 "nbformat": 4,
 "nbformat_minor": 2
}
