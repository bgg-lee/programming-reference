{
 "cells": [
  {
   "cell_type": "markdown",
   "id": "35319890",
   "metadata": {},
   "source": [
    "You are given a string s consisting of lowercase English letters, and an integer k.\n",
    "\n",
    "First, convert s into an integer by replacing each letter with its position in the alphabet (i.e., replace 'a' with 1, 'b' with 2, ..., 'z' with 26). Then, transform the integer by replacing it with the sum of its digits. Repeat the transform operation k times in total.\n",
    "\n",
    "For example, if s = \"zbax\" and k = 2, then the resulting integer would be 8 by the following operations:\n",
    "\n",
    "Convert: \"zbax\" ➝ \"(26)(2)(1)(24)\" ➝ \"262124\" ➝ 262124\n",
    "Transform #1: 262124 ➝ 2 + 6 + 2 + 1 + 2 + 4 ➝ 17\n",
    "Transform #2: 17 ➝ 1 + 7 ➝ 8\n",
    "Return the resulting integer after performing the operations described above.\n",
    "\n",
    " \n",
    "\n",
    "Example 1:\n",
    "\n",
    "Input: s = \"iiii\", k = 1\n",
    "Output: 36\n",
    "Explanation: The operations are as follows:\n",
    "- Convert: \"iiii\" ➝ \"(9)(9)(9)(9)\" ➝ \"9999\" ➝ 9999\n",
    "- Transform #1: 9999 ➝ 9 + 9 + 9 + 9 ➝ 36\n",
    "Thus the resulting integer is 36.\n",
    "Example 2:\n",
    "\n",
    "Input: s = \"leetcode\", k = 2\n",
    "Output: 6\n",
    "Explanation: The operations are as follows:\n",
    "- Convert: \"leetcode\" ➝ \"(12)(5)(5)(20)(3)(15)(4)(5)\" ➝ \"12552031545\" ➝ 12552031545\n",
    "- Transform #1: 12552031545 ➝ 1 + 2 + 5 + 5 + 2 + 0 + 3 + 1 + 5 + 4 + 5 ➝ 33\n",
    "- Transform #2: 33 ➝ 3 + 3 ➝ 6\n",
    "Thus the resulting integer is 6.\n",
    "Example 3:\n",
    "\n",
    "Input: s = \"zbax\", k = 2\n",
    "Output: 8\n",
    " \n",
    "\n",
    "Constraints:\n",
    "\n",
    "1 <= s.length <= 100\n",
    "1 <= k <= 10\n",
    "s consists of lowercase English letters."
   ]
  },
  {
   "cell_type": "code",
   "execution_count": null,
   "id": "f492979f",
   "metadata": {},
   "outputs": [],
   "source": [
    "## 이 문제의 관건은 Character를 어떻게 int로 나타내는지~를 보는 듯 하다.\n",
    "# 1 . C++\n",
    "class Solution {\n",
    "public:\n",
    "    int getLucky(string s, int k) {\n",
    "        string num = \"\";\n",
    "        for(char c : s){\n",
    "            num += to_string(c-'a'+1);\n",
    "        }\n",
    "\n",
    "        while(k>0){\n",
    "            int temp = 0;\n",
    "            for(char ch : num){\n",
    "                temp += ch - '0';\n",
    "            }\n",
    "            k--;\n",
    "            num = to_string(temp);\n",
    "        }\n",
    "        return stoi(num);\n",
    "    }\n",
    "};"
   ]
  },
  {
   "cell_type": "code",
   "execution_count": null,
   "id": "65df7087",
   "metadata": {},
   "outputs": [],
   "source": [
    "# 2 . Python 특이하게 ch의 유니코드를 ord 함수로 나타낸다\n",
    "class Solution:\n",
    "    def getLucky(self, s: str, k: int) -> int:\n",
    "        num = \"\"\n",
    "        for i in range(len(s)):\n",
    "            num += str(ord(s[i])-ord('a')+1)\n",
    "        \n",
    "        while k != 0 :\n",
    "            temp = 0\n",
    "            for j in range(len(num)):\n",
    "                temp += int(num[j])\n",
    "            k-=1\n",
    "            num = str(temp)\n",
    "        return int(num)"
   ]
  },
  {
   "cell_type": "code",
   "execution_count": null,
   "id": "0215469f",
   "metadata": {},
   "outputs": [],
   "source": []
  },
  {
   "cell_type": "code",
   "execution_count": 15,
   "id": "3cc86f32",
   "metadata": {
    "scrolled": true
   },
   "outputs": [
    {
     "data": {
      "text/plain": [
       "int"
      ]
     },
     "execution_count": 15,
     "metadata": {},
     "output_type": "execute_result"
    }
   ],
   "source": [
    "test = 'a'\n",
    "type(ord(test))\n"
   ]
  },
  {
   "cell_type": "code",
   "execution_count": 14,
   "id": "b1cd2f5b",
   "metadata": {},
   "outputs": [
    {
     "name": "stdout",
     "output_type": "stream",
     "text": [
      "Help on built-in function ord in module builtins:\n",
      "\n",
      "ord(c, /)\n",
      "    Return the Unicode code point for a one-character string.\n",
      "\n"
     ]
    }
   ],
   "source": [
    "help(ord)"
   ]
  },
  {
   "cell_type": "code",
   "execution_count": null,
   "id": "1ae3d0af",
   "metadata": {},
   "outputs": [],
   "source": []
  }
 ],
 "metadata": {
  "kernelspec": {
   "display_name": "Python 3 (ipykernel)",
   "language": "python",
   "name": "python3"
  },
  "language_info": {
   "codemirror_mode": {
    "name": "ipython",
    "version": 3
   },
   "file_extension": ".py",
   "mimetype": "text/x-python",
   "name": "python",
   "nbconvert_exporter": "python",
   "pygments_lexer": "ipython3",
   "version": "3.11.5"
  }
 },
 "nbformat": 4,
 "nbformat_minor": 5
}
