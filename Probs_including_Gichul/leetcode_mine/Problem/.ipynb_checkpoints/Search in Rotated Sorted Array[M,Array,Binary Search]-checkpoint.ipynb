{
 "cells": [
  {
   "cell_type": "markdown",
   "id": "f9f555cd",
   "metadata": {},
   "source": [
    "There is an integer array nums sorted in ascending order (with distinct values).\n",
    "\n",
    "Prior to being passed to your function, nums is possibly rotated at an unknown pivot index k (1 <= k < nums.length) such that the resulting array is [nums[k], nums[k+1], ..., nums[n-1], nums[0], nums[1], ..., nums[k-1]] (0-indexed). For example, [0,1,2,4,5,6,7] might be rotated at pivot index 3 and become [4,5,6,7,0,1,2].\n",
    "\n",
    "Given the array nums after the possible rotation and an integer target, return the index of target if it is in nums, or -1 if it is not in nums.\n",
    "\n",
    "You must write an algorithm with O(log n) runtime complexity.\n",
    "\n",
    "\n",
    "---\n",
    "Example 1:\n",
    "\n",
    "Input: nums = [4,5,6,7,0,1,2], target = 0\n",
    "Output: 4\n",
    "Example 2:\n",
    "\n",
    "Input: nums = [4,5,6,7,0,1,2], target = 3\n",
    "Output: -1\n",
    "Example 3:\n",
    "\n",
    "Input: nums = [1], target = 0\n",
    "Output: -1\n",
    "\n",
    "---\n",
    "Constraints:\n",
    "\n",
    "1 <= nums.length <= 5000\n",
    "-104 <= nums[i] <= 104\n",
    "All values of nums are unique.\n",
    "nums is an ascending array that is possibly rotated.\n",
    "-104 <= target <= 104\n"
   ]
  },
  {
   "cell_type": "code",
   "execution_count": 2,
   "id": "f08b7bd5",
   "metadata": {},
   "outputs": [
    {
     "data": {
      "text/plain": [
       "1"
      ]
     },
     "execution_count": 2,
     "metadata": {},
     "output_type": "execute_result"
    }
   ],
   "source": [
    "#C\n",
    "#Binary Search\n",
    "int search(int* nums, int numsSize, int target) {\n",
    "    int s = 0;\n",
    "    int e = numsSize-1;\n",
    "\n",
    "    while(s<=e){\n",
    "        int mid = s+(e-s)/2;\n",
    "        if(nums[mid] == target) return mid;\n",
    "\n",
    "        else if(nums[s] <= nums[mid]){\n",
    "            if( nums[mid]>= target && nums[s] <= target){\n",
    "                e = mid-1;\n",
    "            }else{\n",
    "                s = mid+1;\n",
    "            }\n",
    "        }\n",
    "        \n",
    "        else{\n",
    "            if( nums[mid] <= target && nums[e] >= target ){\n",
    "                s = mid+1;\n",
    "            }else{\n",
    "                e = mid-1;\n",
    "            }\n",
    "\n",
    "        }\n",
    "    }\n",
    "        return -1;\n",
    "}"
   ]
  },
  {
   "cell_type": "code",
   "execution_count": null,
   "id": "a4f8316f",
   "metadata": {},
   "outputs": [],
   "source": [
    "# C++\n",
    "class Solution {\n",
    "public:\n",
    "    int search(vector<int>& nums, int target) {\n",
    "        int s = 0;\n",
    "        int e = nums.size()-1;\n",
    "\n",
    "        while(s<=e){\n",
    "            int mid = s+(e-s)/2;\n",
    "\n",
    "            if(nums[mid]==target) return mid;\n",
    "            else if(nums[s] <= nums[mid]){\n",
    "                if(nums[mid] >= target && nums[s] <= target){\n",
    "                    e = mid-1;\n",
    "                }else{\n",
    "                    s = mid+1;\n",
    "                    }\n",
    "            }\n",
    "            else{\n",
    "                if(nums[mid] <= target && nums[e] >= target){\n",
    "                    s = mid+1;\n",
    "                }else{\n",
    "                    e = mid-1;\n",
    "                    }\n",
    "            }\n",
    "            \n",
    "        }\n",
    "        return -1;\n",
    "    }\n",
    "};"
   ]
  },
  {
   "cell_type": "code",
   "execution_count": null,
   "id": "1a712398",
   "metadata": {},
   "outputs": [],
   "source": [
    "# Python\n",
    "class Solution:\n",
    "    def search(self, nums: List[int], target: int) -> int:\n",
    "        try:\n",
    "            idx = nums.index(target)\n",
    "            return idx\n",
    "        except: return -1"
   ]
  },
  {
   "cell_type": "code",
   "execution_count": null,
   "id": "eca9b73e",
   "metadata": {},
   "outputs": [],
   "source": [
    "class Solution:\n",
    "    def search(self, nums: List[int], target: int) -> int:\n",
    "        i = 0\n",
    "        j = len(nums) - 1\n",
    "\n",
    "        while i <= j:\n",
    "            k = (i + j) // 2\n",
    "            if nums[k] == target:\n",
    "                return k\n",
    "            elif nums[i] <= nums[k]:\n",
    "                if target >= nums[i] and target < nums[k]:\n",
    "                    j = k - 1\n",
    "                else:\n",
    "                    i = k + 1\n",
    "            elif nums[i] > nums[k]:\n",
    "                if target <= nums[j] and target > nums[k]:\n",
    "                    i = k + 1\n",
    "                else:\n",
    "                    j = k - 1\n",
    "        return -1"
   ]
  }
 ],
 "metadata": {
  "kernelspec": {
   "display_name": "Python 3 (ipykernel)",
   "language": "python",
   "name": "python3"
  },
  "language_info": {
   "codemirror_mode": {
    "name": "ipython",
    "version": 3
   },
   "file_extension": ".py",
   "mimetype": "text/x-python",
   "name": "python",
   "nbconvert_exporter": "python",
   "pygments_lexer": "ipython3",
   "version": "3.11.5"
  }
 },
 "nbformat": 4,
 "nbformat_minor": 5
}
