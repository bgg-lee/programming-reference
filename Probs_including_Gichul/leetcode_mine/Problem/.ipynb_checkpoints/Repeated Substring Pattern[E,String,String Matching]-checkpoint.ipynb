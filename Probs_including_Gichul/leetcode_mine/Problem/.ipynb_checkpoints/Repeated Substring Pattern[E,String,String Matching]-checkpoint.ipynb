{
 "cells": [
  {
   "cell_type": "markdown",
   "id": "dfa1905d",
   "metadata": {},
   "source": [
    "Given a string s, check if it can be constructed by taking a substring of it and appending multiple copies of the substring together.\n",
    "\n",
    " \n",
    "\n",
    "Example 1:\n",
    "\n",
    "Input: s = \"abab\"\n",
    "Output: true\n",
    "Explanation: It is the substring \"ab\" twice.\n",
    "Example 2:\n",
    "\n",
    "Input: s = \"aba\"\n",
    "Output: false\n",
    "Example 3:\n",
    "\n",
    "Input: s = \"abcabcabcabc\"\n",
    "Output: true\n",
    "Explanation: It is the substring \"abc\" four times or the substring \"abcabc\" twice.\n",
    " \n",
    "\n",
    "Constraints:\n",
    "\n",
    "1 <= s.length <= 104\n",
    "s consists of lowercase English letters."
   ]
  },
  {
   "cell_type": "code",
   "execution_count": null,
   "id": "463e6a2d",
   "metadata": {},
   "outputs": [],
   "source": [
    "1. C\n",
    "bool repeatedSubstringPattern(char* s) {\n",
    "    int n = strlen(s);\n",
    "    for(int i=1;i<=n/2;i++){\n",
    "        int idx = 0;\n",
    "        if(n%i==0){\n",
    "            while(idx+i < n){\n",
    "                if(s[idx]==s[idx+i]){\n",
    "                    idx++;\n",
    "                }else break;\n",
    "            }\n",
    "            if(idx+i == n) return true;\n",
    "        }\n",
    "    }\n",
    "    return false;\n",
    "}\n",
    "\n",
    "#include <stdbool.h>\n",
    "#include <string.h>\n",
    "\n",
    "bool repeatedSubstringPattern(char* s) {\n",
    "    int n = strlen(s);\n",
    "    for(int i = 1; i <= n / 2; i++) {\n",
    "        if(n % i == 0) {\n",
    "            int j = 0;\n",
    "            while(j < n - i) {\n",
    "                if(s[j] != s[j + i]) {\n",
    "                    break;\n",
    "                }\n",
    "                j++;\n",
    "            }\n",
    "            if(j == n - i) return true;\n",
    "        }\n",
    "    }\n",
    "    return false;\n",
    "}\n"
   ]
  },
  {
   "cell_type": "code",
   "execution_count": null,
   "id": "20fb19b4",
   "metadata": {},
   "outputs": [],
   "source": [
    "2. C++\n",
    "class Solution {\n",
    "public:\n",
    "    bool repeatedSubstringPattern(string s) {\n",
    "        int n = s.size();\n",
    "        for(int i=1;i<=n/2;i++){\n",
    "            if(n % i==0){\n",
    "                int j = 0;\n",
    "                while(j < n-i ){\n",
    "                    if(s[j]!=s[j+i]){\n",
    "                        break;\n",
    "                    }else j++;\n",
    "                }\n",
    "                if(j==n-i) return true;\n",
    "            }\n",
    "        }\n",
    "        return false;\n",
    "    }\n",
    "};"
   ]
  },
  {
   "cell_type": "code",
   "execution_count": null,
   "id": "2d84bcfc",
   "metadata": {},
   "outputs": [],
   "source": [
    "3. Python\n",
    "\n",
    "좀 다른 방식으로 접근, 사실 이해는 안 가는데 모범답안 중에 있던 case다.\n",
    "\n",
    "class Solution:\n",
    "    def repeatedSubstringPattern(self, s: str) -> bool:\n",
    "        s2 = s*2\n",
    "        s3 = s2[1:-1]\n",
    "        return s in s3"
   ]
  },
  {
   "cell_type": "code",
   "execution_count": 5,
   "id": "28d2afdd",
   "metadata": {},
   "outputs": [
    {
     "data": {
      "text/plain": [
       "'ab'"
      ]
     },
     "execution_count": 5,
     "metadata": {},
     "output_type": "execute_result"
    }
   ],
   "source": [
    "test[:-1]"
   ]
  },
  {
   "cell_type": "code",
   "execution_count": 11,
   "id": "030ff53f",
   "metadata": {},
   "outputs": [
    {
     "data": {
      "text/plain": [
       "-1"
      ]
     },
     "execution_count": 11,
     "metadata": {},
     "output_type": "execute_result"
    }
   ],
   "source": [
    "test =\"abc\"\n",
    "test[:-1].find(\"c\")"
   ]
  }
 ],
 "metadata": {
  "kernelspec": {
   "display_name": "Python 3 (ipykernel)",
   "language": "python",
   "name": "python3"
  },
  "language_info": {
   "codemirror_mode": {
    "name": "ipython",
    "version": 3
   },
   "file_extension": ".py",
   "mimetype": "text/x-python",
   "name": "python",
   "nbconvert_exporter": "python",
   "pygments_lexer": "ipython3",
   "version": "3.11.5"
  }
 },
 "nbformat": 4,
 "nbformat_minor": 5
}
