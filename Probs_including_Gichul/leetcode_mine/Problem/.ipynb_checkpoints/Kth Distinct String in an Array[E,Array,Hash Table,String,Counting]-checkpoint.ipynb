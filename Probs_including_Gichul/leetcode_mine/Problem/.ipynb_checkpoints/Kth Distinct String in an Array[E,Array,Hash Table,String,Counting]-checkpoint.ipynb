{
 "cells": [
  {
   "cell_type": "markdown",
   "id": "cf5c2092",
   "metadata": {},
   "source": [
    "A distinct string is a string that is present only once in an array.\n",
    "\n",
    "Given an array of strings arr, and an integer k, return the kth distinct string present in arr. If there are fewer than k distinct strings, return an empty string \"\".\n",
    "\n",
    "Note that the strings are considered in the order in which they appear in the array.\n",
    "\n",
    " ---------\n",
    "\n",
    "Example 1:\n",
    "\n",
    "Input: arr = [\"d\",\"b\",\"c\",\"b\",\"c\",\"a\"], k = 2\n",
    "Output: \"a\"\n",
    "Explanation:\n",
    "The only distinct strings in arr are \"d\" and \"a\".\n",
    "\"d\" appears 1st, so it is the 1st distinct string.\n",
    "\"a\" appears 2nd, so it is the 2nd distinct string.\n",
    "Since k == 2, \"a\" is returned. \n",
    "--------\n",
    "Example 2:\n",
    "\n",
    "Input: arr = [\"aaa\",\"aa\",\"a\"], k = 1\n",
    "Output: \"aaa\"\n",
    "Explanation:\n",
    "All strings in arr are distinct, so the 1st string \"aaa\" is returned.\n",
    "Example 3:\n",
    "    ----------\n",
    "\n",
    "Input: arr = [\"a\",\"b\",\"a\"], k = 3\n",
    "Output: \"\"\n",
    "Explanation:\n",
    "The only distinct string is \"b\". Since there are fewer than 3 distinct strings, we return an empty string \"\".\n",
    " \n",
    "------\n",
    "Constraints:\n",
    "\n",
    "1 <= k <= arr.length <= 1000\n",
    "1 <= arr[i].length <= 5\n",
    "arr[i] consists of lowercase English letters."
   ]
  },
  {
   "cell_type": "code",
   "execution_count": 33,
   "id": "4d47478c",
   "metadata": {},
   "outputs": [
    {
     "name": "stdout",
     "output_type": "stream",
     "text": [
      "[[0, 'd'], [5, 'a']] 2\n"
     ]
    },
    {
     "data": {
      "text/plain": [
       "''"
      ]
     },
     "execution_count": 33,
     "metadata": {},
     "output_type": "execute_result"
    }
   ],
   "source": [
    "def kthDistinct(arr, k: int) -> str:\n",
    "    dic = {}\n",
    "    for i,x in enumerate(arr):\n",
    "        if x not in dic :\n",
    "            dic[x] = [i,1]\n",
    "        else:\n",
    "            dic[x][1]+=1\n",
    "    lst = []\n",
    "    for x,y in dic.items():\n",
    "        if y[1] == 1:\n",
    "            lst.append([y[0],x])\n",
    "    lst.sort()\n",
    "    print(lst,len(lst))\n",
    "    if len(lst) < k : return \"\"\n",
    "    else :\n",
    "        return lst[k-1][1]\n",
    "    \n",
    "kthDistinct([\"d\",\"b\",\"c\",\"b\",\"c\",\"a\"],2)"
   ]
  },
  {
   "cell_type": "code",
   "execution_count": null,
   "id": "586807cd",
   "metadata": {},
   "outputs": [],
   "source": [
    "#Python\n",
    "class Solution:\n",
    "    def kthDistinct(self, arr: List[str], k: int) -> str:\n",
    "        dic = {}\n",
    "        for i,x in enumerate(arr):\n",
    "            if x not in dic :\n",
    "                dic[x] = [i,1]\n",
    "            else:\n",
    "                dic[x][1]+=1\n",
    "        lst = []\n",
    "        for x,y in dic.items():\n",
    "            if y[1] == 1:\n",
    "                lst.append([y[0],x])\n",
    "        lst.sort()\n",
    "        if len(lst) < k : return \"\"\n",
    "        else :\n",
    "            return lst[k-1][1]\n",
    "#조잡한 내 풀이 ㅠ"
   ]
  },
  {
   "cell_type": "code",
   "execution_count": 41,
   "id": "893f9f74",
   "metadata": {},
   "outputs": [
    {
     "data": {
      "text/plain": [
       "Counter({'AAA': 2, 'BBB': 1, 123: 1})"
      ]
     },
     "execution_count": 41,
     "metadata": {},
     "output_type": "execute_result"
    }
   ],
   "source": [
    "from collections import Counter\n",
    "test = [\"AAA\",\"BBB\",\"AAA\",123]\n",
    "Counter(test)\n",
    "# 얘를 알고 있으면 한 번에 끝날수도..!"
   ]
  },
  {
   "cell_type": "code",
   "execution_count": null,
   "id": "5cef32af",
   "metadata": {},
   "outputs": [],
   "source": [
    "class Solution:\n",
    "    def kthDistinct(self, arr: List[str], k: int) -> str:\n",
    "        d={}\n",
    "        for i in arr:\n",
    "            if i in d:\n",
    "                d[i]+=1\n",
    "            else:\n",
    "                d[i]=1\n",
    "        c=\"\"\n",
    "        n=0\n",
    "        for i,j in d.items():\n",
    "            if j==1:\n",
    "                c=i\n",
    "                n+=1\n",
    "            if n==k:\n",
    "                return i\n",
    "        return \"\"\n",
    "class Solution:\n",
    "    from collections import Counter\n",
    "    def kthDistinct(self, arr: List[str], k: int) -> str:\n",
    "        seen = Counter(arr)\n",
    "        for i in arr:\n",
    "            if seen[i] == 1:\n",
    "                k -= 1\n",
    "            if k == 0:\n",
    "                return i\n",
    "        return \"\""
   ]
  },
  {
   "cell_type": "code",
   "execution_count": null,
   "id": "fb78459e",
   "metadata": {},
   "outputs": [],
   "source": [
    "#C가 문제다.\n",
    "#GPT꺼 복붙.. 좀 심각하다 이건\n",
    "#include <stdio.h>\n",
    "#include <stdlib.h>\n",
    "#include <string.h>\n",
    "\n",
    "#define MAX_STRINGS 1000\n",
    "\n",
    "char* kthDistinct(char** arr, int arrSize, int k) {\n",
    "    char* uniqueArr[MAX_STRINGS];\n",
    "    int uniqueCount[MAX_STRINGS];\n",
    "    int uniqueSize = 0;\n",
    "\n",
    "    // 빈도 계산\n",
    "    for (int i = 0; i < arrSize; i++) {\n",
    "        int found = 0;\n",
    "        for (int j = 0; j < uniqueSize; j++) {\n",
    "            if (strcmp(uniqueArr[j], arr[i]) == 0) {\n",
    "                uniqueCount[j]++;\n",
    "                found = 1;\n",
    "                break;\n",
    "            }\n",
    "        }\n",
    "        if (!found) {\n",
    "            uniqueArr[uniqueSize] = arr[i];\n",
    "            uniqueCount[uniqueSize] = 1;\n",
    "            uniqueSize++;\n",
    "        }\n",
    "    }\n",
    "\n",
    "    // 고유 문자열 찾기\n",
    "    int count = 0;\n",
    "    for (int i = 0; i < arrSize; i++) {\n",
    "        for (int j = 0; j < uniqueSize; j++) {\n",
    "            if (strcmp(uniqueArr[j], arr[i]) == 0 && uniqueCount[j] == 1) {\n",
    "                count++;\n",
    "                if (count == k) {\n",
    "                    return arr[i];\n",
    "                }\n",
    "            }\n",
    "        }\n",
    "    }\n",
    "\n",
    "    return \"\";\n",
    "}\n"
   ]
  },
  {
   "cell_type": "code",
   "execution_count": null,
   "id": "8eecfa4d",
   "metadata": {},
   "outputs": [],
   "source": [
    "### C에서 두 string이 같은 지 비교하는 strcmp! 같으면 0반환하고 string.h include가 필요하다.\n",
    "char* kthDistinct(char** arr, int arrSize, int k) {\n",
    "    int count=0;\n",
    "    int n= arrSize;\n",
    "    for(int i=0;i<n;i++)\n",
    "    {\n",
    "        int j;\n",
    "        for(j=0;j<n;j++)\n",
    "        {\n",
    "            if(i!=j&&strcmp(arr[j],arr[i])==0) ##동일한 놈 찾으면 break\n",
    "            {\n",
    "                break;\n",
    "            }\n",
    "        }\n",
    "        if(j==n){\n",
    "            count++;\n",
    "        }\n",
    "        if(count==k)\n",
    "        {\n",
    "            return arr[i];\n",
    "        }\n",
    "    }\n",
    "    return \"\";"
   ]
  },
  {
   "cell_type": "code",
   "execution_count": null,
   "id": "4325a663",
   "metadata": {},
   "outputs": [],
   "source": [
    "#C++\n",
    "class Solution {\n",
    "public:\n",
    "    string kthDistinct(vector<string>& arr, int k) {\n",
    "        unordered_map<string,int> m;\n",
    "        for(auto x : arr){\n",
    "            if(m.count(x)==0){\n",
    "                m[x] = 1;\n",
    "            }else{\n",
    "                m[x]++;\n",
    "            }\n",
    "        }\n",
    "        int cnt = 0;\n",
    "        for(auto &x : arr){ \n",
    "## 여기서 위 for문 arr와 순서를 맞춰줘야함\n",
    "## 그냥 for(auto x : m) 하고, x.first / x.second 하면 순서가 바뀌어서 답이 이상해진다.\n",
    "## MAP에 들어가는 순간 지 마음대로 map 데이터가 정렬된다고 보면 된다.(Python과 다름)\n",
    "## 그냥 MAP - Red Black Tree 기반으로 저장 / unordered-map - Hash table 기반으로 데이터 저장\n",
    "            if(m[x] == 1){\n",
    "                cnt++;\n",
    "                if(cnt==k){\n",
    "                    return x;\n",
    "                }\n",
    "            }\n",
    "        }\n",
    "        return \"\";\n",
    "    }\n",
    "};"
   ]
  }
 ],
 "metadata": {
  "kernelspec": {
   "display_name": "Python 3 (ipykernel)",
   "language": "python",
   "name": "python3"
  },
  "language_info": {
   "codemirror_mode": {
    "name": "ipython",
    "version": 3
   },
   "file_extension": ".py",
   "mimetype": "text/x-python",
   "name": "python",
   "nbconvert_exporter": "python",
   "pygments_lexer": "ipython3",
   "version": "3.11.5"
  }
 },
 "nbformat": 4,
 "nbformat_minor": 5
}
