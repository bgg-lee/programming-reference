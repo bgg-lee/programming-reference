{
 "cells": [
  {
   "cell_type": "markdown",
   "id": "c78ae4f7",
   "metadata": {},
   "source": [
    "A parentheses string is valid if and only if:\n",
    "\n",
    "It is the empty string,\n",
    "It can be written as AB (A concatenated with B), where A and B are valid strings, or\n",
    "It can be written as (A), where A is a valid string.\n",
    "You are given a parentheses string s. In one move, you can insert a parenthesis at any position of the string.\n",
    "\n",
    "For example, if s = \"()))\", you can insert an opening parenthesis to be \"(()))\" or a closing parenthesis to be \"())))\".\n",
    "Return the minimum number of moves required to make s valid.\n",
    "\n",
    " \n",
    "\n",
    "Example 1:\n",
    "\n",
    "Input: s = \"())\"\n",
    "Output: 1\n",
    "Example 2:\n",
    "\n",
    "Input: s = \"(((\"\n",
    "Output: 3\n",
    " \n",
    "\n",
    "Constraints:\n",
    "\n",
    "1 <= s.length <= 1000\n",
    "s[i] is either '(' or ')'."
   ]
  },
  {
   "cell_type": "code",
   "execution_count": null,
   "id": "365a9708",
   "metadata": {},
   "outputs": [],
   "source": [
    "# Python\n",
    "class Solution:\n",
    "    def minAddToMakeValid(self, s: str) -> int:\n",
    "        ans = 0\n",
    "        lst = deque()\n",
    "        for x in s :\n",
    "            if x ==')' :\n",
    "                if not lst :\n",
    "                    ans +=1\n",
    "                    continue\n",
    "                if lst[-1] == '(':\n",
    "                    lst.pop()\n",
    "            else : lst.append(x)\n",
    "        return ans + len(lst)"
   ]
  },
  {
   "cell_type": "code",
   "execution_count": null,
   "id": "522b8f34",
   "metadata": {},
   "outputs": [],
   "source": [
    "# C\n",
    "int minAddToMakeValid(char* s) {\n",
    "    int open = 0;\n",
    "    int close = 0;\n",
    "    int n = strlen(s);\n",
    "\n",
    "    for(int i=0;i<n;i++){\n",
    "        if(s[i]=='('){\n",
    "            open++;\n",
    "        }\n",
    "        else{\n",
    "            if(open>0){\n",
    "                open--;\n",
    "            }\n",
    "            else close++;\n",
    "        }\n",
    "    }\n",
    "    return open+close;\n",
    "}"
   ]
  },
  {
   "cell_type": "code",
   "execution_count": null,
   "id": "1d6e9688",
   "metadata": {},
   "outputs": [],
   "source": [
    "# C++\n",
    "class Solution {\n",
    "public:\n",
    "    int minAddToMakeValid(string s) {\n",
    "        stack<char> S;\n",
    "        int ans=0;\n",
    "        for(char ch : s){\n",
    "            if(ch==')'){\n",
    "                if(S.empty()) ans++;\n",
    "                else S.pop();\n",
    "            }\n",
    "            else{\n",
    "                S.push(ch);\n",
    "            }\n",
    "        }\n",
    "        return ans+S.size();\n",
    "    }\n",
    "};\n",
    "\n"
   ]
  },
  {
   "cell_type": "code",
   "execution_count": null,
   "id": "d1ec9a65",
   "metadata": {},
   "outputs": [],
   "source": []
  }
 ],
 "metadata": {
  "kernelspec": {
   "display_name": "Python 3 (ipykernel)",
   "language": "python",
   "name": "python3"
  },
  "language_info": {
   "codemirror_mode": {
    "name": "ipython",
    "version": 3
   },
   "file_extension": ".py",
   "mimetype": "text/x-python",
   "name": "python",
   "nbconvert_exporter": "python",
   "pygments_lexer": "ipython3",
   "version": "3.11.5"
  }
 },
 "nbformat": 4,
 "nbformat_minor": 5
}
