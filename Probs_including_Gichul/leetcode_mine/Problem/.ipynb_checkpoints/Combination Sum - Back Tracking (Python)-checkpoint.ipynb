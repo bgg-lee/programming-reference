{
 "cells": [
  {
   "cell_type": "markdown",
   "id": "64ab3365",
   "metadata": {},
   "source": [
    "6. Combination Sum [7 pt]\n",
    "Given an array of distinct integers numbers and a target integer target, write a function combination_sum(numbers, target) to find all unique combinations in numbers where the candidate numbers sum to target. The same number from numbers can be used multiple times in the combination. Return a list of all unique combinations.\n",
    "\n",
    "Requirements\n",
    "Output must be a list of lists, each sub-list containing an unique combination of numbers with duplicates allowed (i.e. [2,2,2] for making 8).\n",
    "If no such combination exists, return an empty list\n",
    "Hint\n",
    "It may be useful to utilize an auxiliary function count_sums(), for which we have given the header, as your recursive function that can take the current state of the problem (such as the remaining target sum, the current combination being built, and the starting index for candidates) and recursively explore all possible combinations.\n",
    "The use of the auxiliary function count_sum() is optional and not implementing this function will not result in any penalization.\n",
    "If you do not decide to use the auxiliary function, please comment out the function declaration.\n",
    "You are also allowed to use the internal sorted() function that sorts a given list for checking duplicate combinations\n",
    "Example\n",
    "numbers = [2, 3, 6, 7]\n",
    "target = 7\n",
    "print(combination_sum(numbers, target))  # Expected output: \"[[2, 2, 3], [7]]\"\n",
    "numbers = [2]\n",
    "target = 8\n",
    "print(combination_sum(numbers, target))  # Expected output: \"[[2, 2, 2, 2]]\"\n",
    "def combination_sum(numbers, target): #input은 전부 양수라고 가정\n",
    "    if not numbers : return []\n",
    "    result = []\n",
    "    count_sums(0,target,[],result)\n",
    "    return result\n",
    "\n",
    "def count_sums(start,target,current,result):\n",
    "    if target == 0 :\n",
    "        result.append(list(current)) \n",
    "---\n",
    "# result.append(current) 를 하면 current의 주소를 참조해서 더함\n",
    "# -> current가 나중에 바뀌면 result에 더해진 것도 바뀜"
   ]
  },
  {
   "cell_type": "code",
   "execution_count": null,
   "id": "a0bcd1b3",
   "metadata": {},
   "outputs": [],
   "source": [
    "def combination_sum(numbers, target): #input은 전부 양수라고 가정\n",
    "    if not numbers : return []\n",
    "    result = []\n",
    "    count_sums(0,target,[],result)\n",
    "    return result\n",
    "\n",
    "def count_sums(start,target,current,result):\n",
    "    if target == 0 :\n",
    "        result.append(list(current)) \n",
    "# result.append(current) 를 하면 current의 주소를 참조해서 더함\n",
    "# -> current가 나중에 바뀌면 result에 더해진 것도 바뀜\n",
    "        return\n",
    "    if target < 0 :\n",
    "        return\n",
    "    \n",
    "    for i in range(start,len(numbers)):\n",
    "        current.append(numbers[i])\n",
    "        count_sums(i,target-numbers[i],current,result)\n",
    "        current.pop()"
   ]
  },
  {
   "cell_type": "code",
   "execution_count": null,
   "id": "570c14b9",
   "metadata": {},
   "outputs": [],
   "source": [
    "def combination_sum(numbers, target):\n",
    "    results = []\n",
    "    stack = [(0, [], target)]  # (start index, current combination, remaining target)\n",
    "\n",
    "    while stack:\n",
    "        start, current_combination, current_target = stack.pop()\n",
    "\n",
    "        if current_target == 0:\n",
    "            results.append(current_combination)\n",
    "            continue\n",
    "        if current_target < 0:\n",
    "            continue\n",
    "\n",
    "        for i in range(start, len(numbers)):\n",
    "            new_combination = current_combination + [numbers[i]]\n",
    "            new_target = current_target - numbers[i]\n",
    "            stack.append((i, new_combination, new_target))\n",
    "\n",
    "    return results\n",
    "\n",
    "# 테스트 코드\n",
    "numbers = [2, 3, 6, 7]\n",
    "target = 7\n",
    "print(combination_sum(numbers, target))  # Expected output: [[2, 2, 3], [7]]\n",
    "numbers = [2]\n",
    "target = 8\n",
    "print(combination_sum(numbers, target))  # Expected output: [[2, 2, 2, 2]]"
   ]
  }
 ],
 "metadata": {
  "kernelspec": {
   "display_name": "Python 3 (ipykernel)",
   "language": "python",
   "name": "python3"
  },
  "language_info": {
   "codemirror_mode": {
    "name": "ipython",
    "version": 3
   },
   "file_extension": ".py",
   "mimetype": "text/x-python",
   "name": "python",
   "nbconvert_exporter": "python",
   "pygments_lexer": "ipython3",
   "version": "3.11.5"
  }
 },
 "nbformat": 4,
 "nbformat_minor": 5
}
