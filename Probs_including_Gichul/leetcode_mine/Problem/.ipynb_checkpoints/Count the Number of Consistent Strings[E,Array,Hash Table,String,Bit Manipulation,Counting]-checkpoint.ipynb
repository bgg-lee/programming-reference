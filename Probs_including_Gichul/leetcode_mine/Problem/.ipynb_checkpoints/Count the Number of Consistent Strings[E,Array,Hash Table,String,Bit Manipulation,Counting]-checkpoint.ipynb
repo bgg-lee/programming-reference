{
 "cells": [
  {
   "cell_type": "markdown",
   "id": "8f100c4f",
   "metadata": {},
   "source": [
    "You are given a string allowed consisting of distinct characters and an array of strings words. A string is consistent if all characters in the string appear in the string allowed.\n",
    "\n",
    "Return the number of consistent strings in the array words.\n",
    "\n",
    "\n",
    "\n",
    "Example 1:\n",
    "\n",
    "Input: allowed = \"ab\", words = [\"ad\",\"bd\",\"aaab\",\"baa\",\"badab\"]\n",
    "Output: 2\n",
    "Explanation: Strings \"aaab\" and \"baa\" are consistent since they only contain characters 'a' and 'b'.\n",
    "Example 2:\n",
    "\n",
    "Input: allowed = \"abc\", words = [\"a\",\"b\",\"c\",\"ab\",\"ac\",\"bc\",\"abc\"]\n",
    "Output: 7\n",
    "Explanation: All strings are consistent.\n",
    "Example 3:\n",
    "\n",
    "Input: allowed = \"cad\", words = [\"cc\",\"acd\",\"b\",\"ba\",\"bac\",\"bad\",\"ac\",\"d\"]\n",
    "Output: 4\n",
    "Explanation: Strings \"cc\", \"acd\", \"ac\", and \"d\" are consistent.\n",
    "\n",
    "\n",
    "Constraints:\n",
    "\n",
    "1 <= words.length <= 104\n",
    "1 <= allowed.length <= 26\n",
    "1 <= words[i].length <= 10\n",
    "The characters in allowed are distinct.\n",
    "words[i] and allowed contain only lowercase English letters.\n"
   ]
  },
  {
   "cell_type": "code",
   "execution_count": 9,
   "id": "da6c4429",
   "metadata": {},
   "outputs": [
    {
     "data": {
      "text/plain": [
       "False"
      ]
     },
     "execution_count": 9,
     "metadata": {},
     "output_type": "execute_result"
    }
   ],
   "source": [
    "s = set()\n",
    "s.add(1)\n",
    "s.add(-4)\n",
    "s.add('a')\n",
    "'b' in s\n"
   ]
  },
  {
   "cell_type": "code",
   "execution_count": null,
   "id": "999af8d5",
   "metadata": {},
   "outputs": [],
   "source": [
    "# Python\n",
    "class Solution:\n",
    "    def countConsistentStrings(self, allowed: str, words: List[str]) -> int:\n",
    "        s= set()\n",
    "        for x in allowed :\n",
    "            s.add(x)\n",
    "        ans = 0\n",
    "        for word in words :\n",
    "            cond = True\n",
    "            for c in word :\n",
    "                if c not in s :\n",
    "                    cond = False\n",
    "                    break\n",
    "            if cond : ans+=1\n",
    "        return ans"
   ]
  },
  {
   "cell_type": "code",
   "execution_count": null,
   "id": "2bfbb35a",
   "metadata": {},
   "outputs": [],
   "source": [
    "class Solution:\n",
    "    def countConsistentStrings(self, allowed: str, words: List[str]) -> int:\n",
    "        char_set = set(allowed)\n",
    "        count = len(words)\n",
    "        for word in words:\n",
    "            for c in word:\n",
    "                if c not in char_set:\n",
    "                    count -= 1\n",
    "                    break\n",
    "        \n",
    "        return count"
   ]
  },
  {
   "cell_type": "code",
   "execution_count": null,
   "id": "e3aaa8da",
   "metadata": {},
   "outputs": [],
   "source": [
    "# C\n",
    "#include <stdio.h>\n",
    "#include <string.h>\n",
    "\n",
    "int countConsistentStrings(char * allowed, char ** words, int wordsSize) {\n",
    "    int allowed_chars[26] = {0};\n",
    "    int count = 0;\n",
    "\n",
    "    // Create a bitmask for allowed characters\n",
    "    for (int i = 0; allowed[i] != '\\0'; i++) {\n",
    "        allowed_chars[allowed[i] - 'a'] = 1;\n",
    "    }\n",
    "\n",
    "    // Check each word for consistency\n",
    "    for (int i = 0; i < wordsSize; i++) {\n",
    "        int consistent = 1;\n",
    "        for (int j = 0; words[i][j] != '\\0'; j++) {\n",
    "            if (allowed_chars[words[i][j] - 'a'] == 0) {\n",
    "                consistent = 0;\n",
    "                break;\n",
    "            }\n",
    "        }\n",
    "        count += consistent;\n",
    "    }\n",
    "\n",
    "    return count;\n",
    "}\n"
   ]
  },
  {
   "cell_type": "code",
   "execution_count": null,
   "id": "2328b6de",
   "metadata": {},
   "outputs": [],
   "source": [
    "# C++\n",
    "class Solution {\n",
    "public:\n",
    "    int countConsistentStrings(string allowed, vector<string>& words) {\n",
    "        int cnt = words.size();\n",
    "        for(string s : words){\n",
    "            for(char c : s){\n",
    "                if(allowed.find(c)==string::npos){\n",
    "                    cnt--;\n",
    "                    break;\n",
    "                }\n",
    "            }\n",
    "        }\n",
    "        return cnt;\n",
    "    }\n",
    "};"
   ]
  }
 ],
 "metadata": {
  "kernelspec": {
   "display_name": "Python 3 (ipykernel)",
   "language": "python",
   "name": "python3"
  },
  "language_info": {
   "codemirror_mode": {
    "name": "ipython",
    "version": 3
   },
   "file_extension": ".py",
   "mimetype": "text/x-python",
   "name": "python",
   "nbconvert_exporter": "python",
   "pygments_lexer": "ipython3",
   "version": "3.11.5"
  }
 },
 "nbformat": 4,
 "nbformat_minor": 5
}
