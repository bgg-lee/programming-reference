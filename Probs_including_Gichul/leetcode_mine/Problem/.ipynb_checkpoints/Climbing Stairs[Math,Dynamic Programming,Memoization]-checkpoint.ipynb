{
 "cells": [
  {
   "cell_type": "markdown",
   "id": "ae1af4a3",
   "metadata": {},
   "source": [
    "You are climbing a staircase. It takes n steps to reach the top.\n",
    "\n",
    "Each time you can either climb 1 or 2 steps. In how many distinct ways can you climb to the top?\n",
    "\n",
    "\n",
    "\n",
    "Example 1:\n",
    "\n",
    "Input: n = 2\n",
    "Output: 2\n",
    "Explanation: There are two ways to climb to the top.\n",
    "1. 1 step + 1 step\n",
    "2. 2 steps\n",
    "Example 2:\n",
    "\n",
    "Input: n = 3\n",
    "Output: 3\n",
    "Explanation: There are three ways to climb to the top.\n",
    "1. 1 step + 1 step + 1 step\n",
    "2. 1 step + 2 steps\n",
    "3. 2 steps + 1 step\n",
    "\n",
    "\n",
    "Constraints:\n",
    "\n",
    "1 <= n <= 45\n"
   ]
  },
  {
   "cell_type": "code",
   "execution_count": null,
   "id": "02da8662",
   "metadata": {},
   "outputs": [],
   "source": [
    "# C\n",
    "int climbStairs(int n) {\n",
    "    if( n<= 1) return 1;\n",
    "\n",
    "    int dp[n+1];\n",
    "    dp[0]=1;\n",
    "    dp[1]=1;\n",
    "\n",
    "    for(int i=2;i<=n;i++){\n",
    "        dp[i] = dp[i-1]+dp[i-2];\n",
    "    }\n",
    "\n",
    "    return dp[n];\n",
    "}"
   ]
  },
  {
   "cell_type": "code",
   "execution_count": null,
   "id": "75d0849d",
   "metadata": {},
   "outputs": [],
   "source": [
    "# C++\n",
    "class Solution {\n",
    "public:\n",
    "    int climbStairs(int n) {\n",
    "        vector<int> dp(n+1,0);\n",
    "        if(n<=3) return n;\n",
    "        dp[1] = 1;\n",
    "        dp[2] = 2;\n",
    "        for(int i=3; i<=n; i++){\n",
    "            dp[i] = dp[i-1]+dp[i-2];\n",
    "        }\n",
    "        return dp[n];\n",
    "    }\n",
    "};"
   ]
  },
  {
   "cell_type": "code",
   "execution_count": null,
   "id": "ee2edfec",
   "metadata": {},
   "outputs": [],
   "source": [
    "# Python, 얘는 dp 공간 사용 X\n",
    "class Solution:\n",
    "    def climbStairs(self, n: int) -> int:\n",
    "        if n<=3 : return n\n",
    "        prev1,prev2 = 1,2\n",
    "        for i in range(3,n+1):\n",
    "            ans = prev1 + prev2\n",
    "            prev1 = prev2\n",
    "            prev2 = ans\n",
    "        return ans"
   ]
  }
 ],
 "metadata": {
  "kernelspec": {
   "display_name": "Python 3 (ipykernel)",
   "language": "python",
   "name": "python3"
  },
  "language_info": {
   "codemirror_mode": {
    "name": "ipython",
    "version": 3
   },
   "file_extension": ".py",
   "mimetype": "text/x-python",
   "name": "python",
   "nbconvert_exporter": "python",
   "pygments_lexer": "ipython3",
   "version": "3.11.5"
  }
 },
 "nbformat": 4,
 "nbformat_minor": 5
}
