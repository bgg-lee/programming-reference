{
 "cells": [
  {
   "cell_type": "markdown",
   "id": "c3291af1",
   "metadata": {},
   "source": [
    "Implement pow(x, n), which calculates x raised to the power n (i.e., xn).\n",
    "\n",
    "\n",
    "\n",
    "Example 1:\n",
    "\n",
    "Input: x = 2.00000, n = 10\n",
    "Output: 1024.00000\n",
    "Example 2:\n",
    "\n",
    "Input: x = 2.10000, n = 3\n",
    "Output: 9.26100\n",
    "Example 3:\n",
    "\n",
    "Input: x = 2.00000, n = -2\n",
    "Output: 0.25000\n",
    "Explanation: 2-2 = 1/22 = 1/4 = 0.25\n",
    "\n",
    "\n",
    "Constraints:\n",
    "\n",
    "-100.0 < x < 100.0\n",
    "-231 <= n <= 231-1\n",
    "n is an integer.\n",
    "Either x is not zero or n > 0.\n",
    "-104 <= xn <= 104"
   ]
  },
  {
   "cell_type": "code",
   "execution_count": null,
   "id": "dea3183c",
   "metadata": {},
   "outputs": [],
   "source": [
    "1.C, 사실 그냥 pow(x,n) 하는게 1등이긴하다. 요지는, recurse 깊이를 줄이기\n",
    "double myPow(double x, int n) {\n",
    "    if(n==0) return 1;\n",
    "    long long N = n;\n",
    "    if(N<0){\n",
    "        x = 1 / x ;\n",
    "        N = -(N);\n",
    "    }\n",
    "    double half = myPow(x, N/2);\n",
    "    if(N%2 == 0){ //even num\n",
    "        return half*half;\n",
    "    }else{\n",
    "        return half*half*x;\n",
    "    }\n",
    "}"
   ]
  },
  {
   "cell_type": "code",
   "execution_count": null,
   "id": "b69b94d9",
   "metadata": {},
   "outputs": [],
   "source": [
    "2 C++\n",
    "class Solution {\n",
    "public:\n",
    "    double myPow(double x, int n) {\n",
    "        if(n==0) return 1;\n",
    "        long long N = n;\n",
    "        if(N<0){\n",
    "            x = 1/x;\n",
    "            N = (-N);\n",
    "        }\n",
    "        double half = myPow(x,N/2);\n",
    "        if(N%2==0) return half*half;\n",
    "        else return half*half*x;\n",
    "    }\n",
    "};"
   ]
  },
  {
   "cell_type": "code",
   "execution_count": null,
   "id": "8ef03cf0",
   "metadata": {},
   "outputs": [],
   "source": [
    "3. python - recursion depth limited;;\n",
    "class Solution:\n",
    "    def myPow(self, x: float, n: int) -> float:\n",
    "        if n==0 : return 1\n",
    "        elif n>0 : return x*self.myPow(x,n-1)\n",
    "        else : return 1/(x*self.myPow(x,-n-1))"
   ]
  }
 ],
 "metadata": {
  "kernelspec": {
   "display_name": "Python 3 (ipykernel)",
   "language": "python",
   "name": "python3"
  },
  "language_info": {
   "codemirror_mode": {
    "name": "ipython",
    "version": 3
   },
   "file_extension": ".py",
   "mimetype": "text/x-python",
   "name": "python",
   "nbconvert_exporter": "python",
   "pygments_lexer": "ipython3",
   "version": "3.11.5"
  }
 },
 "nbformat": 4,
 "nbformat_minor": 5
}
