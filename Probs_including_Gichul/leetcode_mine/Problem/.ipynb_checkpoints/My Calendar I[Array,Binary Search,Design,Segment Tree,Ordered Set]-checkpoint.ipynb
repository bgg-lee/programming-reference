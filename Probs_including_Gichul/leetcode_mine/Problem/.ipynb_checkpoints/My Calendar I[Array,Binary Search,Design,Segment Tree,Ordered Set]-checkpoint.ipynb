{
 "cells": [
  {
   "cell_type": "markdown",
   "id": "22a7463c",
   "metadata": {},
   "source": [
    "You are implementing a program to use as your calendar. We can add a new event if adding the event will not cause a double booking.\n",
    "\n",
    "A double booking happens when two events have some non-empty intersection (i.e., some moment is common to both events.).\n",
    "\n",
    "The event can be represented as a pair of integers start and end that represents a booking on the half-open interval [start, end), the range of real numbers x such that start <= x < end.\n",
    "\n",
    "Implement the MyCalendar class:\n",
    "\n",
    "MyCalendar() Initializes the calendar object.\n",
    "boolean book(int start, int end) Returns true if the event can be added to the calendar successfully without causing a double booking. Otherwise, return false and do not add the event to the calendar.\n",
    " \n",
    "\n",
    "Example 1:\n",
    "\n",
    "Input\n",
    "[\"MyCalendar\", \"book\", \"book\", \"book\"]\n",
    "[[], [10, 20], [15, 25], [20, 30]]\n",
    "Output\n",
    "[null, true, false, true]\n",
    "\n",
    "Explanation\n",
    "MyCalendar myCalendar = new MyCalendar();\n",
    "myCalendar.book(10, 20); // return True\n",
    "myCalendar.book(15, 25); // return False, It can not be booked because time 15 is already booked by another event.\n",
    "myCalendar.book(20, 30); // return True, The event can be booked, as the first event takes every time less than 20, but not including 20.\n",
    " \n",
    "\n",
    "Constraints:\n",
    "\n",
    "0 <= start < end <= 109\n",
    "At most 1000 calls will be made to book."
   ]
  },
  {
   "cell_type": "code",
   "execution_count": 13,
   "id": "4d528f19",
   "metadata": {},
   "outputs": [
    {
     "name": "stdout",
     "output_type": "stream",
     "text": [
      "0 3\n",
      "1 5\n",
      "2 7\n",
      "3 9\n"
     ]
    }
   ],
   "source": [
    "test = set()\n",
    "# test = {1,2,3,4,1,56}\n",
    "# max(test)\n",
    "# if test :\n",
    "#     print(\"empty\")\n",
    "# test.add(3,4)\n",
    "# for i in range(2,5):\n",
    "#     print(i)\n",
    "test.add(5)\n",
    "test.add(1)\n",
    "test.add(90)\n",
    "test.add(-5)\n",
    "test.add(7)\n",
    "test\n",
    "lst = [3,5,7,9]\n",
    "for x,y in enumerate(lst):\n",
    "    print(x,y)"
   ]
  },
  {
   "cell_type": "code",
   "execution_count": null,
   "id": "1c70f49d",
   "metadata": {},
   "outputs": [],
   "source": [
    "# Python"
   ]
  },
  {
   "cell_type": "code",
   "execution_count": 16,
   "id": "f4f9633e",
   "metadata": {},
   "outputs": [
    {
     "data": {
      "text/plain": [
       "[(7, 8), 3, 5, 1, 2, 6]"
      ]
     },
     "execution_count": 16,
     "metadata": {},
     "output_type": "execute_result"
    }
   ],
   "source": [
    "class MyCalendar:\n",
    "\n",
    "    def __init__(self):\n",
    "        self.bookings = []\n",
    "\n",
    "    def book(self, start: int, end: int) -> bool:\n",
    "        low, high = 0, len(self.bookings)\n",
    "\n",
    "        # Perform binary search to find the correct insert position\n",
    "        while low < high:\n",
    "            mid = (low + high) // 2\n",
    "            if self.bookings[mid][0] < end:\n",
    "                low = mid + 1\n",
    "            else:\n",
    "                high = mid\n",
    "\n",
    "        # Check for overlap with the previous interval\n",
    "        if low > 0 and self.bookings[low - 1][1] > start:\n",
    "            return False\n",
    "\n",
    "        # Check for overlap with the next interval\n",
    "        if low < len(self.bookings) and self.bookings[low][0] < end:\n",
    "            return False\n",
    "\n",
    "        # Insert the new booking at the correct position\n",
    "        self.bookings.insert(low, (start, end))\n",
    "        return True\n",
    "\n",
    "# Your MyCalendar object will be instantiated and called as such:\n",
    "# obj = MyCalendar()\n",
    "# param_1 = obj.book(start,end)\n",
    "######### Tree로 풀기\n",
    "class LinkedList:\n",
    "    def __init__(self,val, next):\n",
    "        self.val = val\n",
    "        self.next = next\n",
    "    \n",
    "class MyCalendar:\n",
    "\n",
    "    def __init__(self):\n",
    "        self.dummy = LinkedList([0,0], None)\n",
    "\n",
    "    def book(self, start: int, end: int) -> bool:\n",
    "        curr = self.dummy\n",
    "        prev = None\n",
    "        while curr and curr.val[1] <= start:\n",
    "            prev = curr\n",
    "            curr = curr.next\n",
    "        if curr == None:\n",
    "            prev.next = LinkedList([start, end], None)\n",
    "        else:\n",
    "            if curr.val[0] >= end:\n",
    "                node = LinkedList([start, end], None)\n",
    "                prev.next = node\n",
    "                node.next = curr\n",
    "            else:\n",
    "                return False\n",
    "        return True\n",
    "\n",
    "\n",
    "# Your MyCalendar object will be instantiated and called as such:\n",
    "# obj = MyCalendar()\n",
    "# param_1 = obj.book(start,end)"
   ]
  },
  {
   "cell_type": "code",
   "execution_count": 19,
   "id": "104815e1",
   "metadata": {
    "scrolled": true
   },
   "outputs": [
    {
     "data": {
      "text/plain": [
       "{(1, 2)}"
      ]
     },
     "execution_count": 19,
     "metadata": {},
     "output_type": "execute_result"
    }
   ],
   "source": [
    "s = set()\n",
    "s = {(1,2)}\n",
    "s"
   ]
  },
  {
   "cell_type": "code",
   "execution_count": null,
   "id": "f81fc372",
   "metadata": {},
   "outputs": [],
   "source": [
    "#C++\n",
    "#include <iostream>\n",
    "#include <vector>\n",
    "using namespace std;\n",
    "\n",
    "class MyCalendar {\n",
    "public:\n",
    "    MyCalendar() {}\n",
    "    \n",
    "    bool book(int start, int end) {\n",
    "        int low = 0;\n",
    "        int high = bookings.size();\n",
    "\n",
    "        // Binary search to find the correct position to insert\n",
    "        while (low < high) {\n",
    "            int mid = (low + high) / 2;\n",
    "            if (bookings[mid].first < end) {\n",
    "                low = mid + 1;\n",
    "            } else {\n",
    "                high = mid;\n",
    "            }\n",
    "        }\n",
    "\n",
    "        // Check for overlap with the previous interval\n",
    "        if (low > 0 && bookings[low - 1].second > start) {\n",
    "            return false;\n",
    "        }\n",
    "\n",
    "        // Check for overlap with the next interval\n",
    "        if (low < bookings.size() && bookings[low].first < end) {\n",
    "            return false;\n",
    "        }\n",
    "\n",
    "        // Insert the new booking\n",
    "        bookings.insert(bookings.begin() + low, {start, end});\n",
    "        return true;\n",
    "    }\n",
    "\n",
    "private:\n",
    "    vector<pair<int, int>> bookings;\n",
    "};\n",
    "\n",
    "int main() {\n",
    "    MyCalendar cal;\n",
    "    cout << cal.book(10, 20) << endl;  // Expected output: 1 (true)\n",
    "    cout << cal.book(15, 25) << endl;  // Expected output: 0 (false)\n",
    "    cout << cal.book(20, 30) << endl;  // Expected output: 1 (true)\n",
    "    return 0;\n",
    "}\n"
   ]
  }
 ],
 "metadata": {
  "kernelspec": {
   "display_name": "Python 3 (ipykernel)",
   "language": "python",
   "name": "python3"
  },
  "language_info": {
   "codemirror_mode": {
    "name": "ipython",
    "version": 3
   },
   "file_extension": ".py",
   "mimetype": "text/x-python",
   "name": "python",
   "nbconvert_exporter": "python",
   "pygments_lexer": "ipython3",
   "version": "3.11.5"
  }
 },
 "nbformat": 4,
 "nbformat_minor": 5
}
