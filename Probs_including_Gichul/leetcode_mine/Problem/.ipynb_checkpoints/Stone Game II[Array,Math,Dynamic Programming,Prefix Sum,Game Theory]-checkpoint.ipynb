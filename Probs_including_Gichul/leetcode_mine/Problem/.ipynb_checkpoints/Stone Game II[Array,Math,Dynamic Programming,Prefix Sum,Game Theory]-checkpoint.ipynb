{
 "cells": [
  {
   "cell_type": "markdown",
   "id": "14fa7f75",
   "metadata": {},
   "source": [
    "Alice and Bob continue their games with piles of stones.  There are a number of piles arranged in a row, and each pile has a positive integer number of stones piles[i].  The objective of the game is to end with the most stones. \n",
    "\n",
    "Alice and Bob take turns, with Alice starting first.  Initially, M = 1.\n",
    "\n",
    "On each player's turn, that player can take all the stones in the first X remaining piles, where 1 <= X <= 2M.  Then, we set M = max(M, X).\n",
    "\n",
    "The game continues until all the stones have been taken.\n",
    "\n",
    "Assuming Alice and Bob play optimally, return the maximum number of stones Alice can get.\n",
    "\n",
    " \n",
    "\n",
    "Example 1:\n",
    "\n",
    "Input: piles = [2,7,9,4,4]\n",
    "Output: 10\n",
    "Explanation:  If Alice takes one pile at the beginning, Bob takes two piles, then Alice takes 2 piles again. Alice can get 2 + 4 + 4 = 10 piles in total. If Alice takes two piles at the beginning, then Bob can take all three piles left. In this case, Alice get 2 + 7 = 9 piles in total. So we return 10 since it's larger. \n",
    "Example 2:\n",
    "\n",
    "Input: piles = [1,2,3,4,5,100]\n",
    "Output: 104\n",
    " \n",
    "\n",
    "Constraints:\n",
    "\n",
    "1 <= piles.length <= 100\n",
    "1 <= piles[i] <= 104"
   ]
  },
  {
   "cell_type": "code",
   "execution_count": null,
   "id": "a1e47885",
   "metadata": {},
   "outputs": [],
   "source": [
    "#C++ using DP\n",
    "class Solution {\n",
    "public:\n",
    "    int stoneGameII(vector<int>& piles) {\n",
    "        int n = piles.size();\n",
    "        \n",
    "        vector<vector<int>> dp(n, vector<int>(n + 1, 0));\n",
    "        vector<int> suffixSum(n, 0);\n",
    "        suffixSum[n - 1] = piles[n - 1];\n",
    "        \n",
    "        for (int i = n - 2; i >= 0; i--) {\n",
    "            suffixSum[i] = suffixSum[i + 1] + piles[i];\n",
    "        }\n",
    "        \n",
    "        for (int i = n - 1; i >= 0; i--) {\n",
    "            for (int m = 1; m <= n; m++) {\n",
    "                if (i + 2 * m >= n) {\n",
    "                    dp[i][m] = suffixSum[i];\n",
    "                } else {\n",
    "                    for (int x = 1; x <= 2 * m; x++) {\n",
    "                        dp[i][m] = max(dp[i][m], suffixSum[i] - dp[i + x][max(m, x)]);\n",
    "                    }\n",
    "                }\n",
    "            }\n",
    "        }\n",
    "        \n",
    "        return dp[0][1];\n",
    "    }\n",
    "};"
   ]
  },
  {
   "cell_type": "code",
   "execution_count": null,
   "id": "04fd66da",
   "metadata": {},
   "outputs": [],
   "source": [
    "#Python\n",
    "class Solution:\n",
    "    def stoneGameII(self, piles: List[int]) -> int:\n",
    "        n = len(piles)\n",
    "        \n",
    "        dp = [[0] * (n + 1) for _ in range(n)]\n",
    "        suffix_sum = [0] * n\n",
    "        suffix_sum[-1] = piles[-1]\n",
    "        \n",
    "        for i in range(n - 2, -1, -1):\n",
    "            suffix_sum[i] = suffix_sum[i + 1] + piles[i]\n",
    "        \n",
    "        for i in range(n - 1, -1, -1):\n",
    "            for m in range(1, n + 1):\n",
    "                if i + 2 * m >= n:\n",
    "                    dp[i][m] = suffix_sum[i]\n",
    "                else:\n",
    "                    for x in range(1, 2 * m + 1):\n",
    "                        dp[i][m] = max(dp[i][m], suffix_sum[i] - dp[i + x][max(m, x)])\n",
    "        \n",
    "        return dp[0][1]"
   ]
  },
  {
   "cell_type": "code",
   "execution_count": null,
   "id": "f2c56551",
   "metadata": {},
   "outputs": [],
   "source": [
    "#DP 문제는 쉬운거부터 차근차근 풀어볼 것"
   ]
  },
  {
   "cell_type": "markdown",
   "id": "cff92d16",
   "metadata": {},
   "source": []
  }
 ],
 "metadata": {
  "kernelspec": {
   "display_name": "Python 3 (ipykernel)",
   "language": "python",
   "name": "python3"
  },
  "language_info": {
   "codemirror_mode": {
    "name": "ipython",
    "version": 3
   },
   "file_extension": ".py",
   "mimetype": "text/x-python",
   "name": "python",
   "nbconvert_exporter": "python",
   "pygments_lexer": "ipython3",
   "version": "3.11.5"
  }
 },
 "nbformat": 4,
 "nbformat_minor": 5
}
