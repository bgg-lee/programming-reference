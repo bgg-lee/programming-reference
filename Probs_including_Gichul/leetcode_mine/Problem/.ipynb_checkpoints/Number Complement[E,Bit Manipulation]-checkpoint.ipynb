{
 "cells": [
  {
   "cell_type": "markdown",
   "id": "bd7b3da8",
   "metadata": {},
   "source": [
    "The complement of an integer is the integer you get when you flip all the 0's to 1's and all the 1's to 0's in its binary representation.\n",
    "\n",
    "For example, The integer 5 is \"101\" in binary and its complement is \"010\" which is the integer 2.\n",
    "Given an integer num, return its complement.\n",
    "\n",
    " \n",
    "\n",
    "Example 1:\n",
    "\n",
    "Input: num = 5\n",
    "Output: 2\n",
    "Explanation: The binary representation of 5 is 101 (no leading zero bits), and its complement is 010. So you need to output 2.\n",
    "Example 2:\n",
    "\n",
    "Input: num = 1\n",
    "Output: 0\n",
    "Explanation: The binary representation of 1 is 1 (no leading zero bits), and its complement is 0. So you need to output 0.\n",
    " \n",
    "\n",
    "Constraints:\n",
    "\n",
    "1 <= num < 231"
   ]
  },
  {
   "cell_type": "code",
   "execution_count": null,
   "id": "525d5723",
   "metadata": {},
   "outputs": [],
   "source": [
    "# 그냥 혹시 몰라서 해놓는 문제\n",
    "# C\n",
    "#include <stdio.h>\n",
    "\n",
    "int findComplement(int num) {\n",
    "    // num의 비트 길이 계산\n",
    "    unsigned int mask = ~0;  // 모든 비트가 1인 초기 마스크\n",
    "    while (num & mask) {\n",
    "        mask <<= 1;\n",
    "    }\n",
    "\n",
    "    // XOR 연산을 통해 비트를 반전\n",
    "    return ~mask & ~num;\n",
    "}\n",
    "\n",
    "int main() {\n",
    "    int num = 5;\n",
    "    printf(\"The complement of %d is %d\\n\", num, findComplement(num));\n",
    "    return 0;\n",
    "}\n"
   ]
  },
  {
   "cell_type": "code",
   "execution_count": null,
   "id": "2217a3c6",
   "metadata": {},
   "outputs": [],
   "source": [
    "# Python\n",
    "class Solution:\n",
    "    def findComplement(self, num: int) -> int:\n",
    "        bit_length = num.bit_length()\n",
    "        \n",
    "        mask = (1 << bit_length) - 1\n",
    "        \n",
    "        return num ^ mask"
   ]
  }
 ],
 "metadata": {
  "kernelspec": {
   "display_name": "Python 3 (ipykernel)",
   "language": "python",
   "name": "python3"
  },
  "language_info": {
   "codemirror_mode": {
    "name": "ipython",
    "version": 3
   },
   "file_extension": ".py",
   "mimetype": "text/x-python",
   "name": "python",
   "nbconvert_exporter": "python",
   "pygments_lexer": "ipython3",
   "version": "3.11.5"
  }
 },
 "nbformat": 4,
 "nbformat_minor": 5
}
