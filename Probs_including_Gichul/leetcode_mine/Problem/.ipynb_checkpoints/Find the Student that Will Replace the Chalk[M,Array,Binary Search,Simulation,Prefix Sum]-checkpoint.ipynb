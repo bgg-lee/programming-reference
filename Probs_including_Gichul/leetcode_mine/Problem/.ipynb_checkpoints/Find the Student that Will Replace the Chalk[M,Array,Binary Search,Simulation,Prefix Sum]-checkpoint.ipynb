{
 "cells": [
  {
   "cell_type": "markdown",
   "id": "bdc9619d",
   "metadata": {},
   "source": [
    "There are n students in a class numbered from 0 to n - 1. The teacher will give each student a problem starting with the student number 0, then the student number 1, and so on until the teacher reaches the student number n - 1. After that, the teacher will restart the process, starting with the student number 0 again.\n",
    "\n",
    "You are given a 0-indexed integer array chalk and an integer k. There are initially k pieces of chalk. When the student number i is given a problem to solve, they will use chalk[i] pieces of chalk to solve that problem. However, if the current number of chalk pieces is strictly less than chalk[i], then the student number i will be asked to replace the chalk.\n",
    "\n",
    "Return the index of the student that will replace the chalk pieces.\n",
    "\n",
    " \n",
    "\n",
    "Example 1:\n",
    "\n",
    "Input: chalk = [5,1,5], k = 22\n",
    "Output: 0\n",
    "Explanation: The students go in turns as follows:\n",
    "- Student number 0 uses 5 chalk, so k = 17.\n",
    "- Student number 1 uses 1 chalk, so k = 16.\n",
    "- Student number 2 uses 5 chalk, so k = 11.\n",
    "- Student number 0 uses 5 chalk, so k = 6.\n",
    "- Student number 1 uses 1 chalk, so k = 5.\n",
    "- Student number 2 uses 5 chalk, so k = 0.\n",
    "Student number 0 does not have enough chalk, so they will have to replace it.\n",
    "Example 2:\n",
    "\n",
    "Input: chalk = [3,4,1,2], k = 25\n",
    "Output: 1\n",
    "Explanation: The students go in turns as follows:\n",
    "- Student number 0 uses 3 chalk so k = 22.\n",
    "- Student number 1 uses 4 chalk so k = 18.\n",
    "- Student number 2 uses 1 chalk so k = 17.\n",
    "- Student number 3 uses 2 chalk so k = 15.\n",
    "- Student number 0 uses 3 chalk so k = 12.\n",
    "- Student number 1 uses 4 chalk so k = 8.\n",
    "- Student number 2 uses 1 chalk so k = 7.\n",
    "- Student number 3 uses 2 chalk so k = 5.\n",
    "- Student number 0 uses 3 chalk so k = 2.\n",
    "Student number 1 does not have enough chalk, so they will have to replace it.\n",
    " \n",
    "\n",
    "Constraints:\n",
    "\n",
    "chalk.length == n\n",
    "1 <= n <= 105\n",
    "1 <= chalk[i] <= 105\n",
    "1 <= k <= 109"
   ]
  },
  {
   "cell_type": "code",
   "execution_count": null,
   "id": "b92aab46",
   "metadata": {},
   "outputs": [],
   "source": [
    "# 1 . C , 나머지를 이용해 K를 낮춰주는 방법\n",
    "int chalkReplacer(int* chalk, int chalkSize, int k) {\n",
    "    int  j = 0;\n",
    "    long long total = 0;\n",
    "    for(int i=0;i<chalkSize;i++){\n",
    "        total += chalk[i];\n",
    "    }\n",
    "    k = k % total;\n",
    "    int sum = 0;\n",
    "    while(1){\n",
    "        if(j==chalkSize) j=0;\n",
    "        sum += chalk[j];\n",
    "        if(sum>k) return j;\n",
    "        j++;\n",
    "    }\n",
    "    return -1;\n",
    "}"
   ]
  },
  {
   "cell_type": "code",
   "execution_count": null,
   "id": "b5c8ca7c",
   "metadata": {},
   "outputs": [],
   "source": [
    "# 2 C++ 미세하게 다르게 빼는법을 사용\n",
    "class Solution {\n",
    "public:\n",
    "    int chalkReplacer(vector<int>& chalk, int k) {\n",
    "        long long sum = 0;\n",
    "        for(int i=0;i<chalk.size();i++){\n",
    "            sum += chalk[i];\n",
    "        }\n",
    "\n",
    "        k %= sum;\n",
    "        int ans = 0;\n",
    "        for(int j=0;j<chalk.size();j++){\n",
    "            k -= chalk[j];\n",
    "            if(k<0) return j;\n",
    "        }\n",
    "        return -1;\n",
    "    }\n",
    "};"
   ]
  },
  {
   "cell_type": "code",
   "execution_count": null,
   "id": "174d5994",
   "metadata": {},
   "outputs": [],
   "source": [
    "# 3 Python -> Binary Search를 해보기 with 축적방식\n",
    "\n",
    "class Solution:\n",
    "    def chalkReplacer(self, chalk: List[int], k: int) -> int:\n",
    "        temp = [ 0 for _ in range(len(chalk))]\n",
    "        temp[0] = chalk[0]\n",
    "        for i in range(1,len(chalk)):\n",
    "            temp[i] = temp[i-1] + chalk[i]\n",
    "        \n",
    "        k %= temp[-1]\n",
    "\n",
    "        left = 0\n",
    "        right = len(chalk)-1\n",
    "\n",
    "        while left < right :\n",
    "            mid = (left + right)//2\n",
    "            if temp[mid] == k : return mid+1\n",
    "            elif temp[mid] < k :\n",
    "                left = mid+1\n",
    "            else : right = mid\n",
    "\n",
    "        return left"
   ]
  },
  {
   "cell_type": "code",
   "execution_count": 7,
   "id": "d426d84e",
   "metadata": {},
   "outputs": [
    {
     "data": {
      "text/plain": [
       "[0, 0, 0, 0, 0, 0, 0, 0, 0, 0]"
      ]
     },
     "execution_count": 7,
     "metadata": {},
     "output_type": "execute_result"
    }
   ],
   "source": [
    "lst = [ 0 for _ in range(5)]\n",
    "lst\n",
    "lst2  = [0]*10\n",
    "lst2"
   ]
  },
  {
   "cell_type": "code",
   "execution_count": null,
   "id": "e6e20e8d",
   "metadata": {},
   "outputs": [],
   "source": []
  }
 ],
 "metadata": {
  "kernelspec": {
   "display_name": "Python 3 (ipykernel)",
   "language": "python",
   "name": "python3"
  },
  "language_info": {
   "codemirror_mode": {
    "name": "ipython",
    "version": 3
   },
   "file_extension": ".py",
   "mimetype": "text/x-python",
   "name": "python",
   "nbconvert_exporter": "python",
   "pygments_lexer": "ipython3",
   "version": "3.11.5"
  }
 },
 "nbformat": 4,
 "nbformat_minor": 5
}
