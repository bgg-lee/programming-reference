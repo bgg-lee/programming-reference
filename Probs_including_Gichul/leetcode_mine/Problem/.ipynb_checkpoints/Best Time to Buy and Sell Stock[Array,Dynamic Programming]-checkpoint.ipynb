{
 "cells": [
  {
   "cell_type": "markdown",
   "id": "c2662343",
   "metadata": {},
   "source": [
    "You are given an array prices where prices[i] is the price of a given stock on the ith day.\n",
    "\n",
    "You want to maximize your profit by choosing a single day to buy one stock and choosing a different day in the future to sell that stock.\n",
    "\n",
    "Return the maximum profit you can achieve from this transaction. If you cannot achieve any profit, return 0.\n",
    "\n",
    "\n",
    "\n",
    "Example 1:\n",
    "\n",
    "Input: prices = [7,1,5,3,6,4]\n",
    "Output: 5\n",
    "Explanation: Buy on day 2 (price = 1) and sell on day 5 (price = 6), profit = 6-1 = 5.\n",
    "Note that buying on day 2 and selling on day 1 is not allowed because you must buy before you sell.\n",
    "Example 2:\n",
    "\n",
    "Input: prices = [7,6,4,3,1]\n",
    "Output: 0\n",
    "Explanation: In this case, no transactions are done and the max profit = 0.\n",
    "\n",
    "\n",
    "Constraints:\n",
    "\n",
    "1 <= prices.length <= 105\n",
    "0 <= prices[i] <= 104"
   ]
  },
  {
   "cell_type": "code",
   "execution_count": 17,
   "id": "4e93d7b2",
   "metadata": {},
   "outputs": [
    {
     "name": "stdout",
     "output_type": "stream",
     "text": [
      "5\n",
      "3\n"
     ]
    }
   ],
   "source": [
    "#python w/o DP\n",
    "class Solution:\n",
    "    def maxProfit(self, prices: List[int]) -> int:\n",
    "        minval = 10**4\n",
    "        maxval = 0\n",
    "        for x in prices:\n",
    "            if x < minval:\n",
    "                minval = x\n",
    "            if x-minval > maxval :\n",
    "                maxval = x-minval\n",
    "        return maxval"
   ]
  },
  {
   "cell_type": "code",
   "execution_count": 10,
   "id": "1a3598e2",
   "metadata": {
    "scrolled": true
   },
   "outputs": [],
   "source": [
    "# Python with DP\n",
    "class Solution:\n",
    "    def maxProfit(self, prices: List[int]) -> int:\n",
    "        n = len(prices)\n",
    "\n",
    "        dp = [0]*n\n",
    "        minval = prices[0]\n",
    "\n",
    "        for i in range(1,n):\n",
    "            dp[i] = max(dp[i-1],prices[i]-minval)\n",
    "            minval = min(minval,prices[i])\n",
    "        \n",
    "        return dp[n-1]"
   ]
  },
  {
   "cell_type": "code",
   "execution_count": null,
   "id": "aed5a162",
   "metadata": {},
   "outputs": [],
   "source": [
    "# C w/o DP\n",
    "int max(int a, int b){\n",
    "    return a > b ? a : b;\n",
    "}\n",
    "int min(int a, int b){\n",
    "    return a < b ? a : b;\n",
    "}\n",
    "\n",
    "int maxProfit(int* prices, int pricesSize) {\n",
    "    // with out using DP\n",
    "    int minval = prices[0];\n",
    "    int ans = 0;\n",
    "\n",
    "    for(int i=1;i<pricesSize;i++){\n",
    "        ans = max(ans,prices[i]-minval);\n",
    "        minval = min(minval,prices[i]);\n",
    "    }\n",
    "\n",
    "    return ans;\n",
    "}"
   ]
  },
  {
   "cell_type": "code",
   "execution_count": null,
   "id": "5379b668",
   "metadata": {},
   "outputs": [],
   "source": [
    "#C++ with DP\n",
    "class Solution {\n",
    "public:\n",
    "    int maxProfit(vector<int>& prices) {\n",
    "        int n = prices.size();\n",
    "        vector<int> dp(n,0);\n",
    "        int minval = prices[0];\n",
    "\n",
    "        for(int i=1;i<n;i++){\n",
    "            dp[i] = max(dp[i-1],prices[i]-minval);\n",
    "            minval = min(minval,prices[i]);\n",
    "        }\n",
    "        return dp[n-1];\n",
    "    }\n",
    "};\n"
   ]
  },
  {
   "cell_type": "code",
   "execution_count": null,
   "id": "73e284fb",
   "metadata": {},
   "outputs": [],
   "source": []
  },
  {
   "cell_type": "code",
   "execution_count": null,
   "id": "43ba8572",
   "metadata": {},
   "outputs": [],
   "source": []
  },
  {
   "cell_type": "code",
   "execution_count": null,
   "id": "0af22886",
   "metadata": {},
   "outputs": [],
   "source": []
  },
  {
   "cell_type": "code",
   "execution_count": null,
   "id": "694428c7",
   "metadata": {},
   "outputs": [],
   "source": []
  }
 ],
 "metadata": {
  "kernelspec": {
   "display_name": "Python 3 (ipykernel)",
   "language": "python",
   "name": "python3"
  },
  "language_info": {
   "codemirror_mode": {
    "name": "ipython",
    "version": 3
   },
   "file_extension": ".py",
   "mimetype": "text/x-python",
   "name": "python",
   "nbconvert_exporter": "python",
   "pygments_lexer": "ipython3",
   "version": "3.11.5"
  }
 },
 "nbformat": 4,
 "nbformat_minor": 5
}
