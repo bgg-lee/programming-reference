{
 "cells": [
  {
   "cell_type": "markdown",
   "id": "8b4d56d2",
   "metadata": {},
   "source": [
    "Given an integer array nums where the elements are sorted in ascending order, convert it to a \n",
    "height-balanced\n",
    " binary search tree.\n",
    "\n",
    " \n",
    "\n",
    "Example 1:\n",
    "\n",
    "\n",
    "Input: nums = [-10,-3,0,5,9]\n",
    "Output: [0,-3,9,-10,null,5]\n",
    "Explanation: [0,-10,5,null,-3,null,9] is also accepted:\n",
    "\n",
    "Example 2:\n",
    "\n",
    "\n",
    "Input: nums = [1,3]\n",
    "Output: [3,1]\n",
    "Explanation: [1,null,3] and [3,1] are both height-balanced BSTs.\n",
    " \n",
    "\n",
    "Constraints:\n",
    "\n",
    "1 <= nums.length <= 104\n",
    "-104 <= nums[i] <= 104\n",
    "nums is sorted in a strictly increasing order."
   ]
  },
  {
   "cell_type": "code",
   "execution_count": null,
   "id": "7bfc490d",
   "metadata": {},
   "outputs": [],
   "source": [
    "#1. C\n",
    "/**\n",
    " * Definition for a binary tree node.\n",
    " * struct TreeNode {\n",
    " *     int val;\n",
    " *     struct TreeNode *left;\n",
    " *     struct TreeNode *right;\n",
    " * };\n",
    " */\n",
    "struct TreeNode* help(int*nums,int s, int e){\n",
    "    if(s>e) return NULL;\n",
    "\n",
    "    struct TreeNode* temp = (struct TreeNode*)malloc(sizeof(struct TreeNode));\n",
    "    int mid = (s+e)/2;\n",
    "    temp->val = nums[mid];\n",
    "\n",
    "    temp->left = help(nums,s,mid-1);\n",
    "    temp->right = help(nums,mid+1,e);\n",
    "\n",
    "    return temp;\n",
    "}\n",
    "struct TreeNode* sortedArrayToBST(int* nums, int numsSize) {\n",
    "    if(numsSize==0) return NULL;\n",
    "\n",
    "    return help(nums,0,numsSize-1);\n",
    "}\n",
    "\n"
   ]
  },
  {
   "cell_type": "code",
   "execution_count": null,
   "id": "cd1bab13",
   "metadata": {},
   "outputs": [],
   "source": []
  },
  {
   "cell_type": "code",
   "execution_count": null,
   "id": "2d3e178b",
   "metadata": {},
   "outputs": [],
   "source": []
  }
 ],
 "metadata": {
  "kernelspec": {
   "display_name": "Python 3 (ipykernel)",
   "language": "python",
   "name": "python3"
  },
  "language_info": {
   "codemirror_mode": {
    "name": "ipython",
    "version": 3
   },
   "file_extension": ".py",
   "mimetype": "text/x-python",
   "name": "python",
   "nbconvert_exporter": "python",
   "pygments_lexer": "ipython3",
   "version": "3.11.5"
  }
 },
 "nbformat": 4,
 "nbformat_minor": 5
}
