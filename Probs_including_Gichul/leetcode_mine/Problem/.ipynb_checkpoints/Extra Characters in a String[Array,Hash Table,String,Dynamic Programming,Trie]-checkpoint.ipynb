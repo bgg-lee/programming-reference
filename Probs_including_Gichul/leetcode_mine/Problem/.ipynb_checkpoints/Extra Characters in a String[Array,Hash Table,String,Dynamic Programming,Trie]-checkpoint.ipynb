{
 "cells": [
  {
   "cell_type": "markdown",
   "id": "4b4ed582",
   "metadata": {},
   "source": [
    "You are given a 0-indexed string s and a dictionary of words dictionary. You have to break s into one or more non-overlapping substrings such that each substring is present in dictionary. There may be some extra characters in s which are not present in any of the substrings.\n",
    "\n",
    "Return the minimum number of extra characters left over if you break up s optimally.\n",
    "\n",
    " \n",
    "\n",
    "Example 1:\n",
    "\n",
    "Input: s = \"leetscode\", dictionary = [\"leet\",\"code\",\"leetcode\"]\n",
    "Output: 1\n",
    "Explanation: We can break s in two substrings: \"leet\" from index 0 to 3 and \"code\" from index 5 to 8. There is only 1 unused character (at index 4), so we return 1.\n",
    "\n",
    "Example 2:\n",
    "\n",
    "Input: s = \"sayhelloworld\", dictionary = [\"hello\",\"world\"]\n",
    "Output: 3\n",
    "Explanation: We can break s in two substrings: \"hello\" from index 3 to 7 and \"world\" from index 8 to 12. The characters at indices 0, 1, 2 are not used in any substring and thus are considered as extra characters. Hence, we return 3.\n",
    " \n",
    "\n",
    "Constraints:\n",
    "\n",
    "1 <= s.length <= 50\n",
    "1 <= dictionary.length <= 50\n",
    "1 <= dictionary[i].length <= 50\n",
    "dictionary[i] and s consists of only lowercase English letters\n",
    "dictionary contains distinct words"
   ]
  },
  {
   "cell_type": "code",
   "execution_count": 1,
   "id": "5c85b123",
   "metadata": {},
   "outputs": [],
   "source": [
    "test = \"abcde\"\n",
    "test2 = [\"a\",\"b\",\"z\"]"
   ]
  },
  {
   "cell_type": "code",
   "execution_count": 16,
   "id": "842354b6",
   "metadata": {},
   "outputs": [
    {
     "data": {
      "text/plain": [
       "0"
      ]
     },
     "execution_count": 16,
     "metadata": {},
     "output_type": "execute_result"
    }
   ],
   "source": [
    "test3 = [0] * 5\n",
    "test3[4]"
   ]
  },
  {
   "cell_type": "code",
   "execution_count": 18,
   "id": "6c58f853",
   "metadata": {},
   "outputs": [],
   "source": [
    "# Python - DP\n",
    "class Solution:\n",
    "    def minExtraChar(self, s: str, dictionary: list[str]) -> int:\n",
    "        n = len(s)\n",
    "        dp = [0] * (n+1) #dp[i] 는 s의 처음 i글자까지 최소 추가 가능한 문자의 수\n",
    "        for i in range(1,n+1):\n",
    "            dp[i] = dp[i-1] + 1 # i번째 문자를 추가 문자로 고려\n",
    "            for word in dictionary:\n",
    "                if i>=len(word) and s[i-len(word):i] == word :\n",
    "                    dp[i] = min(dp[i],dp[i-len(word)])\n",
    "        return dp[n]"
   ]
  },
  {
   "cell_type": "code",
   "execution_count": 19,
   "id": "ea9386a2",
   "metadata": {},
   "outputs": [
    {
     "name": "stdout",
     "output_type": "stream",
     "text": [
      "1\n"
     ]
    }
   ],
   "source": [
    "s = \"leetscode\"\n",
    "dictionary = [\"leet\", \"code\", \"leetcode\"]\n",
    "solution = Solution()\n",
    "print(solution.minExtraChar(s, dictionary))  # Output should be 1"
   ]
  },
  {
   "cell_type": "code",
   "execution_count": null,
   "id": "4d60d653",
   "metadata": {},
   "outputs": [],
   "source": [
    "# C++\n",
    "class Solution {\n",
    "public:\n",
    "    int minExtraChar(string s, vector<string>& dictionary) {\n",
    "        int n = s.size();\n",
    "        vector<int> dp(n+1,0);\n",
    "        for(int i=1;i<=n;i++){\n",
    "            dp[i] = dp[i-1] + 1;\n",
    "            for(string const temp : dictionary){\n",
    "                if(i>=temp.size() && s.substr(i-temp.size(),temp.size())==temp){\n",
    "                    dp[i] = min(dp[i-temp.size()],dp[i]);\n",
    "                }\n",
    "            }\n",
    "        }\n",
    "        return dp[n];\n",
    "    }\n",
    "};"
   ]
  },
  {
   "cell_type": "code",
   "execution_count": null,
   "id": "6c06a747",
   "metadata": {},
   "outputs": [],
   "source": [
    "#C\n",
    "#include <stdio.h>\n",
    "#include <stdlib.h>\n",
    "#include <string.h>\n",
    "#include <limits.h>\n",
    "\n",
    "// 최소값을 구하는 매크로 정의\n",
    "#define MIN(a, b) ((a) < (b) ? (a) : (b))\n",
    "\n",
    "// 주어진 문자열과 사전을 바탕으로 최소 추가 문자를 계산하는 함수\n",
    "int minExtraChar(char* s, char** dictionary, int dictSize) {\n",
    "    int n = strlen(s);\n",
    "    int* dp = (int*)malloc((n + 1) * sizeof(int));\n",
    "    \n",
    "    // 초기값 설정: dp[i]는 처음 i 글자까지의 최소 추가 문자 수를 저장\n",
    "    for (int i = 0; i <= n; ++i) {\n",
    "        dp[i] = i;\n",
    "    }\n",
    "\n",
    "    // 동적 계획법을 이용한 최소 추가 문자 계산\n",
    "    for (int i = 1; i <= n; ++i) {\n",
    "        for (int j = 0; j < dictSize; ++j) {\n",
    "            int wordLen = strlen(dictionary[j]);\n",
    "            if (i >= wordLen && strncmp(&s[i - wordLen], dictionary[j], wordLen) == 0) {\n",
    "                dp[i] = MIN(dp[i], dp[i - wordLen]);\n",
    "            }\n",
    "        }\n",
    "    }\n",
    "\n",
    "    int result = dp[n];\n",
    "    free(dp); // 동적 메모리 해제\n",
    "    return result;\n",
    "}"
   ]
  }
 ],
 "metadata": {
  "kernelspec": {
   "display_name": "Python 3 (ipykernel)",
   "language": "python",
   "name": "python3"
  },
  "language_info": {
   "codemirror_mode": {
    "name": "ipython",
    "version": 3
   },
   "file_extension": ".py",
   "mimetype": "text/x-python",
   "name": "python",
   "nbconvert_exporter": "python",
   "pygments_lexer": "ipython3",
   "version": "3.11.5"
  }
 },
 "nbformat": 4,
 "nbformat_minor": 5
}
