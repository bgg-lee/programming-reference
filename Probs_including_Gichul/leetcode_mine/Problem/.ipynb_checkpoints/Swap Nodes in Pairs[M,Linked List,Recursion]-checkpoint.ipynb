{
 "cells": [
  {
   "cell_type": "markdown",
   "id": "f8851d63",
   "metadata": {},
   "source": [
    "Given a linked list, swap every two adjacent nodes and return its head. You must solve the problem without modifying the values in the list's nodes (i.e., only nodes themselves may be changed.)\n",
    "\n",
    "\n",
    "\n",
    "Example 1:\n",
    "\n",
    "\n",
    "Input: head = [1,2,3,4]\n",
    "Output: [2,1,4,3]\n",
    "Example 2:\n",
    "\n",
    "Input: head = []\n",
    "Output: []\n",
    "Example 3:\n",
    "\n",
    "Input: head = [1]\n",
    "Output: [1]\n",
    "\n",
    "\n",
    "Constraints:\n",
    "\n",
    "The number of nodes in the list is in the range [0, 100].\n",
    "0 <= Node.val <= 100"
   ]
  },
  {
   "cell_type": "code",
   "execution_count": null,
   "id": "7ee3649e",
   "metadata": {},
   "outputs": [],
   "source": [
    "1.C\n",
    "/**\n",
    " * Definition for singly-linked list.\n",
    " * struct ListNode {\n",
    " *     int val;\n",
    " *     struct ListNode *next;\n",
    " * };\n",
    " */\n",
    "struct ListNode* swapPairs(struct ListNode* head) {\n",
    "    if(!head||!head->next) return head;\n",
    "\n",
    "    struct ListNode* newhead = head->next;\n",
    "    struct ListNode* prev = NULL;\n",
    "    struct ListNode* curr = head;\n",
    "\n",
    "    while(curr&&curr->next){\n",
    "        struct ListNode* nextp = curr->next->next;\n",
    "        struct ListNode* second = curr->next;\n",
    "\n",
    "        second->next = curr;\n",
    "        curr->next = nextp;\n",
    "\n",
    "        if(prev){\n",
    "            prev->next = second;\n",
    "        }\n",
    "        prev = curr;\n",
    "        curr = nextp;\n",
    "    }\n",
    "    return newhead; // 그냥 return head->next를 하면 값이 다르다..\n",
    "}"
   ]
  },
  {
   "cell_type": "code",
   "execution_count": null,
   "id": "bd7c2d40",
   "metadata": {},
   "outputs": [],
   "source": [
    "1-2. C with recursive\n",
    "/**\n",
    " * Definition for singly-linked list.\n",
    " * struct ListNode {\n",
    " *     int val;\n",
    " *     struct ListNode *next;\n",
    " * };\n",
    " */\n",
    "struct ListNode* swapPairs(struct ListNode* head) {\n",
    "    if(!head || !head->next) return head;    \n",
    "\n",
    "    struct ListNode* first = head;\n",
    "    struct ListNode* second = head->next;\n",
    "    \n",
    "    first->next = swapPairs(second->next);\n",
    "\n",
    "    second->next = first;\n",
    "\n",
    "    return second;\n",
    "}"
   ]
  },
  {
   "cell_type": "code",
   "execution_count": null,
   "id": "b91e7a3e",
   "metadata": {},
   "outputs": [],
   "source": [
    "2. C++\n",
    "C와 같다..."
   ]
  },
  {
   "cell_type": "code",
   "execution_count": null,
   "id": "cf172b32",
   "metadata": {},
   "outputs": [],
   "source": [
    "3. Python\n",
    "# Definition for singly-linked list.\n",
    "# class ListNode:\n",
    "#     def __init__(self, val=0, next=None):\n",
    "#         self.val = val\n",
    "#         self.next = next\n",
    "class Solution:\n",
    "    def swapPairs(self, head: Optional[ListNode]) -> Optional[ListNode]:\n",
    "        if not head or not head.next : return head\n",
    "\n",
    "        ans = head.next\n",
    "        prev = None\n",
    "        curr = head\n",
    "\n",
    "        while curr and curr.next:\n",
    "            first = curr.next\n",
    "            second = curr.next.next\n",
    "\n",
    "            first.next = curr\n",
    "            curr.next = second\n",
    "\n",
    "            if prev:\n",
    "                prev.next = first\n",
    "            \n",
    "            prev = curr\n",
    "            curr = second\n",
    "        return ans"
   ]
  },
  {
   "cell_type": "code",
   "execution_count": null,
   "id": "deb5f8b8",
   "metadata": {},
   "outputs": [],
   "source": []
  },
  {
   "cell_type": "code",
   "execution_count": null,
   "id": "909b142a",
   "metadata": {},
   "outputs": [],
   "source": []
  },
  {
   "cell_type": "code",
   "execution_count": null,
   "id": "a67872ed",
   "metadata": {},
   "outputs": [],
   "source": []
  }
 ],
 "metadata": {
  "kernelspec": {
   "display_name": "Python 3 (ipykernel)",
   "language": "python",
   "name": "python3"
  },
  "language_info": {
   "codemirror_mode": {
    "name": "ipython",
    "version": 3
   },
   "file_extension": ".py",
   "mimetype": "text/x-python",
   "name": "python",
   "nbconvert_exporter": "python",
   "pygments_lexer": "ipython3",
   "version": "3.11.5"
  }
 },
 "nbformat": 4,
 "nbformat_minor": 5
}
