{
 "cells": [
  {
   "cell_type": "markdown",
   "id": "461fdeaa",
   "metadata": {},
   "source": [
    "You are given m arrays, where each array is sorted in ascending order.\n",
    "\n",
    "You can pick up two integers from two different arrays (each array picks one) and calculate the distance. We define the distance between two integers a and b to be their absolute difference |a - b|.\n",
    "\n",
    "Return the maximum distance.\n",
    "\n",
    " \n",
    "\n",
    "Example 1:\n",
    "\n",
    "Input: arrays = [[1,2,3],[4,5],[1,2,3]]\n",
    "Output: 4\n",
    "Explanation: One way to reach the maximum distance 4 is to pick 1 in the first or third array and pick 5 in the second array.\n",
    "Example 2:\n",
    "\n",
    "Input: arrays = [[1],[1]]\n",
    "Output: 0\n",
    " \n",
    "\n",
    "Constraints:\n",
    "\n",
    "m == arrays.length\n",
    "2 <= m <= 105\n",
    "1 <= arrays[i].length <= 500\n",
    "-104 <= arrays[i][j] <= 104\n",
    "arrays[i] is sorted in ascending order.\n",
    "There will be at most 105 integers in all the arrays."
   ]
  },
  {
   "cell_type": "code",
   "execution_count": null,
   "id": "f4e2bf23",
   "metadata": {},
   "outputs": [],
   "source": [
    "1.Python\n",
    "class Solution:\n",
    "    def maxDistance(self, arrays: List[List[int]]) -> int:\n",
    "        minnum = arrays[0][0]\n",
    "        maxnum = arrays[0][-1]\n",
    "        dist = 0\n",
    "        for i in range(1,len(arrays)):\n",
    "            dist = max(dist,arrays[i][-1]-minnum)\n",
    "            dist = max(dist,maxnum-arrays[i][0])\n",
    "\n",
    "            minnum = min(minnum,arrays[i][0])\n",
    "            maxnum = max(maxnum,arrays[i][-1])\n",
    "        return dist"
   ]
  },
  {
   "cell_type": "markdown",
   "id": "5b26b893",
   "metadata": {},
   "source": [
    "2. C++ 파이썬과 메커니즘은 같다\n",
    "class Solution {\n",
    "public:\n",
    "    int maxDistance(vector<vector<int>>& arrays) {\n",
    "        int min_num = arrays[0].front();\n",
    "        int max_num = arrays[0].back();\n",
    "        int dist = 0;\n",
    "\n",
    "        for(int i=1;i<arrays.size();i++){\n",
    "            dist = max(dist,arrays[i].back()-min_num);\n",
    "            dist = max(dist,max_num - arrays[i].front());\n",
    "\n",
    "            min_num = min(min_num,arrays[i].front());\n",
    "            max_num = max(max_num,arrays[i].back());\n",
    "        }\n",
    "        return dist;\n",
    "    }\n",
    "};"
   ]
  },
  {
   "cell_type": "code",
   "execution_count": null,
   "id": "f034fdf0",
   "metadata": {},
   "outputs": [],
   "source": [
    "3. C\n",
    "    int min_num = arrays[0][0];\n",
    "    int max_num = arrays[0][arraysColSize[0] - 1];\n",
    "    int max_distance = 0;\n",
    "\n",
    "    for (int i = 1; i < arraysSize; i++) {\n",
    "        int first_element = arrays[i][0];\n",
    "        int last_element = arrays[i][arraysColSize[i] - 1];\n",
    "\n",
    "        // 현재 배열의 첫 번째 및 마지막 요소와 글로벌 최소/최대 비교하여 거리 계산\n",
    "        int distance1 = abs(last_element - min_num);\n",
    "        int distance2 = abs(max_num - first_element);\n",
    "        if (distance1 > max_distance) max_distance = distance1;\n",
    "        if (distance2 > max_distance) max_distance = distance2;\n",
    "\n",
    "        // 글로벌 최소 및 최대값 업데이트\n",
    "        if (first_element < min_num) min_num = first_element;\n",
    "        if (last_element > max_num) max_num = last_element;\n",
    "    }\n",
    "\n",
    "    return max_distance;"
   ]
  }
 ],
 "metadata": {
  "kernelspec": {
   "display_name": "Python 3 (ipykernel)",
   "language": "python",
   "name": "python3"
  },
  "language_info": {
   "codemirror_mode": {
    "name": "ipython",
    "version": 3
   },
   "file_extension": ".py",
   "mimetype": "text/x-python",
   "name": "python",
   "nbconvert_exporter": "python",
   "pygments_lexer": "ipython3",
   "version": "3.11.5"
  }
 },
 "nbformat": 4,
 "nbformat_minor": 5
}
