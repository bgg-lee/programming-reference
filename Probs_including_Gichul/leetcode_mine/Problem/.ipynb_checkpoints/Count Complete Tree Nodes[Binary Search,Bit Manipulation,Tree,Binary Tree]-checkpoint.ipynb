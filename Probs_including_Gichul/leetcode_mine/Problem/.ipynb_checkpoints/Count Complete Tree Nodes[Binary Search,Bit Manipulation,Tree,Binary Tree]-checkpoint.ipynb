{
 "cells": [
  {
   "cell_type": "markdown",
   "id": "ea59f66f",
   "metadata": {},
   "source": [
    "Given the root of a complete binary tree, return the number of the nodes in the tree.\n",
    "\n",
    "According to Wikipedia, every level, except possibly the last, is completely filled in a complete binary tree, and all nodes in the last level are as far left as possible. It can have between 1 and 2h nodes inclusive at the last level h.\n",
    "\n",
    "Design an algorithm that runs in less than O(n) time complexity.\n",
    "\n",
    " \n",
    "\n",
    "Example 1:\n",
    "\n",
    "\n",
    "Input: root = [1,2,3,4,5,6]\n",
    "Output: 6\n",
    "Example 2:\n",
    "\n",
    "Input: root = []\n",
    "Output: 0\n",
    "Example 3:\n",
    "\n",
    "Input: root = [1]\n",
    "Output: 1\n",
    " \n",
    "\n",
    "Constraints:\n",
    "\n",
    "The number of nodes in the tree is in the range [0, 5 * 104].\n",
    "0 <= Node.val <= 5 * 104\n",
    "The tree is guaranteed to be complete."
   ]
  },
  {
   "cell_type": "code",
   "execution_count": null,
   "id": "84ff595d",
   "metadata": {},
   "outputs": [],
   "source": [
    "# C++ 풀긴 풀었는데 binary는 아니다..\n",
    "/**\n",
    " * Definition for a binary tree node.\n",
    " * struct TreeNode {\n",
    " *     int val;\n",
    " *     TreeNode *left;\n",
    " *     TreeNode *right;\n",
    " *     TreeNode() : val(0), left(nullptr), right(nullptr) {}\n",
    " *     TreeNode(int x) : val(x), left(nullptr), right(nullptr) {}\n",
    " *     TreeNode(int x, TreeNode *left, TreeNode *right) : val(x), left(left), right(right) {}\n",
    " * };\n",
    " */\n",
    "class Solution {\n",
    "public:\n",
    "    int countNodes(TreeNode* root) {\n",
    "        if(!root) return 0;\n",
    "        vector<TreeNode*> vec;\n",
    "        // how could solve it by Binary Search..\n",
    "        queue<TreeNode*> q;\n",
    "        q.push(root);\n",
    "        while(!q.empty()){\n",
    "            TreeNode* temp = q.front();\n",
    "            q.pop();\n",
    "            if(find(vec.begin(),vec.end(),temp)==vec.end()){\n",
    "                vec.push_back(temp);\n",
    "            }\n",
    "            if(temp->left) q.push(temp->left);\n",
    "            if(temp->right) q.push(temp->right);\n",
    "        }\n",
    "        return vec.size();\n",
    "    }\n",
    "};"
   ]
  },
  {
   "cell_type": "code",
   "execution_count": null,
   "id": "2730a6f0",
   "metadata": {},
   "outputs": [],
   "source": [
    "# C\n",
    "/**\n",
    " * Definition for a binary tree node.\n",
    " * struct TreeNode {\n",
    " *     int val;\n",
    " *     struct TreeNode *left;\n",
    " *     struct TreeNode *right;\n",
    " * };\n",
    " */\n",
    "int countNodes(struct TreeNode* root) {\n",
    "    if(!root) return 0;\n",
    "    return countNodes(root->left) + countNodes(root->right) + 1;\n",
    "}"
   ]
  },
  {
   "cell_type": "code",
   "execution_count": null,
   "id": "ab511e2a",
   "metadata": {},
   "outputs": [],
   "source": [
    "# Python\n",
    "# Definition for a binary tree node.\n",
    "# class TreeNode:\n",
    "#     def __init__(self, val=0, left=None, right=None):\n",
    "#         self.val = val\n",
    "#         self.left = left\n",
    "#         self.right = right\n",
    "class Solution:\n",
    "\n",
    "    def countNodes(self, root: Optional[TreeNode]) -> int:\n",
    "        \n",
    "        def helper(node) -> int :\n",
    "            if not node : return 0\n",
    "            else :\n",
    "                return helper(node.left) + helper(node.right) + 1\n",
    "\n",
    "        return helper(root)\n",
    "    "
   ]
  },
  {
   "cell_type": "code",
   "execution_count": null,
   "id": "d89d2b70",
   "metadata": {},
   "outputs": [],
   "source": []
  }
 ],
 "metadata": {
  "kernelspec": {
   "display_name": "Python 3 (ipykernel)",
   "language": "python",
   "name": "python3"
  },
  "language_info": {
   "codemirror_mode": {
    "name": "ipython",
    "version": 3
   },
   "file_extension": ".py",
   "mimetype": "text/x-python",
   "name": "python",
   "nbconvert_exporter": "python",
   "pygments_lexer": "ipython3",
   "version": "3.11.5"
  }
 },
 "nbformat": 4,
 "nbformat_minor": 5
}
