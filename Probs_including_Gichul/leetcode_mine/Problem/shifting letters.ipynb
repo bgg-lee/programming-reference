{
 "cells": [
  {
   "cell_type": "markdown",
   "metadata": {},
   "source": [
    "You are given a string s of lowercase English letters and an integer array shifts of the same length.\n",
    "\n",
    "Call the shift() of a letter, the next letter in the alphabet, (wrapping around so that 'z' becomes 'a').\n",
    "\n",
    "For example, shift('a') = 'b', shift('t') = 'u', and shift('z') = 'a'.\n",
    "Now for each shifts[i] = x, we want to shift the first i + 1 letters of s, x times.\n",
    "\n",
    "Return the final string after all such shifts to s are applied.\n",
    "\n",
    " \n",
    "\n",
    "Example 1:\n",
    "\n",
    "Input: s = \"abc\", shifts = [3,5,9]\n",
    "Output: \"rpl\"\n",
    "Explanation: We start with \"abc\".\n",
    "After shifting the first 1 letters of s by 3, we have \"dbc\".\n",
    "After shifting the first 2 letters of s by 5, we have \"igc\".\n",
    "After shifting the first 3 letters of s by 9, we have \"rpl\", the answer.\n",
    "Example 2:\n",
    "\n",
    "Input: s = \"aaa\", shifts = [1,2,3]\n",
    "Output: \"gfd\"\n",
    " \n",
    "\n",
    "Constraints:\n",
    "\n",
    "1 <= s.length <= 105\n",
    "s consists of lowercase English letters.\n",
    "shifts.length == s.length\n",
    "0 <= shifts[i] <= 109"
   ]
  },
  {
   "cell_type": "code",
   "execution_count": 18,
   "metadata": {},
   "outputs": [
    {
     "name": "stdout",
     "output_type": "stream",
     "text": [
      "'a'의 알파벳 순서: 1\n",
      "['a', 'b', 'z']의 알파벳 순서: [1, 2, 26]\n",
      "3\n",
      "c\n"
     ]
    }
   ],
   "source": [
    "# python 알파벳의 순서를 숫자로 표현하는 ord 함수 / chr 함수\n",
    "# 알파벳을 숫자로 변환\n",
    "char = 'a'\n",
    "alphabet_index = ord(char) - ord('a') + 1\n",
    "print(f\"'{char}'의 알파벳 순서: {alphabet_index}\")\n",
    "\n",
    "# 예제: 여러 문자 변환\n",
    "chars = ['a', 'b', 'z']\n",
    "indices = [ord(c) - ord('a') + 1 for c in chars]\n",
    "print(f\"{chars}의 알파벳 순서: {indices}\")\n",
    "\n",
    "test = 'c'\n",
    "print(ord(test)-ord('a')+1)\n",
    "num = ord(test)-ord('a')+1\n",
    "print(chr(num+ord('a')-1))\n"
   ]
  },
  {
   "cell_type": "code",
   "execution_count": 22,
   "metadata": {},
   "outputs": [
    {
     "data": {
      "text/plain": [
       "[14, 9, 7, 6]"
      ]
     },
     "execution_count": 22,
     "metadata": {},
     "output_type": "execute_result"
    }
   ],
   "source": [
    "test  = [ 5,2,1,6]\n",
    "# for i in range(3,-1,-1):\n",
    "#     print(test[i])\n",
    "pre = [test[-1]]*4\n",
    "for i in range(2,-1,-1):\n",
    "    pre[i] = pre[i+1] + test[i]\n",
    "pre"
   ]
  },
  {
   "cell_type": "code",
   "execution_count": 36,
   "metadata": {},
   "outputs": [
    {
     "name": "stdout",
     "output_type": "stream",
     "text": [
      "y\n",
      "121\n",
      "y\n",
      "122\n",
      "97\n"
     ]
    }
   ],
   "source": [
    "temp_num = ord('z') - ord('a') + 1 + 5\n",
    "cycle = temp_num + ord('a') - 1\n",
    "ch = chr(ord('z')-1)\n",
    "print(ch)\n",
    "print(ord('z')-1)\n",
    "print(chr(121))\n",
    "print(ord('z'))\n",
    "print(ord('a'))"
   ]
  },
  {
   "cell_type": "code",
   "execution_count": null,
   "metadata": {},
   "outputs": [],
   "source": [
    "class Solution:\n",
    "    def shiftingLetters(self, s: str, shifts: List[int]) -> str:\n",
    "        n = len(shifts)\n",
    "        prefix = [shifts[-1]] * n\n",
    "        for i in range(n-2,-1,-1):\n",
    "            prefix[i] = prefix[i+1] + shifts[i]\n",
    "        for i in range(n):\n",
    "            prefix[i] %= 26\n",
    "        ans = \"\"\n",
    "        for i in range(len(s)):\n",
    "            if ord(s[i]) + prefix[i] <= 122 :\n",
    "                ans += chr(ord(s[i])+prefix[i])\n",
    "            else :\n",
    "                ans += chr(97+ord(s[i])+prefix[i]-123)\n",
    "        return ans"
   ]
  },
  {
   "cell_type": "code",
   "execution_count": null,
   "metadata": {},
   "outputs": [],
   "source": [
    "class Solution {\n",
    "public:\n",
    "    string shiftingLetters(string s, vector<int>& shifts) {\n",
    "        int n = shifts.size();\n",
    "        shifts[n-1] %= 26;\n",
    "        for(int i=n-1;i>0;i--){\n",
    "            shifts[i-1] = (shifts[i-1] + shifts[i])%26;\n",
    "        }\n",
    "        for(int i=0;i<n;i++){\n",
    "            if((s[i]+shifts[i])>122){\n",
    "                shifts[i] -= (122-s[i]);\n",
    "                s[i] = 96+shifts[i];\n",
    "            }\n",
    "            else{\n",
    "                s[i] += shifts[i]; \n",
    "            }\n",
    "        }\n",
    "        return s;\n",
    "    }\n",
    "};\n",
    "# C++은 그냥 122,96 사용이 기본적인가 보다. 그리고 String을 바꿀 수가 있다 얘네는;;\n",
    "\n",
    "\"\"\"\n",
    "class Solution {\n",
    "public:\n",
    "    string shiftingLetters(string s, vector<int>& shifts) {\n",
    "        int n = s.size();\n",
    "        shifts[n-1] %= 26;\n",
    "        for(int i = n-2; i>=0; i--){\n",
    "            shifts[i] += shifts[i+1];\n",
    "            shifts[i] %= 26; \n",
    "        }\n",
    "\n",
    "        for(int j=0;j<n;j++){\n",
    "            if(s[j]+shifts[j] <= 122){\n",
    "                s[j] += shifts[j];\n",
    "            }\n",
    "            else{\n",
    "                s[j] = 97 + s[j] + shifts[j] - 123;\n",
    "            }\n",
    "        }\n",
    "        return s;\n",
    "\n",
    "    }\n",
    "};\n",
    "\"\"\""
   ]
  },
  {
   "cell_type": "code",
   "execution_count": 38,
   "metadata": {},
   "outputs": [
    {
     "ename": "TypeError",
     "evalue": "'str' object does not support item assignment",
     "output_type": "error",
     "traceback": [
      "\u001b[1;31m---------------------------------------------------------------------------\u001b[0m",
      "\u001b[1;31mTypeError\u001b[0m                                 Traceback (most recent call last)",
      "Cell \u001b[1;32mIn[38], line 2\u001b[0m\n\u001b[0;32m      1\u001b[0m test \u001b[38;5;241m=\u001b[39m \u001b[38;5;124m'\u001b[39m\u001b[38;5;124mabcd\u001b[39m\u001b[38;5;124m'\u001b[39m\n\u001b[1;32m----> 2\u001b[0m test[\u001b[38;5;241m1\u001b[39m] \u001b[38;5;241m=\u001b[39m \u001b[38;5;124m'\u001b[39m\u001b[38;5;124mz\u001b[39m\u001b[38;5;124m'\u001b[39m\n",
      "\u001b[1;31mTypeError\u001b[0m: 'str' object does not support item assignment"
     ]
    }
   ],
   "source": [
    "test = 'abcd'\n",
    "test[1] = 'z'"
   ]
  },
  {
   "cell_type": "code",
   "execution_count": null,
   "metadata": {},
   "outputs": [],
   "source": []
  },
  {
   "cell_type": "code",
   "execution_count": null,
   "metadata": {},
   "outputs": [],
   "source": []
  }
 ],
 "metadata": {
  "kernelspec": {
   "display_name": "base",
   "language": "python",
   "name": "python3"
  },
  "language_info": {
   "codemirror_mode": {
    "name": "ipython",
    "version": 3
   },
   "file_extension": ".py",
   "mimetype": "text/x-python",
   "name": "python",
   "nbconvert_exporter": "python",
   "pygments_lexer": "ipython3",
   "version": "3.11.5"
  }
 },
 "nbformat": 4,
 "nbformat_minor": 2
}
