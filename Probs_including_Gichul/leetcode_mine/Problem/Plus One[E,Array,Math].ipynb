{
 "cells": [
  {
   "cell_type": "markdown",
   "id": "e6a0e9ef",
   "metadata": {},
   "source": [
    "You are given a large integer represented as an integer array digits, where each digits[i] is the ith digit of the integer. The digits are ordered from most significant to least significant in left-to-right order. The large integer does not contain any leading 0's.\n",
    "\n",
    "Increment the large integer by one and return the resulting array of digits.\n",
    "\n",
    "\n",
    "---\n",
    "Example 1:\n",
    "\n",
    "Input: digits = [1,2,3]\n",
    "Output: [1,2,4]\n",
    "Explanation: The array represents the integer 123.\n",
    "Incrementing by one gives 123 + 1 = 124.\n",
    "Thus, the result should be [1,2,4].\n",
    "---\n",
    "Example 2:\n",
    "\n",
    "Input: digits = [4,3,2,1]\n",
    "Output: [4,3,2,2]\n",
    "Explanation: The array represents the integer 4321.\n",
    "Incrementing by one gives 4321 + 1 = 4322.\n",
    "Thus, the result should be [4,3,2,2].\n",
    "---\n",
    "Example 3:\n",
    "\n",
    "Input: digits = [9]\n",
    "Output: [1,0]\n",
    "Explanation: The array represents the integer 9.\n",
    "Incrementing by one gives 9 + 1 = 10.\n",
    "Thus, the result should be [1,0].\n",
    "---\n",
    "\n",
    "\n",
    "Constraints:\n",
    "\n",
    "1 <= digits.length <= 100\n",
    "0 <= digits[i] <= 9\n",
    "digits does not contain any leading 0's."
   ]
  },
  {
   "cell_type": "code",
   "execution_count": null,
   "id": "558a497f",
   "metadata": {},
   "outputs": [],
   "source": [
    "# C 수학적인 사고 carry를 어떻게 쓰냐\n",
    "/**\n",
    " * Note: The returned array must be malloced, assume caller calls free().\n",
    " */\n",
    "int* plusOne(int* digits, int digitsSize, int* returnSize) {\n",
    "    int* ans = (int*)malloc((digitsSize+1)*sizeof(int));\n",
    "    int carry = 1;\n",
    "\n",
    "    for(int i = digitsSize-1;i>=0;i--){\n",
    "        int sum = carry + digits[i];\n",
    "        if(sum==10){\n",
    "            ans[i+1] = 0;\n",
    "        }else{\n",
    "            ans[i+1] = sum;\n",
    "            carry = 0;\n",
    "        }\n",
    "    }\n",
    "    if(carry == 1){\n",
    "        ans[0] = 1;\n",
    "        *returnSize = digitsSize+1;\n",
    "    }else{\n",
    "        for(int i=0;i<digitsSize;i++){\n",
    "            ans[i] = ans[i+1];\n",
    "        }\n",
    "        *returnSize = digitsSize;}\n",
    "    return ans;\n",
    "}"
   ]
  },
  {
   "cell_type": "code",
   "execution_count": null,
   "id": "a4b20025",
   "metadata": {},
   "outputs": [],
   "source": [
    "# C++\n",
    "class Solution {\n",
    "public:\n",
    "    vector<int> plusOne(vector<int>& digits) {\n",
    "        int c = 1;\n",
    "        int size = digits.size();\n",
    "        for(int i=size-1;i>=0;i--){\n",
    "            int sum = digits[i] + c;\n",
    "            if(sum==10){\n",
    "                digits[i] = 0;\n",
    "            }else{\n",
    "                digits[i] = sum;\n",
    "                c = 0;\n",
    "            }\n",
    "        }\n",
    "        if(c==1) digits.insert(digits.begin(),1);\n",
    "        return digits;\n",
    "    }\n",
    "};"
   ]
  },
  {
   "cell_type": "code",
   "execution_count": 4,
   "id": "fd5f52a7",
   "metadata": {},
   "outputs": [
    {
     "data": {
      "text/plain": [
       "[55, 1, 2, 3, 4]"
      ]
     },
     "execution_count": 4,
     "metadata": {},
     "output_type": "execute_result"
    }
   ],
   "source": [
    "class Solution:\n",
    "    def plusOne(self, digits: List[int]) -> List[int]:\n",
    "        cond = False\n",
    "\n",
    "        for i in range(len(digits)-1,-1,-1):\n",
    "            if digits[i] !=9 :\n",
    "                digits[i]+=1\n",
    "                cond = True\n",
    "                break\n",
    "            else:\n",
    "                digits[i]=0\n",
    "\n",
    "        if not cond:\n",
    "            digits = [1] + digits\n",
    "        return digits"
   ]
  },
  {
   "cell_type": "code",
   "execution_count": null,
   "id": "260693ce",
   "metadata": {},
   "outputs": [],
   "source": []
  },
  {
   "cell_type": "code",
   "execution_count": null,
   "id": "7b82b748",
   "metadata": {},
   "outputs": [],
   "source": []
  },
  {
   "cell_type": "code",
   "execution_count": null,
   "id": "309d7ffb",
   "metadata": {},
   "outputs": [],
   "source": []
  }
 ],
 "metadata": {
  "kernelspec": {
   "display_name": "Python 3 (ipykernel)",
   "language": "python",
   "name": "python3"
  },
  "language_info": {
   "codemirror_mode": {
    "name": "ipython",
    "version": 3
   },
   "file_extension": ".py",
   "mimetype": "text/x-python",
   "name": "python",
   "nbconvert_exporter": "python",
   "pygments_lexer": "ipython3",
   "version": "3.11.5"
  }
 },
 "nbformat": 4,
 "nbformat_minor": 5
}
