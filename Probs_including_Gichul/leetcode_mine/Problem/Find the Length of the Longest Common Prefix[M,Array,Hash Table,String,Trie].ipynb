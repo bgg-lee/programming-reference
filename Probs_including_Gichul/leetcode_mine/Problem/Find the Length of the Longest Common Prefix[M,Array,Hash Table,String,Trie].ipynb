{
 "cells": [
  {
   "cell_type": "markdown",
   "id": "99fdd615",
   "metadata": {},
   "source": [
    "You are given two arrays with positive integers arr1 and arr2.\n",
    "\n",
    "A prefix of a positive integer is an integer formed by one or more of its digits, starting from its leftmost digit. For example, 123 is a prefix of the integer 12345, while 234 is not.\n",
    "\n",
    "A common prefix of two integers a and b is an integer c, such that c is a prefix of both a and b. For example, 5655359 and 56554 have a common prefix 565 while 1223 and 43456 do not have a common prefix.\n",
    "\n",
    "You need to find the length of the longest common prefix between all pairs of integers (x, y) such that x belongs to arr1 and y belongs to arr2.\n",
    "\n",
    "Return the length of the longest common prefix among all pairs. If no common prefix exists among them, return 0.\n",
    "\n",
    "\n",
    "\n",
    "Example 1:\n",
    "\n",
    "Input: arr1 = [1,10,100], arr2 = [1000]\n",
    "Output: 3\n",
    "Explanation: There are 3 pairs (arr1[i], arr2[j]):\n",
    "- The longest common prefix of (1, 1000) is 1.\n",
    "- The longest common prefix of (10, 1000) is 10.\n",
    "- The longest common prefix of (100, 1000) is 100.\n",
    "The longest common prefix is 100 with a length of 3.\n",
    "Example 2:\n",
    "\n",
    "Input: arr1 = [1,2,3], arr2 = [4,4,4]\n",
    "Output: 0\n",
    "Explanation: There exists no common prefix for any pair (arr1[i], arr2[j]), hence we return 0.\n",
    "Note that common prefixes between elements of the same array do not count.\n",
    "\n",
    "\n",
    "Constraints:\n",
    "\n",
    "1 <= arr1.length, arr2.length <= 5 * 104\n",
    "1 <= arr1[i], arr2[i] <= 108"
   ]
  },
  {
   "cell_type": "code",
   "execution_count": 10,
   "id": "d0ef8d1e",
   "metadata": {},
   "outputs": [
    {
     "name": "stdout",
     "output_type": "stream",
     "text": [
      "1234\n",
      "123\n",
      "12\n",
      "1\n"
     ]
    }
   ],
   "source": [
    "s= set()\n",
    "s.add(1)\n",
    "s.add(1)\n",
    "s.add(2)\n",
    "s\n",
    "test = 1234\n",
    "while test != 0 :\n",
    "    print(test)\n",
    "    test //= 10"
   ]
  },
  {
   "cell_type": "code",
   "execution_count": null,
   "id": "aea99fa5",
   "metadata": {},
   "outputs": [],
   "source": [
    "# 1. Python\n",
    "class Solution:\n",
    "    def longestCommonPrefix(self, arr1: List[int], arr2: List[int]) -> int:\n",
    "        s = set()\n",
    "        for num in arr1:\n",
    "            while num != 0 :\n",
    "                s.add(num)\n",
    "                num //= 10\n",
    "        ans = 0\n",
    "        for num2 in arr2 :\n",
    "            while num2 != 0 :\n",
    "                if num2 in s and len(str(num2))>ans :\n",
    "                    ans = len(str(num2))\n",
    "                    break\n",
    "                num2 //= 10  \n",
    "        return ans"
   ]
  },
  {
   "cell_type": "code",
   "execution_count": null,
   "id": "90e319fa",
   "metadata": {},
   "outputs": [],
   "source": [
    "#2. C++\n",
    "class Solution {\n",
    "public:\n",
    "    int longestCommonPrefix(vector<int>& arr1, vector<int>& arr2) {\n",
    "        unordered_map<string,int> m;\n",
    "        for(int num : arr1){\n",
    "            string temp = to_string(num);\n",
    "            string pre = \"\";\n",
    "            for(char ch : temp){\n",
    "                pre += ch;\n",
    "                m[pre]++;\n",
    "            }\n",
    "        }\n",
    "        int ans = 0;\n",
    "        for(int num : arr2){\n",
    "            string temp = to_string(num);\n",
    "            string pre = \"\";\n",
    "            for(char ch : temp){\n",
    "                pre += ch;\n",
    "                if(m.find(pre) != m.end()){//find it!\n",
    "                    ans = max(ans,static_cast<int>(pre.size()));\n",
    "                    // type of pre.size() or .length() is size_t\n",
    "                    // compare int with size_t causes error->need to use static_cast\n",
    "                }\n",
    "            }\n",
    "        }\n",
    "        return ans;\n",
    "    }\n",
    "};"
   ]
  },
  {
   "cell_type": "code",
   "execution_count": null,
   "id": "a2837ca4",
   "metadata": {},
   "outputs": [],
   "source": []
  },
  {
   "cell_type": "code",
   "execution_count": null,
   "id": "6ed4354a",
   "metadata": {},
   "outputs": [],
   "source": []
  },
  {
   "cell_type": "code",
   "execution_count": null,
   "id": "32143573",
   "metadata": {},
   "outputs": [],
   "source": []
  }
 ],
 "metadata": {
  "kernelspec": {
   "display_name": "Python 3 (ipykernel)",
   "language": "python",
   "name": "python3"
  },
  "language_info": {
   "codemirror_mode": {
    "name": "ipython",
    "version": 3
   },
   "file_extension": ".py",
   "mimetype": "text/x-python",
   "name": "python",
   "nbconvert_exporter": "python",
   "pygments_lexer": "ipython3",
   "version": "3.11.5"
  }
 },
 "nbformat": 4,
 "nbformat_minor": 5
}
