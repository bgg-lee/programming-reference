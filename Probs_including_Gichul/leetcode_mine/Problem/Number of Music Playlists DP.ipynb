{
 "cells": [
  {
   "cell_type": "markdown",
   "metadata": {},
   "source": [
    "Your music player contains n different songs. You want to listen to goal songs (not necessarily different) during your trip. To avoid boredom, you will create a playlist so that:\n",
    "\n",
    "Every song is played at least once.\n",
    "A song can only be played again only if k other songs have been played.\n",
    "Given n, goal, and k, return the number of possible playlists that you can create. Since the answer can be very large, return it modulo 109 + 7.\n",
    "\n",
    " \n",
    "\n",
    "Example 1:\n",
    "\n",
    "Input: n = 3, goal = 3, k = 1\n",
    "Output: 6\n",
    "Explanation: There are 6 possible playlists: [1, 2, 3], [1, 3, 2], [2, 1, 3], [2, 3, 1], [3, 1, 2], and [3, 2, 1].\n",
    "Example 2:\n",
    "\n",
    "Input: n = 2, goal = 3, k = 0\n",
    "Output: 6\n",
    "Explanation: There are 6 possible playlists: [1, 1, 2], [1, 2, 1], [2, 1, 1], [2, 2, 1], [2, 1, 2], and [1, 2, 2].\n",
    "Example 3:\n",
    "\n",
    "Input: n = 2, goal = 3, k = 1\n",
    "Output: 2\n",
    "Explanation: There are 2 possible playlists: [1, 2, 1] and [2, 1, 2].\n",
    " \n",
    "\n",
    "Constraints:\n",
    "\n",
    "0 <= k < n <= goal <= 100"
   ]
  },
  {
   "cell_type": "code",
   "execution_count": 22,
   "metadata": {},
   "outputs": [
    {
     "name": "stdout",
     "output_type": "stream",
     "text": [
      "[('a', 'b', 'c'), ('a', 'c', 'b'), ('b', 'a', 'c'), ('b', 'c', 'a'), ('c', 'a', 'b'), ('c', 'b', 'a')]\n",
      "<class 'list'>\n",
      "['abc', 'acb', 'bac', 'bca', 'cab', 'cba']\n",
      "['ab', 'ac', 'ba', 'bc', 'ca', 'cb']\n",
      "[('a', 'a'), ('a', 'a'), ('a', 'c'), ('a', 'd'), ('a', 'e'), ('a', 'a'), ('a', 'c'), ('a', 'd'), ('a', 'e'), ('a', 'c'), ('a', 'd'), ('a', 'e'), ('c', 'd'), ('c', 'e'), ('d', 'e')]\n",
      "<class 'list'>\n",
      "['aaa', 'aac', 'aad', 'aae', 'aac', 'aad', 'aae', 'acd', 'ace', 'ade', 'aac', 'aad', 'aae', 'acd', 'ace', 'ade', 'acd', 'ace', 'ade', 'cde']\n",
      "['aaac', 'aaad', 'aaae', 'aacd', 'aace', 'aade', 'aacd', 'aace', 'aade', 'acde', 'aacd', 'aace', 'aade', 'acde', 'acde']\n"
     ]
    }
   ],
   "source": [
    "# 파이썬 순열\n",
    "from itertools import permutations\n",
    "arr = ['a','b','c']\n",
    "per = permutations(arr)\n",
    "print(list(per))\n",
    "print(type(list(per)))\n",
    "# print(len(list(per)))\n",
    "print(list(map(''.join,permutations(arr))))\n",
    "print(list(map(''.join,permutations(arr,2))))\n",
    "# 파이썬 조합\n",
    "from itertools import combinations\n",
    "arr = ['a','a','a','c','d','e']\n",
    "per = combinations(arr,2)\n",
    "print(list(per))\n",
    "print(type(list(per)))\n",
    "# print(len(list(per)))\n",
    "print(list(map(''.join,combinations(arr,3)))) # 중복 제거는 알아서 해줘야할듯듯\n",
    "print(list(map(''.join,combinations(arr,4))))"
   ]
  },
  {
   "cell_type": "code",
   "execution_count": 25,
   "metadata": {},
   "outputs": [
    {
     "name": "stdout",
     "output_type": "stream",
     "text": [
      "24\n",
      "15\n"
     ]
    }
   ],
   "source": [
    "import math\n",
    "print(math.perm(4,3)) # 24 \n",
    "print(math.comb(6,2)) # 15"
   ]
  },
  {
   "cell_type": "code",
   "execution_count": null,
   "metadata": {},
   "outputs": [],
   "source": [
    "class Solution:\n",
    "    def numMusicPlaylists(self, n: int, goal: int, k: int) -> int:\n",
    "        MOD = 10**9 + 7\n",
    "        dp = [[0]*(n+1) for _ in range(goal+1)]\n",
    "    # dp[i][j] represent the number of playlists of length i that include exactly j unique songs.\n",
    "        dp[0][0] = 1\n",
    "\n",
    "        for i in range(1,goal+1):\n",
    "            for j in range(1,n+1):\n",
    "                # add a new song\n",
    "                dp[i][j] += dp[i-1][j-1] * (n-(j-1))\n",
    "                # Reuse an old song\n",
    "                if j > k :\n",
    "                    dp[i][j] += dp[i-1][j] * (j-k)\n",
    "                # Take modulo\n",
    "                dp[i][j] %= MOD\n",
    "                \n",
    "        return dp[goal][n]"
   ]
  },
  {
   "cell_type": "code",
   "execution_count": null,
   "metadata": {},
   "outputs": [],
   "source": [
    "#C\n",
    "#include <stdio.h>\n",
    "#define MOD 1000000007\n",
    "\n",
    "int numMusicPlaylists(int n, int goal, int k) {\n",
    "    // 동적 배열 생성\n",
    "    long long dp[goal + 1][n + 1];\n",
    "    for (int i = 0; i <= goal; i++) {\n",
    "        for (int j = 0; j <= n; j++) {\n",
    "            dp[i][j] = 0;\n",
    "        }\n",
    "    }\n",
    "    \n",
    "    // 초기 값 설정\n",
    "    dp[0][0] = 1;\n",
    "\n",
    "    // DP 테이블 채우기\n",
    "    for (int i = 1; i <= goal; i++) {\n",
    "        for (int j = 1; j <= n; j++) {\n",
    "            // 새로운 곡 추가\n",
    "            dp[i][j] = dp[i - 1][j - 1] * (n - (j - 1)) % MOD;\n",
    "            // 기존 곡 재사용\n",
    "            if (j > k) {\n",
    "                dp[i][j] = (dp[i][j] + dp[i - 1][j] * (j - k)) % MOD;\n",
    "            }\n",
    "        }\n",
    "    }\n",
    "\n",
    "    return dp[goal][n];\n",
    "}\n",
    "\n",
    "int main() {\n",
    "    int n = 3, goal = 3, k = 1;\n",
    "    printf(\"Number of playlists: %d\\n\", numMusicPlaylists(n, goal, k));\n",
    "    return 0;\n",
    "}\n"
   ]
  },
  {
   "cell_type": "code",
   "execution_count": null,
   "metadata": {},
   "outputs": [],
   "source": [
    "#C++\n",
    "#include <iostream>\n",
    "#include <vector>\n",
    "using namespace std;\n",
    "\n",
    "const int MOD = 1000000007;\n",
    "\n",
    "int numMusicPlaylists(int n, int goal, int k) {\n",
    "    // 동적 배열 생성\n",
    "    vector<vector<long long>> dp(goal + 1, vector<long long>(n + 1, 0));\n",
    "\n",
    "    // 초기 값 설정\n",
    "    dp[0][0] = 1;\n",
    "\n",
    "    // DP 테이블 채우기\n",
    "    for (int i = 1; i <= goal; i++) {\n",
    "        for (int j = 1; j <= n; j++) {\n",
    "            // 새로운 곡 추가\n",
    "            dp[i][j] = dp[i - 1][j - 1] * (n - (j - 1)) % MOD;\n",
    "            // 기존 곡 재사용\n",
    "            if (j > k) {\n",
    "                dp[i][j] = (dp[i][j] + dp[i - 1][j] * (j - k)) % MOD;\n",
    "            }\n",
    "        }\n",
    "    }\n",
    "\n",
    "    return dp[goal][n];\n",
    "}\n",
    "\n",
    "int main() {\n",
    "    int n = 3, goal = 3, k = 1;\n",
    "    cout << \"Number of playlists: \" << numMusicPlaylists(n, goal, k) << endl;\n",
    "    return 0;\n",
    "}\n"
   ]
  }
 ],
 "metadata": {
  "kernelspec": {
   "display_name": "base",
   "language": "python",
   "name": "python3"
  },
  "language_info": {
   "codemirror_mode": {
    "name": "ipython",
    "version": 3
   },
   "file_extension": ".py",
   "mimetype": "text/x-python",
   "name": "python",
   "nbconvert_exporter": "python",
   "pygments_lexer": "ipython3",
   "version": "3.11.5"
  }
 },
 "nbformat": 4,
 "nbformat_minor": 2
}
