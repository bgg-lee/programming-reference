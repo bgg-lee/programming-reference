{
 "cells": [
  {
   "cell_type": "markdown",
   "id": "07ff0d85",
   "metadata": {},
   "source": [
    "You are given a string word containing lowercase English letters.\n",
    "\n",
    "Telephone keypads have keys mapped with distinct collections of lowercase English letters, which can be used to form words by pushing them. For example, the key 2 is mapped with [\"a\",\"b\",\"c\"], we need to push the key one time to type \"a\", two times to type \"b\", and three times to type \"c\" .\n",
    "\n",
    "It is allowed to remap the keys numbered 2 to 9 to distinct collections of letters. The keys can be remapped to any amount of letters, but each letter must be mapped to exactly one key. You need to find the minimum number of times the keys will be pushed to type the string word.\n",
    "\n",
    "Return the minimum number of pushes needed to type word after remapping the keys.\n",
    "\n",
    "An example mapping of letters to keys on a telephone keypad is given below. Note that 1, *, #, and 0 do not map to any letters.\n",
    "\n",
    "\n",
    "---\n",
    "\n",
    "Example 1:\n",
    "\n",
    "\n",
    "Input: word = \"abcde\"\n",
    "Output: 5\n",
    "Explanation: The remapped keypad given in the image provides the minimum cost.\n",
    "\"a\" -> one push on key 2\n",
    "\"b\" -> one push on key 3\n",
    "\"c\" -> one push on key 4\n",
    "\"d\" -> one push on key 5\n",
    "\"e\" -> one push on key 6\n",
    "Total cost is 1 + 1 + 1 + 1 + 1 = 5.\n",
    "It can be shown that no other mapping can provide a lower cost.\n",
    "----\n",
    "Example 2:\n",
    "\n",
    "\n",
    "Input: word = \"xyzxyzxyzxyz\"\n",
    "Output: 12\n",
    "Explanation: The remapped keypad given in the image provides the minimum cost.\n",
    "\"x\" -> one push on key 2\n",
    "\"y\" -> one push on key 3\n",
    "\"z\" -> one push on key 4\n",
    "Total cost is 1 * 4 + 1 * 4 + 1 * 4 = 12\n",
    "It can be shown that no other mapping can provide a lower cost.\n",
    "Note that the key 9 is not mapped to any letter: it is not necessary to map letters to every key, but to map all the letters.\n",
    "Example 3:\n",
    "\n",
    "\n",
    "Input: word = \"aabbccddeeffgghhiiiiii\"\n",
    "Output: 24\n",
    "Explanation: The remapped keypad given in the image provides the minimum cost.\n",
    "\"a\" -> one push on key 2\n",
    "\"b\" -> one push on key 3\n",
    "\"c\" -> one push on key 4\n",
    "\"d\" -> one push on key 5\n",
    "\"e\" -> one push on key 6\n",
    "\"f\" -> one push on key 7\n",
    "\"g\" -> one push on key 8\n",
    "\"h\" -> two pushes on key 9\n",
    "\"i\" -> one push on key 9\n",
    "Total cost is 1 * 2 + 1 * 2 + 1 * 2 + 1 * 2 + 1 * 2 + 1 * 2 + 1 * 2 + 2 * 2 + 6 * 1 = 24.\n",
    "It can be shown that no other mapping can provide a lower cost.\n",
    " \n",
    "---\n",
    "Constraints:\n",
    "\n",
    "1 <= word.length <= 105\n",
    "word consists of lowercase English letters."
   ]
  },
  {
   "cell_type": "markdown",
   "id": "4ca906d0",
   "metadata": {},
   "source": [
    "## 저장할 수 있는 번호는 8개"
   ]
  },
  {
   "cell_type": "code",
   "execution_count": 31,
   "id": "90e66d7f",
   "metadata": {},
   "outputs": [
    {
     "name": "stdout",
     "output_type": "stream",
     "text": [
      "[[6, 'i'], [2, 'h'], [2, 'g'], [2, 'f'], [2, 'e'], [2, 'd'], [2, 'c'], [2, 'b'], [2, 'a']]\n"
     ]
    },
    {
     "data": {
      "text/plain": [
       "24"
      ]
     },
     "execution_count": 31,
     "metadata": {},
     "output_type": "execute_result"
    }
   ],
   "source": [
    "class Solution:\n",
    "    def minimumPushes(self, word: str) -> int:\n",
    "        dic = {}\n",
    "        for x in word:\n",
    "            if x not in dic:\n",
    "                dic[x]=1\n",
    "            else:dic[x]+=1\n",
    "\n",
    "        lst = []\n",
    "\n",
    "        for value,count in dic.items():\n",
    "            lst.append([count,value])\n",
    "        \n",
    "        lst.sort(reverse=True)\n",
    "        idx = 0\n",
    "        ans = 0\n",
    "        print(lst)\n",
    "        for x in range(len(lst)):\n",
    "            if x%8==0:\n",
    "                idx+=1\n",
    "            ans += lst[x][0]*idx\n",
    "            \n",
    "        return ans\n",
    "s=Solution()\n",
    "s.minimumPushes(\"aabbccddeeffgghhiiiiii\")"
   ]
  },
  {
   "cell_type": "code",
   "execution_count": 37,
   "id": "72221b18",
   "metadata": {},
   "outputs": [
    {
     "name": "stdout",
     "output_type": "stream",
     "text": [
      "Counter({'i': 6, 'a': 2, 'b': 2, 'c': 2, 'd': 2, 'e': 2, 'f': 2, 'g': 2, 'h': 2}) [6, 2, 2, 2, 2, 2, 2, 2, 2]\n"
     ]
    },
    {
     "data": {
      "text/plain": [
       "24"
      ]
     },
     "execution_count": 37,
     "metadata": {},
     "output_type": "execute_result"
    }
   ],
   "source": [
    "#저 위에 dictionary를 통해서 통계냈던 것을 한 번에 처리해주는게 Counter method다 from collection\n",
    "class Solution:\n",
    "    def minimumPushes(self, word: str) -> int:\n",
    "        res = 0\n",
    "        from collections import Counter\n",
    "        counter = Counter(word)\n",
    "        counter_sorted = sorted(counter.values(), reverse=True)\n",
    "        print(counter,counter_sorted)\n",
    "        res = sum(counter_sorted[:8]) + 2*sum(counter_sorted[8:16]) + 3*sum(counter_sorted[16:24]) + 4*sum(counter_sorted[24:])\n",
    "        \n",
    "        return res\n",
    "s=Solution()\n",
    "s.minimumPushes(\"aabbccddeeffgghhiiiiii\")"
   ]
  },
  {
   "cell_type": "code",
   "execution_count": null,
   "id": "30709db4",
   "metadata": {},
   "outputs": [],
   "source": [
    "# C_ qsort를 알아야겠다.\n",
    "int cmp(const void *a, const void *b) {\n",
    "    return *(int *)b - *(int *)a;\n",
    "}\n",
    "int minimumPushes(char* word) {\n",
    "    int cnts[26] = {0};\n",
    "    int idx = 0;\n",
    "    while (word[idx] != '\\0') {\n",
    "        cnts[word[idx] - 'a']++;\n",
    "        ++idx;\n",
    "    }\n",
    "\n",
    "    qsort(cnts, 26, sizeof(int), cmp);\n",
    "    \n",
    "    int total_press = 0;\n",
    "    int press_level = 1;\n",
    "    int letter_idx = 0;\n",
    "    for (int i = 0; i < 26; ++i) {\n",
    "        total_press += cnts[i] * press_level;\n",
    "        letter_idx++;\n",
    "        press_level = (letter_idx + 8) / 8;\n",
    "    }\n",
    "\n",
    "    return total_press;\n",
    "}\n"
   ]
  },
  {
   "cell_type": "code",
   "execution_count": null,
   "id": "404c44d4",
   "metadata": {},
   "outputs": [],
   "source": [
    "#C++\n",
    "class Solution {\n",
    "public:\n",
    "    int minimumPushes(string word) {\n",
    "        vector<int> cnts(26);\n",
    "        for (char &c : word) {\n",
    "            cnts[c - 'a']++;\n",
    "        }\n",
    "\n",
    "        sort(cnts.rbegin(), cnts.rend());\n",
    "\n",
    "        int total_press = 0;\n",
    "        int press_level = 1;\n",
    "        int letter_idx = 0;\n",
    "        for (int cnt : cnts) {\n",
    "            total_press += cnt * press_level;\n",
    "            letter_idx++;\n",
    "            press_level = (letter_idx + 8) / 8;\n",
    "        }\n",
    "\n",
    "        return total_press;\n",
    "    }\n",
    "};"
   ]
  },
  {
   "cell_type": "code",
   "execution_count": null,
   "id": "b8c17f3b",
   "metadata": {},
   "outputs": [],
   "source": []
  },
  {
   "cell_type": "code",
   "execution_count": null,
   "id": "0db7421b",
   "metadata": {},
   "outputs": [],
   "source": []
  }
 ],
 "metadata": {
  "kernelspec": {
   "display_name": "Python 3 (ipykernel)",
   "language": "python",
   "name": "python3"
  },
  "language_info": {
   "codemirror_mode": {
    "name": "ipython",
    "version": 3
   },
   "file_extension": ".py",
   "mimetype": "text/x-python",
   "name": "python",
   "nbconvert_exporter": "python",
   "pygments_lexer": "ipython3",
   "version": "3.11.5"
  }
 },
 "nbformat": 4,
 "nbformat_minor": 5
}
