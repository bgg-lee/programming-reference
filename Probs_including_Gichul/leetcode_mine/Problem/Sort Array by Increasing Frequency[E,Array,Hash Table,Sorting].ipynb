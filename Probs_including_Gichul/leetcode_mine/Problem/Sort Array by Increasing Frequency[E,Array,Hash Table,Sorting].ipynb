{
 "cells": [
  {
   "cell_type": "markdown",
   "id": "0741141d",
   "metadata": {},
   "source": [
    "Given an array of integers nums, sort the array in increasing order based on the frequency of the values. If multiple values have the same frequency, sort them in decreasing order.\n",
    "\n",
    "Return the sorted array.\n",
    "\n",
    " \n",
    "\n",
    "Example 1:\n",
    "\n",
    "Input: nums = [1,1,2,2,2,3]\n",
    "Output: [3,1,1,2,2,2]\n",
    "Explanation: '3' has a frequency of 1, '1' has a frequency of 2, and '2' has a frequency of 3.\n",
    "Example 2:\n",
    "\n",
    "Input: nums = [2,3,1,3,2]\n",
    "Output: [1,3,3,2,2]\n",
    "Explanation: '2' and '3' both have a frequency of 2, so they are sorted in decreasing order.\n",
    "Example 3:\n",
    "\n",
    "Input: nums = [-1,1,-6,4,5,-6,1,4,1]\n",
    "Output: [5,-1,4,4,-6,-6,1,1,1]\n",
    " \n",
    "\n",
    "Constraints:\n",
    "\n",
    "1 <= nums.length <= 100\n",
    "-100 <= nums[i] <= 100"
   ]
  },
  {
   "cell_type": "code",
   "execution_count": 23,
   "id": "6062cb64",
   "metadata": {},
   "outputs": [
    {
     "name": "stdout",
     "output_type": "stream",
     "text": [
      "a [3]\n",
      "c 9\n",
      "b -1\n"
     ]
    }
   ],
   "source": [
    "# Python 별 요상한 함수를 다 가져다가 쓴다..\n",
    "\n",
    "class Solution:\n",
    "    def frequencySort(self, nums: List[int]) -> List[int]:\n",
    "        dic = {}\n",
    "        for i in range(len(nums)) :\n",
    "            if nums[i] not in dic :\n",
    "                dic[nums[i]] = 1\n",
    "            else : dic[nums[i]]+=1\n",
    "\n",
    "        def help_sorting(x):\n",
    "            return(dic[x],-x)\n",
    "\n",
    "        return sorted(nums,key=help_sorting)\n",
    "\n",
    "class Solution:\n",
    "    def frequencySort(self, nums: List[int]) -> List[int]:\n",
    "        # 숫자의 빈도를 세는 딕셔너리\n",
    "        freq_dict = {}\n",
    "        for num in nums:\n",
    "            if num not in freq_dict:\n",
    "                freq_dict[num] = 1\n",
    "            else:\n",
    "                freq_dict[num] += 1\n",
    "        \n",
    "        # nums 리스트를 빈도와 숫자 크기 순으로 정렬\n",
    "        # 첫 번째 기준: 빈도 오름차순\n",
    "        # 두 번째 기준: 빈도가 같으면 숫자를 내림차순으로 정렬\n",
    "        return sorted(nums, key=lambda x: (freq_dict[x], -x))"
   ]
  },
  {
   "cell_type": "code",
   "execution_count": 37,
   "id": "3489c6c8",
   "metadata": {},
   "outputs": [
    {
     "data": {
      "text/plain": [
       "[5, 3, 1, -1]"
      ]
     },
     "execution_count": 37,
     "metadata": {},
     "output_type": "execute_result"
    }
   ],
   "source": [
    "lst = [1,3,5,-1]\n",
    "sorted(lst,reverse=True)\n",
    "# lst"
   ]
  },
  {
   "cell_type": "code",
   "execution_count": null,
   "id": "2d31519e",
   "metadata": {},
   "outputs": [],
   "source": [
    "#C++\n",
    "class Solution {\n",
    "public:\n",
    "    vector<int> frequencySort(vector<int>& nums) {\n",
    "        map<int,int> freq;\n",
    "        for(int num : nums){\n",
    "            freq[num]++;\n",
    "        }\n",
    "        sort(nums.begin(),nums.end(),[&](int a, int b){\n",
    "            if(freq[a] != freq[b]){\n",
    "                return freq[a] < freq[b];\n",
    "            }\n",
    "            else return a>b;\n",
    "        });\n",
    "        return nums;\n",
    "    }\n",
    "};"
   ]
  },
  {
   "cell_type": "code",
   "execution_count": 24,
   "id": "8900da99",
   "metadata": {},
   "outputs": [],
   "source": [
    "# C\n",
    "#include <stdio.h>\n",
    "#include <stdlib.h>\n",
    "\n",
    "typedef struct {\n",
    "    int value;\n",
    "    int freq;\n",
    "} Element;\n",
    "\n",
    "// 비교 함수: 빈도 기준 오름차순, 빈도가 같다면 값 기준 내림차순\n",
    "int compare(const void *a, const void *b) {\n",
    "    Element *elemA = (Element *)a;\n",
    "    Element *elemB = (Element *)b;\n",
    "    \n",
    "    if (elemA->freq != elemB->freq) {\n",
    "        return elemA->freq - elemB->freq;  // 빈도 오름차순\n",
    "    } else {\n",
    "        return elemB->value - elemA->value;  // 값 내림차순\n",
    "    }\n",
    "}\n",
    "\n",
    "int main() {\n",
    "    int nums[] = {1, 1, 2, 2, 2, 3};\n",
    "    int size = sizeof(nums) / sizeof(nums[0]);\n",
    "\n",
    "    // 숫자 빈도를 세기 위한 배열 (숫자 범위가 -100에서 100이므로 크기를 201로 설정)\n",
    "    int freq[201] = {0};\n",
    "    \n",
    "    // 빈도 계산 (0이 기준점이므로 +100 해준다)\n",
    "    for (int i = 0; i < size; i++) {\n",
    "        freq[nums[i] + 100]++;\n",
    "    }\n",
    "\n",
    "    // 빈도를 저장할 배열 생성\n",
    "    Element elements[size];\n",
    "    int index = 0;\n",
    "    \n",
    "    for (int i = 0; i < size; i++) {\n",
    "        elements[index].value = nums[i];\n",
    "        elements[index].freq = freq[nums[i] + 100];\n",
    "        index++;\n",
    "    }\n",
    "\n",
    "    // 정렬\n",
    "    qsort(elements, size, sizeof(Element), compare);\n",
    "\n",
    "    // 정렬 결과 출력\n",
    "    for (int i = 0; i < size; i++) {\n",
    "        printf(\"%d \", elements[i].value);\n",
    "    }\n",
    "\n",
    "    return 0;\n",
    "}\n"
   ]
  },
  {
   "cell_type": "code",
   "execution_count": 23,
   "id": "cb59788d",
   "metadata": {},
   "outputs": [
    {
     "name": "stdout",
     "output_type": "stream",
     "text": [
      "a [3]\n",
      "c 9\n",
      "b -1\n"
     ]
    }
   ],
   "source": [
    "dic = {}\n",
    "\n",
    "dic['a'] = [3]\n",
    "dic['c'] = 9\n",
    "dic['b'] = -1\n",
    "for k,v in dic.items():\n",
    "    print(k,v)"
   ]
  },
  {
   "cell_type": "code",
   "execution_count": 22,
   "id": "79e7a34f",
   "metadata": {},
   "outputs": [
    {
     "data": {
      "text/plain": [
       "[49, 101010, 4, 3, 1, -1]"
      ]
     },
     "execution_count": 22,
     "metadata": {},
     "output_type": "execute_result"
    }
   ],
   "source": [
    "nums = [3,4,1,-1,49]\n",
    "nums.sort(reverse=True)\n",
    "nums.insert(1,101010)\n",
    "nums"
   ]
  }
 ],
 "metadata": {
  "kernelspec": {
   "display_name": "Python 3 (ipykernel)",
   "language": "python",
   "name": "python3"
  },
  "language_info": {
   "codemirror_mode": {
    "name": "ipython",
    "version": 3
   },
   "file_extension": ".py",
   "mimetype": "text/x-python",
   "name": "python",
   "nbconvert_exporter": "python",
   "pygments_lexer": "ipython3",
   "version": "3.11.5"
  }
 },
 "nbformat": 4,
 "nbformat_minor": 5
}
