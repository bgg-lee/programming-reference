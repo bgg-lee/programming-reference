{
 "cells": [
  {
   "cell_type": "markdown",
   "metadata": {},
   "source": [
    "자가진단 문제: Longest Common Subsequence (LCS)\n",
    "문제 설명\n",
    "두 문자열 text1과 text2가 주어졌을 때, 두 문자열의 **가장 긴 공통 부분 수열 (Longest Common Subsequence, LCS)**의 길이를 구하세요.\n",
    "공통 부분 수열은 문자열의 순서를 유지하며 각 문자열에서 문자를 선택해 만들 수 있는 수열입니다.\n",
    "예를 들어, text1 = \"abcde\"와 text2 = \"ace\"의 LCS는 \"ace\"이며 길이는 3입니다.\n",
    "\n",
    "입력\n",
    "text1과 text2는 모두 알파벳 소문자로 이루어진 문자열입니다.\n",
    "1 <= text1.length, text2.length <= 1000\n",
    "출력\n",
    "두 문자열의 가장 긴 공통 부분 수열의 길이를 반환합니다.\n",
    "예제\n",
    "python\n",
    "코드 복사\n",
    "Input: text1 = \"abcde\", text2 = \"ace\"\n",
    "Output: 3\n",
    "Explanation: LCS는 \"ace\"이며, 길이는 3입니다.\n",
    "python\n",
    "코드 복사\n",
    "Input: text1 = \"abc\", text2 = \"def\"\n",
    "Output: 0\n",
    "Explanation: 공통 부분 수열이 없으므로 길이는 0입니다.\n"
   ]
  },
  {
   "cell_type": "code",
   "execution_count": 2,
   "metadata": {},
   "outputs": [
    {
     "name": "stdout",
     "output_type": "stream",
     "text": [
      "3\n",
      "0\n",
      "3\n",
      "3\n"
     ]
    }
   ],
   "source": [
    "class Solution:\n",
    "    def longestCommonSubsequence(self, text1: str, text2: str) -> int:\n",
    "        # DP 테이블 초기화 및 로직 작성\n",
    "        m = len(text1)\n",
    "        n = len(text2)\n",
    "        dp = [[0]*(n+1) for _ in range(m+1)]\n",
    "        for i in range(1,m+1):\n",
    "            for j in range(1,n+1):\n",
    "                if text1[i-1] == text2[j-1]:\n",
    "                    dp[i][j] = dp[i-1][j-1] + 1\n",
    "                else:\n",
    "                    dp[i][j] = max(dp[i-1][j],dp[i][j-1])\n",
    "        return dp[m][n]\n",
    "\n",
    "# 테스트 케이스\n",
    "if __name__ == \"__main__\":\n",
    "    solution = Solution()\n",
    "    # Example test cases\n",
    "    print(solution.longestCommonSubsequence(\"abcde\", \"ace\"))  # Output: 3\n",
    "    print(solution.longestCommonSubsequence(\"abc\", \"def\"))   # Output: 0\n",
    "    print(solution.longestCommonSubsequence(\"abc\", \"abc\"))   # Output: 3\n",
    "    print(solution.longestCommonSubsequence(\"abcd\", \"abdc\")) # Output: 3"
   ]
  },
  {
   "cell_type": "markdown",
   "metadata": {},
   "source": [
    "이번엔 일전에 다루었던, LCS의 최대 길이가 아닌 LCS 그 자체를 반환하는데 길이가 같은 것이 여러개 있을 경우엔 알파벳 순으로 가장 빠른 녀석을 반환 ex) aaa / bbb 있으면 aaa를 반환하게 코딩!"
   ]
  },
  {
   "cell_type": "code",
   "execution_count": 10,
   "metadata": {},
   "outputs": [
    {
     "name": "stdout",
     "output_type": "stream",
     "text": [
      "ace\n",
      "\n",
      "abc\n",
      "abc\n",
      "abc\n",
      "aza\n"
     ]
    }
   ],
   "source": [
    "ㅁㅁ"
   ]
  },
  {
   "cell_type": "code",
   "execution_count": 7,
   "metadata": {},
   "outputs": [
    {
     "data": {
      "text/plain": [
       "'abz'"
      ]
     },
     "execution_count": 7,
     "metadata": {},
     "output_type": "execute_result"
    }
   ],
   "source": [
    "test1 = 'abc'\n",
    "# test2 = 'abd'\n",
    "# test1 < test2\n",
    "test1[:-1]+'z'"
   ]
  },
  {
   "cell_type": "code",
   "execution_count": 24,
   "metadata": {},
   "outputs": [
    {
     "name": "stdout",
     "output_type": "stream",
     "text": [
      "ace\n",
      "\n",
      "abc\n",
      "abc\n",
      "abd\n",
      "aza\n"
     ]
    }
   ],
   "source": [
    "\"\"\"\n",
    "이제 LCS의 길이를 반환하는 대신, 가장 긴 공통 부분 수열(LCS) 자체를 반환하도록 코드를 수정했습니다. 또한, LCS가 여러 개 존재할 경우 알파벳 순으로 가장 작은 LCS를 선택합니다.\n",
    "\"\"\"\n",
    "# 내 풀이이 틀림...\n",
    "class Solution:\n",
    "    def longestCommonSubsequence(self, text1: str, text2: str) -> str:\n",
    "        # 길이 초기화\n",
    "        m, n = len(text1), len(text2)\n",
    "        dp = [[0] * (n + 1) for _ in range(m + 1)]\n",
    "\n",
    "        # DP 테이블 채우기\n",
    "        for i in range(1, m + 1):\n",
    "            for j in range(1, n + 1):\n",
    "                if text1[i - 1] == text2[j - 1]:\n",
    "                    dp[i][j] = dp[i - 1][j - 1] + 1\n",
    "                else:\n",
    "                    dp[i][j] = max(dp[i - 1][j], dp[i][j - 1])\n",
    "\n",
    "        # LCS 문자열 복원 (경로 추적)\n",
    "        ans = []\n",
    "        i, j = m, n\n",
    "        while i > 0 and j > 0:\n",
    "            if text1[i - 1] == text2[j - 1]:  # 두 문자가 같으면 ans에 추가\n",
    "                ans.append(text1[i - 1])\n",
    "                i -= 1\n",
    "                j -= 1\n",
    "            elif dp[i - 1][j] >= dp[i][j - 1]:  # 위쪽 값 선택\n",
    "                i -= 1\n",
    "            else:  # 왼쪽 값 선택\n",
    "                j -= 1\n",
    "\n",
    "        # 역순으로 추가했으므로 뒤집어서 반환\n",
    "        return \"\".join(reversed(ans))\n",
    "\n",
    "\n",
    "# 테스트 케이스\n",
    "if __name__ == \"__main__\":\n",
    "    solution = Solution()\n",
    "    # Example test cases\n",
    "    print(solution.longestCommonSubsequence(\"abcde\", \"ace\"))  # Output: \"ace\"\n",
    "    print(solution.longestCommonSubsequence(\"abc\", \"def\"))   # Output: \"\"\n",
    "    print(solution.longestCommonSubsequence(\"abc\", \"abc\"))   # Output: \"abc\"\n",
    "    print(solution.longestCommonSubsequence(\"abcd\", \"abdc\")) # Output: \"abc\"\n",
    "    print(solution.longestCommonSubsequence(\"abdc\", \"abcd\")) # Output: \"abc\" # 틀림림\n",
    "    print(solution.longestCommonSubsequence(\"aaczzcas\", \"cazia\")) # Output: \"aza\""
   ]
  },
  {
   "cell_type": "code",
   "execution_count": 27,
   "metadata": {},
   "outputs": [
    {
     "data": {
      "text/plain": [
       "'abcd'"
      ]
     },
     "execution_count": 27,
     "metadata": {},
     "output_type": "execute_result"
    }
   ],
   "source": [
    "test = \"abcde\"\n",
    "test[:4]"
   ]
  },
  {
   "cell_type": "code",
   "execution_count": null,
   "metadata": {},
   "outputs": [],
   "source": [
    "# set의 update() 메서드는 다른 iterable(set, list, tuple 등)의 모든 요소를 현재 set에 추가하는 메서드입니다.\n",
    "# set의 update 란\n",
    "set1 = {'a', 'b'}\n",
    "set2 = {'c', 'd'}\n",
    "set1.update(set2)\n",
    "print(set1)  # {'a', 'b', 'c', 'd'}\n",
    "\n",
    "# list로도 update 가능\n",
    "set1.update(['e', 'f'])\n",
    "print(set1)  # {'a', 'b', 'c', 'd', 'e', 'f'}"
   ]
  },
  {
   "cell_type": "code",
   "execution_count": 29,
   "metadata": {},
   "outputs": [
    {
     "name": "stdout",
     "output_type": "stream",
     "text": [
      "{'aza', 'cza'}\n",
      "aza\n"
     ]
    }
   ],
   "source": [
    "\"\"\"\n",
    "이제 LCS의 길이를 반환하는 대신, 가장 긴 공통 부분 수열(LCS) 자체를 반환하도록 코드를 수정했습니다. 또한, LCS가 여러 개 존재할 경우 알파벳 순으로 가장 작은 LCS를 선택합니다.\n",
    "\"\"\"\n",
    "# 내 풀이이 틀림... dp table 일단 채워놓고 이걸로 풀어볼까까 -> Claude 풀이.. 경이롭다\n",
    "class Solution:\n",
    "    def longestCommonSubsequence(self, text1: str, text2: str) -> str:\n",
    "        # 길이 초기화\n",
    "        m, n = len(text1), len(text2)\n",
    "        dp = [[0] * (n + 1) for _ in range(m + 1)]\n",
    "        \n",
    "        # DP 테이블 채우기\n",
    "        for i in range(1, m + 1):\n",
    "            for j in range(1, n + 1):\n",
    "                if text1[i - 1] == text2[j - 1]:\n",
    "                    dp[i][j] = dp[i - 1][j - 1] + 1\n",
    "                else:\n",
    "                    dp[i][j] = max(dp[i - 1][j], dp[i][j - 1])\n",
    "        \n",
    "        # LCS 문자열 찾기\n",
    "        def find_lcs(i: int, j: int, length: int) -> set:\n",
    "            if length == 0:\n",
    "                return {''}\n",
    "            \n",
    "            if i == 0 or j == 0:\n",
    "                return set()\n",
    "                \n",
    "            result = set()\n",
    "            \n",
    "            # 현재 문자가 같은 경우\n",
    "            if text1[i-1] == text2[j-1]:\n",
    "                sub_lcs = find_lcs(i-1, j-1, length-1)\n",
    "                for s in sub_lcs:\n",
    "                    result.add(s + text1[i-1])\n",
    "            \n",
    "            # 위쪽으로 이동할 수 있는 경우\n",
    "            if dp[i-1][j] == length:\n",
    "                result.update(find_lcs(i-1, j, length))\n",
    "                \n",
    "            # 왼쪽으로 이동할 수 있는 경우\n",
    "            if dp[i][j-1] == length:\n",
    "                result.update(find_lcs(i, j-1, length))\n",
    "                \n",
    "            return result\n",
    "        \n",
    "        # 모든 가능한 LCS를 찾고 사전순으로 가장 작은 것 반환\n",
    "        all_lcs = find_lcs(m, n, dp[m][n])\n",
    "        # print(all_lcs)\n",
    "        return min(all_lcs) if all_lcs else \"\"\n",
    "\n",
    "\n",
    "# 테스트 케이스\n",
    "if __name__ == \"__main__\":\n",
    "    solution = Solution()\n",
    "    # Example test cases\n",
    "    # print(solution.longestCommonSubsequence(\"abcde\", \"ace\"))  # Output: \"ace\"\n",
    "    # print(solution.longestCommonSubsequence(\"abc\", \"def\"))   # Output: \"\"\n",
    "    # print(solution.longestCommonSubsequence(\"abc\", \"abc\"))   # Output: \"abc\"\n",
    "    # print(solution.longestCommonSubsequence(\"abcd\", \"abdc\")) # Output: \"abc\"\n",
    "    # print(solution.longestCommonSubsequence(\"abdc\", \"abcd\")) # Output: \"abc\" \n",
    "    print(solution.longestCommonSubsequence(\"aaczzcas\", \"cazia\")) # Output: \"aza\""
   ]
  },
  {
   "cell_type": "code",
   "execution_count": 16,
   "metadata": {},
   "outputs": [
    {
     "name": "stdout",
     "output_type": "stream",
     "text": [
      "ace\n",
      "\n",
      "abc\n",
      "abc\n",
      "abc\n",
      "aza\n"
     ]
    }
   ],
   "source": [
    "\"\"\"\n",
    "이제 LCS의 길이를 반환하는 대신, 가장 긴 공통 부분 수열(LCS) 자체를 반환하도록 코드를 수정했습니다. 또한, LCS가 여러 개 존재할 경우 알파벳 순으로 가장 작은 LCS를 선택합니다.\n",
    "\"\"\"\n",
    "#GPT 풀이\n",
    "class Solution:\n",
    "    def longestCommonSubsequence(self, text1: str, text2: str) -> str:\n",
    "        # 길이 초기화\n",
    "        m, n = len(text1), len(text2)\n",
    "\n",
    "        # DP 테이블 초기화\n",
    "        dp = [[\"\" for _ in range(n + 1)] for _ in range(m + 1)]\n",
    "\n",
    "        # DP 테이블 채우기\n",
    "        for i in range(1, m + 1):\n",
    "            for j in range(1, n + 1):\n",
    "                if text1[i - 1] == text2[j - 1]:\n",
    "                    # 문자가 같으면 이전 LCS에 현재 문자를 추가\n",
    "                    dp[i][j] = dp[i - 1][j - 1] + text1[i - 1]\n",
    "                else:\n",
    "                    # 다르면 알파벳 순으로 작은 LCS를 선택\n",
    "                    if len(dp[i - 1][j]) > len(dp[i][j - 1]):\n",
    "                        dp[i][j] = dp[i - 1][j]\n",
    "                    elif len(dp[i - 1][j]) < len(dp[i][j - 1]):\n",
    "                        dp[i][j] = dp[i][j - 1]\n",
    "                    else:\n",
    "                        dp[i][j] = min(dp[i - 1][j], dp[i][j - 1])\n",
    "\n",
    "        # 최종 결과 반환\n",
    "        return dp[m][n]\n",
    "\n",
    "# 테스트 케이스\n",
    "if __name__ == \"__main__\":\n",
    "    solution = Solution()\n",
    "    # Example test cases\n",
    "    print(solution.longestCommonSubsequence(\"abcde\", \"ace\"))  # Output: \"ace\"\n",
    "    print(solution.longestCommonSubsequence(\"abc\", \"def\"))   # Output: \"\"\n",
    "    print(solution.longestCommonSubsequence(\"abc\", \"abc\"))   # Output: \"abc\"\n",
    "    print(solution.longestCommonSubsequence(\"abcd\", \"abdc\")) # Output: \"abc\"\n",
    "    print(solution.longestCommonSubsequence(\"abdc\", \"abcd\")) # Output: \"abc\"\n",
    "    print(solution.longestCommonSubsequence(\"aaczzcas\", \"cazia\")) # Output: \"aza\""
   ]
  },
  {
   "cell_type": "code",
   "execution_count": null,
   "metadata": {},
   "outputs": [],
   "source": [
    "class Solution:\n",
    "    def longestCommonSubsequence(self, text1: str, text2: str) -> str:\n",
    "        # 길이 초기화\n",
    "        m, n = len(text1), len(text2)\n",
    "        dp = [[0] * (n + 1) for _ in range(m + 1)]\n",
    "        \n",
    "        # DP 테이블 채우기\n",
    "        for i in range(1, m + 1):\n",
    "            for j in range(1, n + 1):\n",
    "                if text1[i - 1] == text2[j - 1]:\n",
    "                    dp[i][j] = dp[i - 1][j - 1] + 1\n",
    "                else:\n",
    "                    dp[i][j] = max(dp[i - 1][j], dp[i][j - 1])\n",
    "        \n",
    "        # 사전순으로 가장 작은 LCS 찾기\n",
    "        def find_min_lcs(i: int, j: int, length: int) -> str:\n",
    "            if length == 0:\n",
    "                return \"\"\n",
    "            \n",
    "            if i == 0 or j == 0:\n",
    "                return None\n",
    "            \n",
    "            # 현재 문자가 같은 경우\n",
    "            if text1[i-1] == text2[j-1]:\n",
    "                sub_lcs = find_min_lcs(i-1, j-1, length-1)\n",
    "                if sub_lcs is not None:\n",
    "                    return sub_lcs + text1[i-1]\n",
    "            \n",
    "            # 위쪽 확인\n",
    "            if dp[i-1][j] == length:\n",
    "                up_lcs = find_min_lcs(i-1, j, length)\n",
    "                if up_lcs is not None:\n",
    "                    left_lcs = find_min_lcs(i, j-1, length)\n",
    "                    if left_lcs is not None:\n",
    "                        return min(up_lcs, left_lcs)\n",
    "                    return up_lcs\n",
    "            \n",
    "            # 왼쪽 확인\n",
    "            if dp[i][j-1] == length:\n",
    "                left_lcs = find_min_lcs(i, j-1, length)\n",
    "                if left_lcs is not None:\n",
    "                    return left_lcs\n",
    "            \n",
    "            return None\n",
    "        \n",
    "        result = find_min_lcs(m, n, dp[m][n])\n",
    "        return result if result is not None else \"\""
   ]
  }
 ],
 "metadata": {
  "kernelspec": {
   "display_name": "base",
   "language": "python",
   "name": "python3"
  },
  "language_info": {
   "codemirror_mode": {
    "name": "ipython",
    "version": 3
   },
   "file_extension": ".py",
   "mimetype": "text/x-python",
   "name": "python",
   "nbconvert_exporter": "python",
   "pygments_lexer": "ipython3",
   "version": "3.11.5"
  }
 },
 "nbformat": 4,
 "nbformat_minor": 2
}
