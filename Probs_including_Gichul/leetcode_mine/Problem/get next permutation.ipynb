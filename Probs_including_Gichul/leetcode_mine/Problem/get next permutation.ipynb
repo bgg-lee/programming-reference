{
 "cells": [
  {
   "cell_type": "markdown",
   "metadata": {},
   "source": [
    "A permutation of an array of integers is an arrangement of its members into a sequence or linear order.\n",
    "\n",
    "For example, for arr = [1,2,3], the following are all the permutations of arr: [1,2,3], [1,3,2], [2, 1, 3], [2, 3, 1], [3,1,2], [3,2,1].\n",
    "The next permutation of an array of integers is the next lexicographically greater permutation of its integer. More formally, if all the permutations of the array are sorted in one container according to their lexicographical order, then the next permutation of that array is the permutation that follows it in the sorted container. If such arrangement is not possible, the array must be rearranged as the lowest possible order (i.e., sorted in ascending order).\n",
    "\n",
    "For example, the next permutation of arr = [1,2,3] is [1,3,2].\n",
    "Similarly, the next permutation of arr = [2,3,1] is [3,1,2].\n",
    "While the next permutation of arr = [3,2,1] is [1,2,3] because [3,2,1] does not have a lexicographical larger rearrangement.\n",
    "Given an array of integers nums, find the next permutation of nums.\n",
    "\n",
    "The replacement must be in place and use only constant extra memory.\n",
    "\n",
    " \n",
    "\n",
    "Example 1:\n",
    "\n",
    "Input: nums = [1,2,3]\n",
    "Output: [1,3,2]\n",
    "Example 2:\n",
    "\n",
    "Input: nums = [3,2,1]\n",
    "Output: [1,2,3]\n",
    "Example 3:\n",
    "\n",
    "Input: nums = [1,1,5]\n",
    "Output: [1,5,1]\n",
    " \n",
    "\n",
    "Constraints:\n",
    "\n",
    "1 <= nums.length <= 100\n",
    "0 <= nums[i] <= 100"
   ]
  },
  {
   "cell_type": "code",
   "execution_count": null,
   "metadata": {},
   "outputs": [],
   "source": [
    "class Solution:\n",
    "    def nextPermutation(self, nums: List[int]) -> None:\n",
    "        \"\"\"\n",
    "        Do not return anything, modify nums in-place instead.\n",
    "        \"\"\"\n",
    "        # MAXIMUM CASE\n",
    "        n = len(nums)\n",
    "        if nums == sorted(nums,reverse=True) :\n",
    "            for i in range(n//2):\n",
    "                nums[i],nums[n-1-i] = nums[n-1-i],nums[i]\n",
    "            return\n",
    "        \n",
    "        for i in range(n - 2, -1, -1):\n",
    "            if nums[i] < nums[i + 1]:\n",
    "                # Find the next larger element to swap with nums[i]\n",
    "                for j in range(n - 1, i, -1):\n",
    "                    if nums[j] > nums[i]:\n",
    "                        nums[i], nums[j] = nums[j], nums[i]\n",
    "                        break\n",
    "                \n",
    "                # Sort the remaining part (right side of nums[i])\n",
    "                nums[i + 1:] = sorted(nums[i + 1:])\n",
    "                break\n",
    "        \n",
    "        "
   ]
  },
  {
   "cell_type": "code",
   "execution_count": 1,
   "metadata": {},
   "outputs": [
    {
     "data": {
      "text/plain": [
       "[1, 2, 3]"
      ]
     },
     "execution_count": 1,
     "metadata": {},
     "output_type": "execute_result"
    }
   ],
   "source": [
    "#C 풀이\n",
    "void swap(int *a, int*b){\n",
    "    int temp = *a;\n",
    "    *a = *b;\n",
    "    *b = temp;\n",
    "}\n",
    "\n",
    "void reverse(int* lst, int start, int end){\n",
    "    while(start < end){\n",
    "        swap(&lst[start],&lst[end]);\n",
    "        start++;\n",
    "        end--;\n",
    "    }\n",
    "}\n",
    "\n",
    "void nextPermutation(int* nums, int numsSize) {\n",
    "    for(int i=numsSize-1;i>=1;i--){\n",
    "        if(nums[i]>=nums[i-1]){\n",
    "            for(int j=numsSize-1;j>=i;j--){\n",
    "                if(nums[j]>nums[i-1]){\n",
    "                    swap(&nums[j],&nums[i-1]);\n",
    "                    reverse(nums,i,numsSize-1);\n",
    "                    return;\n",
    "                }\n",
    "            }\n",
    "        }\n",
    "    }\n",
    "    // Max value case\n",
    "    reverse(nums,0,numsSize-1);\n",
    "}"
   ]
  },
  {
   "cell_type": "code",
   "execution_count": null,
   "metadata": {},
   "outputs": [],
   "source": [
    "# C++\n",
    "class Solution {\n",
    "public:\n",
    "    void reverse(vector<int>& lst, int s, int e){\n",
    "        while(s<e){\n",
    "            swap(lst[s],lst[e]);\n",
    "            s++;\n",
    "            e--;\n",
    "        }\n",
    "    }\n",
    "\n",
    "    void nextPermutation(vector<int>& nums) {\n",
    "        int n = nums.size();\n",
    "        int i = n-2;\n",
    "\n",
    "        while( i >= 0 && nums[i] >= nums[i+1]){\n",
    "            i--;\n",
    "        }\n",
    "\n",
    "        if(i>=0){\n",
    "            int j = n-1;\n",
    "            while(nums[j] <= nums[i]){\n",
    "                j--;\n",
    "            }\n",
    "            swap(nums[i],nums[j]);\n",
    "        }\n",
    "        reverse(nums,i+1,n-1);\n",
    "    }\n",
    "};"
   ]
  }
 ],
 "metadata": {
  "kernelspec": {
   "display_name": "base",
   "language": "python",
   "name": "python3"
  },
  "language_info": {
   "codemirror_mode": {
    "name": "ipython",
    "version": 3
   },
   "file_extension": ".py",
   "mimetype": "text/x-python",
   "name": "python",
   "nbconvert_exporter": "python",
   "pygments_lexer": "ipython3",
   "version": "3.11.5"
  }
 },
 "nbformat": 4,
 "nbformat_minor": 2
}
