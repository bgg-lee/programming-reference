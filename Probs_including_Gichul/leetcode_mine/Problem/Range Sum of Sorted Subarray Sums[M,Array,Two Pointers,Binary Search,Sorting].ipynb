{
 "cells": [
  {
   "cell_type": "markdown",
   "id": "1b307736",
   "metadata": {},
   "source": [
    "You are given the array nums consisting of n positive integers. You computed the sum of all non-empty continuous subarrays from the array and then sorted them in non-decreasing order, creating a new array of n * (n + 1) / 2 numbers.\n",
    "\n",
    "Return the sum of the numbers from index left to index right (indexed from 1), inclusive, in the new array. Since the answer can be a huge number return it modulo 109 + 7.\n",
    "\n",
    "---\n",
    "\n",
    "Example 1:\n",
    "\n",
    "Input: nums = [1,2,3,4], n = 4, left = 1, right = 5\n",
    "Output: 13 \n",
    "Explanation: All subarray sums are 1, 3, 6, 10, 2, 5, 9, 3, 7, 4. After sorting them in non-decreasing order we have the new array [1, 2, 3, 3, 4, 5, 6, 7, 9, 10]. The sum of the numbers from index le = 1 to ri = 5 is 1 + 2 + 3 + 3 + 4 = 13. \n",
    "---\n",
    "Example 2:\n",
    "\n",
    "Input: nums = [1,2,3,4], n = 4, left = 3, right = 4\n",
    "Output: 6\n",
    "Explanation: The given array is the same as example 1. We have the new array [1, 2, 3, 3, 4, 5, 6, 7, 9, 10]. The sum of the numbers \n",
    "from index le = 3 to ri = 4 is 3 + 3 = 6.\n",
    "---\n",
    "Example 3:\n",
    "\n",
    "Input: nums = [1,2,3,4], n = 4, left = 1, right = 10\n",
    "Output: 50\n",
    " \n",
    "---\n",
    "Constraints:\n",
    "\n",
    "n == nums.length\n",
    "1 <= nums.length <= 1000\n",
    "1 <= nums[i] <= 100\n",
    "1 <= left <= right <= n * (n + 1) / 2"
   ]
  },
  {
   "cell_type": "code",
   "execution_count": 1,
   "id": "9e9369b6",
   "metadata": {},
   "outputs": [
    {
     "data": {
      "text/plain": [
       "100"
      ]
     },
     "execution_count": 1,
     "metadata": {},
     "output_type": "execute_result"
    }
   ],
   "source": [
    "#1 python . 내 풀이 -> Naive한듯\n",
    "class Solution:\n",
    "    def rangeSum(self, nums: List[int], n: int, left: int, right: int) -> int:\n",
    "        modulo = 10**9 + 7\n",
    "        \n",
    "        i = 1\n",
    "        ans = []\n",
    "        while i <= n:\n",
    "            for j in range(n-(i-1)):\n",
    "                num = sum(nums[j:j+i])\n",
    "                ans.append(num)\n",
    "            i += 1\n",
    "        ans.sort()\n",
    "        \n",
    "        return sum(ans[left-1:right]) % modulo"
   ]
  },
  {
   "cell_type": "code",
   "execution_count": null,
   "id": "5d6044e4",
   "metadata": {},
   "outputs": [],
   "source": [
    "class Solution:\n",
    "    def rangeSum(self, nums: List[int], n: int, left: int, right: int) -> int:\n",
    "        modulo = 10**9+7\n",
    "        ans = []\n",
    "\n",
    "        for i in range(n):\n",
    "            ans.append(nums[i])\n",
    "            num = nums[i]\n",
    "            for j in range(i+1,n):\n",
    "                num += nums[j]\n",
    "                ans.append(num)\n",
    "        \n",
    "        ans.sort()\n",
    "        return sum(ans[left-1:right])%modulo"
   ]
  },
  {
   "cell_type": "code",
   "execution_count": null,
   "id": "d5568751",
   "metadata": {},
   "outputs": [],
   "source": [
    "# C: Quicksort C의 math 함수는 math.h include! -> for pow function\n",
    "#include <stdio.h>\n",
    "#include <stdlib.h>\n",
    "\n",
    "// 비교 함수: 정렬을 위한 비교 함수\n",
    "int compare(const void *a, const void *b) {\n",
    "    return (*(int*)a - *(int*)b);\n",
    "}\n",
    "\n",
    "int rangeSum(int* nums, int numsSize, int left, int right) {\n",
    "    int* subarraySums = (int*)malloc(numsSize * (numsSize + 1) / 2 * sizeof(int));\n",
    "    int index = 0;\n",
    "\n",
    "    // Step 1: 모든 서브배열의 합을 계산하여 배열에 저장\n",
    "    for (int i = 0; i < numsSize; i++) {\n",
    "        int sum = 0;\n",
    "        for (int j = i; j < numsSize; j++) {\n",
    "            sum += nums[j];\n",
    "            subarraySums[index++] = sum;\n",
    "        }\n",
    "    }\n",
    "\n",
    "    // Step 2: 서브배열 합을 정렬\n",
    "    qsort(subarraySums, index, sizeof(int), compare);\n",
    "\n",
    "    // Step 3: 주어진 범위 내에서 합 계산\n",
    "    int result = 0;\n",
    "    for (int i = left - 1; i < right; i++) {\n",
    "        result += subarraySums[i];\n",
    "    }\n",
    "\n",
    "    free(subarraySums); // 메모리 해제\n",
    "    return result;\n",
    "}"
   ]
  },
  {
   "cell_type": "code",
   "execution_count": null,
   "id": "9ed8c06d",
   "metadata": {},
   "outputs": [],
   "source": [
    "#C++ sort 가 있어서 편하다 pow 함수는 => cmath include\n",
    "class Solution {\n",
    "public:\n",
    "    int rangeSum(vector<int>& nums, int n, int left, int right) {\n",
    "        long long mod = pow(10,9)+7;\n",
    "        vector<int> ans;\n",
    "        for(int i=0;i<n;i++){\n",
    "            int num = nums[i];\n",
    "            ans.push_back(num);\n",
    "            for(int j=i+1;j<n;j++){\n",
    "                num += nums[j];\n",
    "                ans.push_back(num);\n",
    "            }\n",
    "        }\n",
    "        sort(ans.begin(),ans.end());\n",
    "        long long answer=0;\n",
    "        for(int i=left-1;i<right;i++){\n",
    "            answer+=ans[i];\n",
    "            answer%=mod;}\n",
    "        return answer%mod;\n",
    "    }\n",
    "};"
   ]
  },
  {
   "cell_type": "code",
   "execution_count": null,
   "id": "f0a55e14",
   "metadata": {},
   "outputs": [],
   "source": []
  }
 ],
 "metadata": {
  "kernelspec": {
   "display_name": "Python 3 (ipykernel)",
   "language": "python",
   "name": "python3"
  },
  "language_info": {
   "codemirror_mode": {
    "name": "ipython",
    "version": 3
   },
   "file_extension": ".py",
   "mimetype": "text/x-python",
   "name": "python",
   "nbconvert_exporter": "python",
   "pygments_lexer": "ipython3",
   "version": "3.11.5"
  }
 },
 "nbformat": 4,
 "nbformat_minor": 5
}
