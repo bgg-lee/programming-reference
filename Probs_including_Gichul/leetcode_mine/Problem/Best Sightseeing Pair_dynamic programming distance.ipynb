{
 "cells": [
  {
   "cell_type": "markdown",
   "metadata": {},
   "source": [
    "You are given an integer array values where values[i] represents the value of the ith sightseeing spot. Two sightseeing spots i and j have a distance j - i between them.\n",
    "\n",
    "The score of a pair (i < j) of sightseeing spots is values[i] + values[j] + i - j: the sum of the values of the sightseeing spots, minus the distance between them.\n",
    "\n",
    "Return the maximum score of a pair of sightseeing spots.\n",
    "\n",
    " \n",
    "\n",
    "Example 1:\n",
    "\n",
    "Input: values = [8,1,5,2,6]\n",
    "Output: 11\n",
    "Explanation: i = 0, j = 2, values[i] + values[j] + i - j = 8 + 5 + 0 - 2 = 11\n",
    "Example 2:\n",
    "\n",
    "Input: values = [1,2]\n",
    "Output: 2\n",
    " \n",
    "\n",
    "Constraints:\n",
    "\n",
    "2 <= values.length <= 5 * 104\n",
    "1 <= values[i] <= 1000"
   ]
  },
  {
   "cell_type": "code",
   "execution_count": 2,
   "metadata": {},
   "outputs": [
    {
     "data": {
      "text/plain": [
       "[110]"
      ]
     },
     "execution_count": 2,
     "metadata": {},
     "output_type": "execute_result"
    }
   ],
   "source": [
    "temp = [3,1,5125,110]\n",
    "temp[1:]\n",
    "temp[3:]"
   ]
  },
  {
   "cell_type": "code",
   "execution_count": null,
   "metadata": {},
   "outputs": [],
   "source": [
    "# Time complexity 기준으로 CUT...\n",
    "class Solution:\n",
    "    def maxScoreSightseeingPair(self, values: List[int]) -> int:\n",
    "        ans = 0\n",
    "        for i in range(1,len(values)):\n",
    "            ans = max(ans,values[0]+values[i]-i,self.maxScoreSightseeingPair(values[i:]))\n",
    "        return ans"
   ]
  },
  {
   "cell_type": "code",
   "execution_count": null,
   "metadata": {},
   "outputs": [],
   "source": [
    "# 모범답안 -> Time Complexity O(N)\n",
    "class Solution:\n",
    "    def maxScoreSightseeingPair(self, values: List[int]) -> int:\n",
    "        ans = 0\n",
    "        max_val = values[0]\n",
    "        for i in range(1,len(values)):\n",
    "            ans = max(ans,max_val+values[i]-i)\n",
    "            max_val = max(max_val,values[i]+i)\n",
    "\n",
    "        return ans"
   ]
  },
  {
   "cell_type": "code",
   "execution_count": null,
   "metadata": {},
   "outputs": [],
   "source": [
    "# DP형태.. 위와 알고리즘은 아예 똑같다.\n",
    "class Solution:\n",
    "    def maxScoreSightseeingPair(self, values: List[int]) -> int:\n",
    "        n = len(values)\n",
    "        dp = [0] * n  # dp[i]: values[i] + i까지의 최대값\n",
    "        \n",
    "        # 초기 상태\n",
    "        dp[0] = values[0]\n",
    "        max_score = float('-inf')\n",
    "        \n",
    "        # DP 계산\n",
    "        for j in range(1, n):\n",
    "            max_score = max(max_score, dp[j - 1] + values[j] - j)\n",
    "            dp[j] = max(dp[j - 1], values[j] + j)\n",
    "        \n",
    "        return max_score"
   ]
  },
  {
   "cell_type": "code",
   "execution_count": null,
   "metadata": {},
   "outputs": [],
   "source": [
    "# C\n",
    "int max(int a, int b){\n",
    "    return a>b?a:b;\n",
    "}\n",
    "\n",
    "int maxScoreSightseeingPair(int* values, int valuesSize) {\n",
    "    int ans = 0;\n",
    "    int* dp = (int*)malloc(valuesSize*sizeof(int));\n",
    "    dp[0] = values[0]; // max value until 0th index (values[index]+index)\n",
    "\n",
    "    for(int i=1;i<valuesSize;i++){\n",
    "        ans = max(ans,dp[i-1]+values[i]-i);\n",
    "        dp[i] = max(dp[i-1],values[i]+i);\n",
    "    }\n",
    "    return ans;\n",
    "}"
   ]
  },
  {
   "cell_type": "code",
   "execution_count": null,
   "metadata": {},
   "outputs": [],
   "source": [
    "# C++\n",
    "class Solution {\n",
    "public:\n",
    "    int maxScoreSightseeingPair(vector<int>& values) {\n",
    "        int ans = 0;\n",
    "        int max_val = values[0];\n",
    "\n",
    "        for(int i=1;i<values.size();i++){\n",
    "            ans = max(ans,max_val+values[i]-i);\n",
    "            max_val = max(max_val,values[i]+i);\n",
    "        }\n",
    "\n",
    "        return ans;\n",
    "    }\n",
    "};"
   ]
  }
 ],
 "metadata": {
  "kernelspec": {
   "display_name": "base",
   "language": "python",
   "name": "python3"
  },
  "language_info": {
   "codemirror_mode": {
    "name": "ipython",
    "version": 3
   },
   "file_extension": ".py",
   "mimetype": "text/x-python",
   "name": "python",
   "nbconvert_exporter": "python",
   "pygments_lexer": "ipython3",
   "version": "3.11.5"
  }
 },
 "nbformat": 4,
 "nbformat_minor": 2
}
