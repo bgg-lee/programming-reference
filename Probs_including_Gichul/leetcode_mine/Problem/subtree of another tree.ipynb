{
 "cells": [
  {
   "cell_type": "markdown",
   "metadata": {},
   "source": [
    "572. Subtree of Another Tree\n",
    "Easy\n",
    "Topics\n",
    "Companies\n",
    "Hint\n",
    "Given the roots of two binary trees root and subRoot, return true if there is a subtree of root with the same structure and node values of subRoot and false otherwise.\n",
    "\n",
    "A subtree of a binary tree tree is a tree that consists of a node in tree and all of this node's descendants. The tree tree could also be considered as a subtree of itself.\n",
    "\n",
    " \n",
    "\n",
    "Example 1:\n",
    "\n",
    "\n",
    "Input: root = [3,4,5,1,2], subRoot = [4,1,2]\n",
    "Output: true\n",
    "Example 2:\n",
    "\n",
    "\n",
    "Input: root = [3,4,5,1,2,null,null,null,null,0], subRoot = [4,1,2]\n",
    "Output: false\n",
    " \n",
    "\n",
    "Constraints:\n",
    "\n",
    "The number of nodes in the root tree is in the range [1, 2000].\n",
    "The number of nodes in the subRoot tree is in the range [1, 1000].\n",
    "-104 <= root.val <= 104\n",
    "-104 <= subRoot.val <= 104"
   ]
  },
  {
   "cell_type": "code",
   "execution_count": 6,
   "metadata": {},
   "outputs": [
    {
     "data": {
      "text/plain": [
       "deque([7, 3, 5])"
      ]
     },
     "execution_count": 6,
     "metadata": {},
     "output_type": "execute_result"
    }
   ],
   "source": [
    "from collections import deque\n",
    "temp = deque([7])\n",
    "temp.append(3)\n",
    "temp.append(5)\n",
    "# temp.popleft()\n",
    "temp"
   ]
  },
  {
   "cell_type": "code",
   "execution_count": null,
   "metadata": {},
   "outputs": [],
   "source": [
    "# 핵 어거지로 풀긴했다. 무한 BFS 돌리기\n",
    "# Definition for a binary tree node.\n",
    "# class TreeNode:\n",
    "#     def __init__(self, val=0, left=None, right=None):\n",
    "#         self.val = val\n",
    "#         self.left = left\n",
    "#         self.right = right\n",
    "class Solution:\n",
    "    def isSubtree(self, root: Optional[TreeNode], subRoot: Optional[TreeNode]) -> bool:\n",
    "        # root 기준 traversal을 돌면서 subRoot을 찾는다.\n",
    "        # Traversal의 문제.. \n",
    "        def bfs(node1,node2) -> bool :\n",
    "            q1 = deque([node1])\n",
    "            q2 = deque([node2])\n",
    "            while q1 or q2 :\n",
    "                if (not q1 and q2) or (not q2 and q1) : return False\n",
    "                temp1 = q1.popleft()\n",
    "                temp2 = q2.popleft()\n",
    "                if temp1.val != temp2.val : return False\n",
    "                if (temp1.left and not temp2.left) or (not temp1.left and temp2.left): return False\n",
    "                if (temp1.right and not temp2.right) or (not temp1.right and temp2.right): return False\n",
    "\n",
    "                if temp1.left : q1.append(temp1.left)\n",
    "                if temp2.left : q2.append(temp2.left)\n",
    "                if temp1.right : q1.append(temp1.right)\n",
    "                if temp2.right : q2.append(temp2.right)\n",
    "            return True\n",
    "        \n",
    "        q = deque([root])\n",
    "        while q:\n",
    "            temp = q.popleft()\n",
    "            if temp.val == subRoot.val:\n",
    "                if bfs(temp,subRoot): return True\n",
    "            if temp.left : q.append(temp.left)\n",
    "            if temp.right : q.append(temp.right)\n",
    "        return False\n",
    "        "
   ]
  },
  {
   "cell_type": "code",
   "execution_count": null,
   "metadata": {},
   "outputs": [],
   "source": [
    "# 가독성 개선\n",
    "class Solution:\n",
    "    def same(self,x1: Optional[TreeNode],x2: Optional[TreeNode])->bool:\n",
    "        if not x1 and not x2:\n",
    "            return True\n",
    "        if not x1 or not x2:\n",
    "            return False\n",
    "        return x1.val == x2.val and self.same(x1.left,x2.left) and self.same(x1.right,x2.right)\n",
    "        \n",
    "\n",
    "\n",
    "    def isSubtree(self, r: Optional[TreeNode], sr: Optional[TreeNode]) -> bool:\n",
    "        if r is None:\n",
    "            return False\n",
    "        if self.same(r,sr):\n",
    "            return True\n",
    "        return self.isSubtree(r.left,sr) or self.isSubtree(r.right,sr) "
   ]
  },
  {
   "cell_type": "code",
   "execution_count": null,
   "metadata": {},
   "outputs": [
    {
     "data": {
      "text/plain": [
       "True"
      ]
     },
     "execution_count": 7,
     "metadata": {},
     "output_type": "execute_result"
    }
   ],
   "source": [
    "# True or False"
   ]
  },
  {
   "cell_type": "code",
   "execution_count": null,
   "metadata": {},
   "outputs": [],
   "source": [
    "# C\n",
    "/**\n",
    " * Definition for a binary tree node.\n",
    " * struct TreeNode {\n",
    " *     int val;\n",
    " *     struct TreeNode *left;\n",
    " *     struct TreeNode *right;\n",
    " * };\n",
    " */\n",
    "bool helper(struct TreeNode* node1, struct TreeNode* node2){\n",
    "    if(!node1 && !node2) return true;\n",
    "    if((!node1 && node2)||(node1 && !node2)||(node1->val != node2->val)) return false;\n",
    "    return helper(node1->left,node2->left) && helper(node1->right,node2->right);\n",
    "}\n",
    "bool isSubtree(struct TreeNode* root, struct TreeNode* subRoot) {\n",
    "    if(!root) return false;\n",
    "    if(helper(root,subRoot)) return true;\n",
    "    return isSubtree(root->left,subRoot) || isSubtree(root->right,subRoot);\n",
    "}"
   ]
  },
  {
   "cell_type": "code",
   "execution_count": null,
   "metadata": {},
   "outputs": [],
   "source": [
    "# C with queue -> C 로 queue 구현하기 C queue C 큐\n",
    "/**\n",
    " * Definition for a binary tree node.\n",
    " * struct TreeNode {\n",
    " *     int val;\n",
    " *     struct TreeNode *left;\n",
    " *     struct TreeNode *right;\n",
    " * };\n",
    " */\n",
    "bool helper(struct TreeNode* node1, struct TreeNode* node2){\n",
    "    if(!node1 && !node2) return true;\n",
    "    if((!node1 && node2)||(node1 && !node2)||(node1->val != node2->val)) return false;\n",
    "    return helper(node1->left,node2->left) && helper(node1->right,node2->right);\n",
    "}\n",
    "bool isSubtree(struct TreeNode* root, struct TreeNode* subRoot) {\n",
    "    int front = 0 , rear = 0;\n",
    "    struct TreeNode* queue[2001];\n",
    "    queue[rear++] = root;\n",
    "    while(front < rear){\n",
    "        struct TreeNode* temp = queue[front++];\n",
    "        if(helper(temp,subRoot)) return true;\n",
    "        if(temp->left) queue[rear++] = temp->left;\n",
    "        if(temp->right) queue[rear++] = temp->right;\n",
    "    }\n",
    "    return false;\n",
    "}"
   ]
  }
 ],
 "metadata": {
  "kernelspec": {
   "display_name": "Python 3",
   "language": "python",
   "name": "python3"
  },
  "language_info": {
   "codemirror_mode": {
    "name": "ipython",
    "version": 3
   },
   "file_extension": ".py",
   "mimetype": "text/x-python",
   "name": "python",
   "nbconvert_exporter": "python",
   "pygments_lexer": "ipython3",
   "version": "3.11.5"
  }
 },
 "nbformat": 4,
 "nbformat_minor": 2
}
