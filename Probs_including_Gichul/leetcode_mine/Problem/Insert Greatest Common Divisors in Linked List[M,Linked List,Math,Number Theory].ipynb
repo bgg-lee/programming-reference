{
 "cells": [
  {
   "cell_type": "markdown",
   "id": "5a5aef45",
   "metadata": {},
   "source": [
    "Given the head of a linked list head, in which each node contains an integer value.\n",
    "\n",
    "Between every pair of adjacent nodes, insert a new node with a value equal to the greatest common divisor of them.\n",
    "\n",
    "Return the linked list after insertion.\n",
    "\n",
    "The greatest common divisor of two numbers is the largest positive integer that evenly divides both numbers.\n",
    "\n",
    " \n",
    "\n",
    "Example 1:\n",
    "\n",
    "\n",
    "Input: head = [18,6,10,3]\n",
    "Output: [18,6,6,2,10,1,3]\n",
    "Explanation: The 1st diagram denotes the initial linked list and the 2nd diagram denotes the linked list after inserting the new nodes (nodes in blue are the inserted nodes).\n",
    "- We insert the greatest common divisor of 18 and 6 = 6 between the 1st and the 2nd nodes.\n",
    "- We insert the greatest common divisor of 6 and 10 = 2 between the 2nd and the 3rd nodes.\n",
    "- We insert the greatest common divisor of 10 and 3 = 1 between the 3rd and the 4th nodes.\n",
    "There are no more adjacent nodes, so we return the linked list.\n",
    "Example 2:\n",
    "\n",
    "\n",
    "Input: head = [7]\n",
    "Output: [7]\n",
    "Explanation: The 1st diagram denotes the initial linked list and the 2nd diagram denotes the linked list after inserting the new nodes.\n",
    "There are no pairs of adjacent nodes, so we return the initial linked list.\n",
    " \n",
    "\n",
    "Constraints:\n",
    "\n",
    "The number of nodes in the list is in the range [1, 5000].\n",
    "1 <= Node.val <= 1000"
   ]
  },
  {
   "cell_type": "code",
   "execution_count": 1,
   "id": "e0f33f84",
   "metadata": {},
   "outputs": [
    {
     "data": {
      "text/plain": [
       "24"
      ]
     },
     "execution_count": 1,
     "metadata": {},
     "output_type": "execute_result"
    }
   ],
   "source": [
    "24%40"
   ]
  },
  {
   "cell_type": "code",
   "execution_count": 11,
   "id": "4a4c87a8",
   "metadata": {},
   "outputs": [
    {
     "data": {
      "text/plain": [
       "24"
      ]
     },
     "execution_count": 11,
     "metadata": {},
     "output_type": "execute_result"
    }
   ],
   "source": [
    "def gcd(a,b):\n",
    "    if b==0 : return a\n",
    "    return gcd(b,b%a)\n",
    "gcd(40,24)\n",
    "# gcd(24,40)"
   ]
  },
  {
   "cell_type": "code",
   "execution_count": null,
   "id": "f176e22a",
   "metadata": {},
   "outputs": [],
   "source": [
    "# C++\n",
    "/**\n",
    " * Definition for singly-linked list.\n",
    " * struct ListNode {\n",
    " *     int val;\n",
    " *     ListNode *next;\n",
    " *     ListNode() : val(0), next(nullptr) {}\n",
    " *     ListNode(int x) : val(x), next(nullptr) {}\n",
    " *     ListNode(int x, ListNode *next) : val(x), next(next) {}\n",
    " * };\n",
    " */\n",
    "class Solution {\n",
    "public:\n",
    "    ListNode* insertGreatestCommonDivisors(ListNode* head) {\n",
    "        if(!head || !head->next) return head;\n",
    "        \n",
    "        ListNode* curr = head;\n",
    "        while(curr->next){\n",
    "            int num = gcd(curr->val,curr->next->val);\n",
    "            // Make a new node\n",
    "            ListNode* temp = new ListNode(num);\n",
    "            // Connect the nodes\n",
    "            temp->next = curr->next;\n",
    "            curr->next = temp;\n",
    "            curr = temp->next;\n",
    "        }\n",
    "        return head;\n",
    "    }\n",
    "    int gcd(int a, int b){\n",
    "        if(b==0) return a;\n",
    "        return gcd(b,a%b);\n",
    "    }\n",
    "};"
   ]
  },
  {
   "cell_type": "code",
   "execution_count": null,
   "id": "3a684a8c",
   "metadata": {},
   "outputs": [],
   "source": [
    "# C, C++과 같은 맥락\n",
    "/**\n",
    " * Definition for singly-linked list.\n",
    " * struct ListNode {\n",
    " *     int val;\n",
    " *     struct ListNode *next;\n",
    " * };\n",
    " */\n",
    "int gcd(int a, int b){\n",
    "    if(b==0) return a;\n",
    "    return gcd(b,a%b);\n",
    "}\n",
    "\n",
    "struct ListNode* insertGreatestCommonDivisors(struct ListNode* head){\n",
    "    if(!head || !head->next) return head;\n",
    "\n",
    "    struct ListNode* curr = head;\n",
    "    while(curr->next){\n",
    "        int num = gcd(curr->val,curr->next->val);\n",
    "        struct ListNode* temp = (struct ListNode*)malloc(sizeof(struct ListNode));\n",
    "        temp->val = num;\n",
    "        temp->next = curr->next;\n",
    "        curr->next = temp;\n",
    "        curr = temp->next;\n",
    "    }\n",
    "    return head;\n",
    "}\n"
   ]
  },
  {
   "cell_type": "code",
   "execution_count": null,
   "id": "93a73629",
   "metadata": {},
   "outputs": [],
   "source": [
    "# Python\n",
    "# Definition for singly-linked list.\n",
    "# class ListNode:\n",
    "#     def __init__(self, val=0, next=None):\n",
    "#         self.val = val\n",
    "#         self.next = next\n",
    "class Solution:\n",
    "    def insertGreatestCommonDivisors(self, head: Optional[ListNode]) -> Optional[ListNode]:\n",
    "        if not head or not head.next : return head\n",
    "        def gcd(a,b):\n",
    "            if b==0 : return a\n",
    "            return gcd(b,a%b)\n",
    "        curr = head\n",
    "        while curr.next :\n",
    "            num = gcd(curr.val,curr.next.val)\n",
    "            new_node = ListNode(num,curr.next)\n",
    "            curr.next = new_node\n",
    "            curr = new_node.next\n",
    "        return head"
   ]
  }
 ],
 "metadata": {
  "kernelspec": {
   "display_name": "Python 3 (ipykernel)",
   "language": "python",
   "name": "python3"
  },
  "language_info": {
   "codemirror_mode": {
    "name": "ipython",
    "version": 3
   },
   "file_extension": ".py",
   "mimetype": "text/x-python",
   "name": "python",
   "nbconvert_exporter": "python",
   "pygments_lexer": "ipython3",
   "version": "3.11.5"
  }
 },
 "nbformat": 4,
 "nbformat_minor": 5
}
