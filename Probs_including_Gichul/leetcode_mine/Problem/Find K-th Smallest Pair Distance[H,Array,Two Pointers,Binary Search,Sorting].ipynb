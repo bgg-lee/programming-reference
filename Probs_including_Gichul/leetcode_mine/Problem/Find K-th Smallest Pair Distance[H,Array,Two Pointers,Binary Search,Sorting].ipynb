{
 "cells": [
  {
   "cell_type": "code",
   "execution_count": null,
   "id": "3ca159b0",
   "metadata": {},
   "outputs": [],
   "source": [
    "The distance of a pair of integers a and b is defined as the absolute difference between a and b.\n",
    "\n",
    "Given an integer array nums and an integer k, return the kth smallest distance among all the pairs nums[i] and nums[j] where 0 <= i < j < nums.length.\n",
    "\n",
    "\n",
    "\n",
    "Example 1:\n",
    "\n",
    "Input: nums = [1,3,1], k = 1\n",
    "Output: 0\n",
    "Explanation: Here are all the pairs:\n",
    "(1,3) -> 2\n",
    "(1,1) -> 0\n",
    "(3,1) -> 2\n",
    "Then the 1st smallest distance pair is (1,1), and its distance is 0.\n",
    "Example 2:\n",
    "\n",
    "Input: nums = [1,1,1], k = 2\n",
    "Output: 0\n",
    "Example 3:\n",
    "\n",
    "Input: nums = [1,6,1], k = 3\n",
    "Output: 5\n",
    "\n",
    "\n",
    "Constraints:\n",
    "\n",
    "n == nums.length\n",
    "2 <= n <= 104\n",
    "0 <= nums[i] <= 106\n",
    "1 <= k <= n * (n - 1) / 2"
   ]
  },
  {
   "cell_type": "code",
   "execution_count": null,
   "id": "c13b4cdb",
   "metadata": {},
   "outputs": [],
   "source": [
    "# Python, binary search 이용인데, 답지를 봐도 현기증이 날 지경\n",
    "class Solution:\n",
    "    def smallestDistancePair(self, nums: List[int], k: int) -> int:\n",
    "        nums.sort()\n",
    "        left = 0 # min\n",
    "        right = nums[-1] - nums[0] #max\n",
    "        #BST\n",
    "        while left < right:\n",
    "            mid = (left+right) // 2\n",
    "            count = 0\n",
    "            left_idx = 0\n",
    "            for right_idx in range(len(nums)):\n",
    "                while nums[right_idx]-nums[left_idx] > mid :\n",
    "                    left_idx += 1\n",
    "                count += right_idx - left_idx\n",
    "            if count < k:\n",
    "                left = mid+1\n",
    "            else:\n",
    "                right = mid\n",
    "        return left\n",
    "                "
   ]
  },
  {
   "cell_type": "code",
   "execution_count": null,
   "id": "dc160b72",
   "metadata": {},
   "outputs": [],
   "source": []
  },
  {
   "cell_type": "code",
   "execution_count": null,
   "id": "6cdb0a03",
   "metadata": {},
   "outputs": [],
   "source": []
  }
 ],
 "metadata": {
  "kernelspec": {
   "display_name": "Python 3 (ipykernel)",
   "language": "python",
   "name": "python3"
  },
  "language_info": {
   "codemirror_mode": {
    "name": "ipython",
    "version": 3
   },
   "file_extension": ".py",
   "mimetype": "text/x-python",
   "name": "python",
   "nbconvert_exporter": "python",
   "pygments_lexer": "ipython3",
   "version": "3.11.5"
  }
 },
 "nbformat": 4,
 "nbformat_minor": 5
}
