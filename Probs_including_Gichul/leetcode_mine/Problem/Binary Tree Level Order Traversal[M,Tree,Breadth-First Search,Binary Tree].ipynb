{
 "cells": [
  {
   "cell_type": "markdown",
   "id": "f8ac2ca6",
   "metadata": {},
   "source": [
    "Given the root of a binary tree, return the level order traversal of its nodes' values. (i.e., from left to right, level by level).\n",
    "\n",
    " \n",
    "\n",
    "Example 1:\n",
    "\n",
    "\n",
    "Input: root = [3,9,20,null,null,15,7]\n",
    "Output: [[3],[9,20],[15,7]]\n",
    "Example 2:\n",
    "\n",
    "Input: root = [1]\n",
    "Output: [[1]]\n",
    "Example 3:\n",
    "\n",
    "Input: root = []\n",
    "Output: []\n",
    " \n",
    "\n",
    "Constraints:\n",
    "\n",
    "The number of nodes in the tree is in the range [0, 2000].\n",
    "-1000 <= Node.val <= 1000"
   ]
  },
  {
   "cell_type": "code",
   "execution_count": null,
   "id": "79c0f887",
   "metadata": {},
   "outputs": [],
   "source": [
    "# 1. C\n",
    "# 아 malloc 하는게 너무나 구찮다..\n",
    "#include <stdio.h>\n",
    "#include <stdlib.h>\n",
    "\n",
    "// 이진 트리 노드 구조체 정의\n",
    "struct TreeNode {\n",
    "    int val;\n",
    "    struct TreeNode *left;\n",
    "    struct TreeNode *right;\n",
    "};\n",
    "\n",
    "int** levelOrder(struct TreeNode* root, int** columnSizes, int* returnSize) {\n",
    "    if (root == NULL) {\n",
    "        *returnSize = 0;\n",
    "        return NULL;\n",
    "    }\n",
    "\n",
    "    // 메모리 초기화\n",
    "    int maxNodes = 1000;  // 트리 노드의 최대 개수에 맞춰 배열 크기 지정\n",
    "    struct TreeNode** queue = (struct TreeNode**)malloc(maxNodes * sizeof(struct TreeNode*));\n",
    "    int** result = (int**)malloc(maxNodes * sizeof(int*));\n",
    "    *columnSizes = (int*)malloc(maxNodes * sizeof(int));\n",
    "    \n",
    "    int front = 0, rear = 0;\n",
    "    *returnSize = 0;\n",
    "\n",
    "    // 루트 노드를 큐에 추가\n",
    "    queue[rear++] = root;\n",
    "\n",
    "    while (front < rear) {\n",
    "        int levelSize = rear - front;  // 현재 레벨에 있는 노드의 수\n",
    "        result[*returnSize] = (int*)malloc(levelSize * sizeof(int));\n",
    "        (*columnSizes)[*returnSize] = levelSize;\n",
    "\n",
    "        for (int i = 0; i < levelSize; i++) {\n",
    "            struct TreeNode* node = queue[front++];\n",
    "            result[*returnSize][i] = node->val;\n",
    "\n",
    "            if (node->left != NULL) {\n",
    "                queue[rear++] = node->left;\n",
    "            }\n",
    "            if (node->right != NULL) {\n",
    "                queue[rear++] = node->right;\n",
    "            }\n",
    "        }\n",
    "        (*returnSize)++;\n",
    "    }\n",
    "\n",
    "    free(queue);\n",
    "    return result;\n",
    "}\n",
    "\n"
   ]
  },
  {
   "cell_type": "code",
   "execution_count": null,
   "id": "ef06665e",
   "metadata": {},
   "outputs": [],
   "source": [
    "# 2. 위에 C 집어 치우고 C++ 고고\n",
    "/**\n",
    " * Definition for a binary tree node.\n",
    " * struct TreeNode {\n",
    " *     int val;\n",
    " *     TreeNode *left;\n",
    " *     TreeNode *right;\n",
    " *     TreeNode() : val(0), left(nullptr), right(nullptr) {}\n",
    " *     TreeNode(int x) : val(x), left(nullptr), right(nullptr) {}\n",
    " *     TreeNode(int x, TreeNode *left, TreeNode *right) : val(x), left(left), right(right) {}\n",
    " * };\n",
    " */\n",
    "class Solution {\n",
    "public:\n",
    "    vector<vector<int>> levelOrder(TreeNode* root) {\n",
    "        queue<TreeNode*> q;\n",
    "        vector<vector<int>> ans;\n",
    "        if(!root) return ans;\n",
    "        \n",
    "        q.push(root);\n",
    "        while(!q.empty()){\n",
    "            int lv = q.size();\n",
    "            vector<int> temp;\n",
    "\n",
    "            for(int i=0;i<lv;i++){\n",
    "                TreeNode* curr = q.front();\n",
    "                q.pop();\n",
    "                temp.push_back(curr->val);\n",
    "                if(curr->left) q.push(curr->left);\n",
    "                if(curr->right) q.push(curr->right);\n",
    "            }\n",
    "            ans.push_back(temp);\n",
    "        }\n",
    "        return ans;\n",
    "    }\n",
    "};"
   ]
  },
  {
   "cell_type": "code",
   "execution_count": null,
   "id": "070cdbaa",
   "metadata": {},
   "outputs": [],
   "source": [
    "# 3. Python DFS로 재귀적인 풀이 가보자\n",
    "# Definition for a binary tree node.\n",
    "# class TreeNode:\n",
    "#     def __init__(self, val=0, left=None, right=None):\n",
    "#         self.val = val\n",
    "#         self.left = left\n",
    "#         self.right = right\n",
    "\n",
    "class Solution:\n",
    "    def levelOrder(self, root: Optional[TreeNode]) -> List[List[int]]:\n",
    "        ans = []\n",
    "        self.dfs(root, ans, 0)\n",
    "        return ans\n",
    "    \n",
    "    def dfs(self, node, ans, lv):\n",
    "        if not node:\n",
    "            return\n",
    "\n",
    "        # 새 레벨이 추가될 때만 빈 리스트를 추가\n",
    "        if len(ans) == lv:\n",
    "            ans.append([])  \n",
    "        \n",
    "        ans[lv].append(node.val)\n",
    "\n",
    "        self.dfs(node.left, ans, lv + 1)\n",
    "        self.dfs(node.right, ans, lv + 1)\n"
   ]
  },
  {
   "cell_type": "code",
   "execution_count": 4,
   "id": "dd59214f",
   "metadata": {},
   "outputs": [
    {
     "data": {
      "text/plain": [
       "[[1, 2]]"
      ]
     },
     "execution_count": 4,
     "metadata": {},
     "output_type": "execute_result"
    }
   ],
   "source": [
    "lst = [[1]]\n",
    "lst[0]+=[2]\n",
    "lst"
   ]
  },
  {
   "cell_type": "code",
   "execution_count": 12,
   "id": "f550c948",
   "metadata": {},
   "outputs": [
    {
     "data": {
      "text/plain": [
       "2"
      ]
     },
     "execution_count": 12,
     "metadata": {},
     "output_type": "execute_result"
    }
   ],
   "source": [
    "lst = [[11,23,45],[22]]\n",
    "len(lst)"
   ]
  }
 ],
 "metadata": {
  "kernelspec": {
   "display_name": "Python 3 (ipykernel)",
   "language": "python",
   "name": "python3"
  },
  "language_info": {
   "codemirror_mode": {
    "name": "ipython",
    "version": 3
   },
   "file_extension": ".py",
   "mimetype": "text/x-python",
   "name": "python",
   "nbconvert_exporter": "python",
   "pygments_lexer": "ipython3",
   "version": "3.11.5"
  }
 },
 "nbformat": 4,
 "nbformat_minor": 5
}
