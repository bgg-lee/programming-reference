{
 "cells": [
  {
   "cell_type": "markdown",
   "id": "71f78303",
   "metadata": {},
   "source": [
    "You are given an integer array prices where prices[i] is the price of a given stock on the ith day.\n",
    "\n",
    "On each day, you may decide to buy and/or sell the stock. You can only hold at most one share of the stock at any time. However, you can buy it then immediately sell it on the same day.\n",
    "\n",
    "Find and return the maximum profit you can achieve.\n",
    "\n",
    "\n",
    "\n",
    "Example 1:\n",
    "\n",
    "Input: prices = [7,1,5,3,6,4]\n",
    "Output: 7\n",
    "Explanation: Buy on day 2 (price = 1) and sell on day 3 (price = 5), profit = 5-1 = 4.\n",
    "Then buy on day 4 (price = 3) and sell on day 5 (price = 6), profit = 6-3 = 3.\n",
    "Total profit is 4 + 3 = 7.\n",
    "Example 2:\n",
    "\n",
    "Input: prices = [1,2,3,4,5]\n",
    "Output: 4\n",
    "Explanation: Buy on day 1 (price = 1) and sell on day 5 (price = 5), profit = 5-1 = 4.\n",
    "Total profit is 4.\n",
    "Example 3:\n",
    "\n",
    "Input: prices = [7,6,4,3,1]\n",
    "Output: 0\n",
    "Explanation: There is no way to make a positive profit, so we never buy the stock to achieve the maximum profit of 0.\n",
    "\n",
    "\n",
    "Constraints:\n",
    "\n",
    "1 <= prices.length <= 3 * 104\n",
    "0 <= prices[i] <= 104"
   ]
  },
  {
   "cell_type": "code",
   "execution_count": null,
   "id": "023061f4",
   "metadata": {},
   "outputs": [],
   "source": [
    "#Python - my sol\n",
    "class Solution:\n",
    "    def maxProfit(self, prices: List[int]) -> int:\n",
    "        n = len(prices)\n",
    "        ans = 0\n",
    "        for i in range(1,n):\n",
    "            if prices[i-1] < prices[i]:\n",
    "                ans += prices[i] - prices[i-1]\n",
    "        return ans"
   ]
  },
  {
   "cell_type": "code",
   "execution_count": null,
   "id": "1a1afbfe",
   "metadata": {},
   "outputs": [],
   "source": [
    "#Python with DP -> 별 장점은 없지만 굳이 한 번 DP개념을 써 보는 것에 의의->DP를 2중으로 설정한 거부터가 생각해내기 쉽지 않다.\n",
    "class Solution:\n",
    "    def maxProfit(self, prices: List[int]) -> int:\n",
    "        n = len(prices)\n",
    "\n",
    "        dp=[[0]*2 for _ in range(n)]\n",
    "\n",
    "        #initialize\n",
    "        dp[0][0] = 0    # profit w/o holding stock on 1st day\n",
    "        dp[0][1] = -prices[0] # with \"\"\n",
    "\n",
    "        for i in range(1,n):\n",
    "            dp[i][0] = max(dp[i-1][0] , dp[i-1][1] + prices[i])\n",
    "            dp[i][1] = max(dp[i-1][1] , dp[i-1][0] - prices[i])\n",
    "        \n",
    "        return dp[n-1][0]"
   ]
  },
  {
   "cell_type": "code",
   "execution_count": null,
   "id": "35b0e469",
   "metadata": {},
   "outputs": [],
   "source": [
    "#C\n",
    "int maxProfit(int* prices, int pricesSize) {\n",
    "    int dp[pricesSize][2];\n",
    "\n",
    "    dp[0][0] = 0;\n",
    "    dp[0][1] = -prices[0];\n",
    "\n",
    "    for(int i=1;i<pricesSize;i++){\n",
    "        dp[i][0] = dp[i-1][0] > dp[i-1][1]+prices[i] ? dp[i-1][0] : dp[i-1][1]+prices[i];\n",
    "        dp[i][1] = dp[i-1][1] > dp[i-1][0]-prices[i] ? dp[i-1][1] : dp[i-1][0]-prices[i];\n",
    "    }\n",
    "\n",
    "    return dp[pricesSize-1][0];\n",
    "}"
   ]
  },
  {
   "cell_type": "code",
   "execution_count": null,
   "id": "b4d49fab",
   "metadata": {},
   "outputs": [],
   "source": [
    "# C++ Greedy\n",
    "class Solution {\n",
    "public:\n",
    "    int maxProfit(vector<int>& prices) {\n",
    "        int ans=0;\n",
    "        for(int i=1 ; i<prices.size();i++){\n",
    "            ans += max(0,prices[i]-prices[i-1]);\n",
    "        }\n",
    "        return ans;\n",
    "    }\n",
    "};"
   ]
  }
 ],
 "metadata": {
  "kernelspec": {
   "display_name": "Python 3 (ipykernel)",
   "language": "python",
   "name": "python3"
  },
  "language_info": {
   "codemirror_mode": {
    "name": "ipython",
    "version": 3
   },
   "file_extension": ".py",
   "mimetype": "text/x-python",
   "name": "python",
   "nbconvert_exporter": "python",
   "pygments_lexer": "ipython3",
   "version": "3.11.5"
  }
 },
 "nbformat": 4,
 "nbformat_minor": 5
}
