{
 "cells": [
  {
   "cell_type": "markdown",
   "metadata": {},
   "source": [
    "Swapping Nodes in a Linked List\n",
    "Medium\n",
    "Topics\n",
    "Companies\n",
    "Hint\n",
    "You are given the head of a linked list, and an integer k.\n",
    "\n",
    "Return the head of the linked list after swapping the values of the kth node from the beginning and the kth node from the end (the list is 1-indexed).\n",
    "\n",
    " \n",
    "\n",
    "Example 1:\n",
    "\n",
    "\n",
    "Input: head = [1,2,3,4,5], k = 2\n",
    "Output: [1,4,3,2,5]\n",
    "Example 2:\n",
    "\n",
    "Input: head = [7,9,6,6,7,8,3,0,9,5], k = 5\n",
    "Output: [7,9,6,6,8,7,3,0,9,5]\n",
    " \n",
    "\n",
    "Constraints:\n",
    "\n",
    "The number of nodes in the list is n.\n",
    "1 <= k <= n <= 105\n",
    "0 <= Node.val <= 100\n",
    "\n",
    "TOPIC : Linked List\n",
    "Two Pointers"
   ]
  },
  {
   "cell_type": "code",
   "execution_count": 4,
   "metadata": {},
   "outputs": [
    {
     "data": {
      "text/plain": [
       "1"
      ]
     },
     "execution_count": 4,
     "metadata": {},
     "output_type": "execute_result"
    }
   ],
   "source": [
    "test = [4,124,1]\n",
    "test[-1]"
   ]
  },
  {
   "cell_type": "code",
   "execution_count": null,
   "metadata": {},
   "outputs": [],
   "source": [
    "# Python 내 풀이.. 좀 짜친다.\n",
    "# Definition for singly-linked list.\n",
    "# class ListNode:\n",
    "#     def __init__(self, val=0, next=None):\n",
    "#         self.val = val\n",
    "#         self.next = next\n",
    "class Solution:\n",
    "    def swapNodes(self, head: Optional[ListNode], k: int) -> Optional[ListNode]:\n",
    "        stack = []\n",
    "        while head:\n",
    "            stack.append(head.val)\n",
    "            head = head.next\n",
    "        stack[k-1],stack[-k] = stack[-k],stack[k-1]\n",
    "        dummy = ListNode()\n",
    "        temp = dummy\n",
    "        for i in range(len(stack)):\n",
    "            temp.next = ListNode(stack[i])\n",
    "            temp = temp.next\n",
    "        return dummy.next"
   ]
  },
  {
   "cell_type": "code",
   "execution_count": null,
   "metadata": {},
   "outputs": [],
   "source": [
    "# 이렇게 하면 되는구나..\n",
    "# Definition for singly-linked list.\n",
    "# class ListNode:\n",
    "#     def __init__(self, val=0, next=None):\n",
    "#         self.val = val\n",
    "#         self.next = next\n",
    "class Solution:\n",
    "    def swapNodes(self, head: Optional[ListNode], k: int) -> Optional[ListNode]:\n",
    "        first = last = head\n",
    "        for i in range(1,k):\n",
    "            first = first.next\n",
    "        null_checker = first \n",
    "        while null_checker.next:\n",
    "            last = last.next\n",
    "            null_checker = null_checker.next\n",
    "        first.val,last.val = last.val, first.val\n",
    "        return head"
   ]
  },
  {
   "cell_type": "code",
   "execution_count": null,
   "metadata": {},
   "outputs": [],
   "source": [
    "# 위를 응용한 C\n",
    "/**\n",
    " * Definition for singly-linked list.\n",
    " * struct ListNode {\n",
    " *     int val;\n",
    " *     struct ListNode *next;\n",
    " * };\n",
    " */\n",
    "void swap(int *a, int *b){\n",
    "    int temp = *b;\n",
    "    *b = *a;\n",
    "    *a = temp;\n",
    "}\n",
    "\n",
    "struct ListNode* swapNodes(struct ListNode* head, int k) {\n",
    "    struct ListNode* left = head;\n",
    "    struct ListNode* right = head;\n",
    "\n",
    "    for(int i=1;i<k;i++){\n",
    "        left = left->next;\n",
    "    }\n",
    "\n",
    "    struct ListNode* temp = left;\n",
    "    while(temp->next){\n",
    "        temp = temp->next;\n",
    "        right = right->next;\n",
    "    }\n",
    "\n",
    "    swap(&(left->val),&(right->val));\n",
    "    return head;\n",
    "}"
   ]
  },
  {
   "cell_type": "code",
   "execution_count": null,
   "metadata": {},
   "outputs": [],
   "source": [
    "# C++\n",
    "/**\n",
    " * Definition for singly-linked list.\n",
    " * struct ListNode {\n",
    " *     int val;\n",
    " *     ListNode *next;\n",
    " *     ListNode() : val(0), next(nullptr) {}\n",
    " *     ListNode(int x) : val(x), next(nullptr) {}\n",
    " *     ListNode(int x, ListNode *next) : val(x), next(next) {}\n",
    " * };\n",
    " */\n",
    "class Solution {\n",
    "public:\n",
    "    ListNode* swapNodes(ListNode* head, int k) {\n",
    "        ListNode* slow =head, *fast = head;\n",
    "        while(k!=1){\n",
    "            slow = slow->next;\n",
    "            k--;\n",
    "        }\n",
    "        ListNode* temp = slow;\n",
    "        while(temp->next){\n",
    "            temp = temp->next;\n",
    "            fast = fast->next;\n",
    "        }\n",
    "        swap(slow->val,fast->val);\n",
    "        return head;\n",
    "    }\n",
    "};"
   ]
  },
  {
   "cell_type": "code",
   "execution_count": null,
   "metadata": {},
   "outputs": [],
   "source": [
    "# C++ -> container로 푸니까 성능은 더 안 좋네;\n",
    "/**\n",
    " * Definition for singly-linked list.\n",
    " * struct ListNode {\n",
    " *     int val;\n",
    " *     ListNode *next;\n",
    " *     ListNode() : val(0), next(nullptr) {}\n",
    " *     ListNode(int x) : val(x), next(nullptr) {}\n",
    " *     ListNode(int x, ListNode *next) : val(x), next(next) {}\n",
    " * };\n",
    " */\n",
    "class Solution {\n",
    "public:\n",
    "    ListNode* swapNodes(ListNode* head, int k) {\n",
    "        vector<int> vec;\n",
    "        while(head){\n",
    "            vec.push_back(head->val);\n",
    "            head = head->next;\n",
    "        }\n",
    "        int n = vec.size();\n",
    "        swap(vec[k-1],vec[n-k]);\n",
    "        struct ListNode* dummy = new struct ListNode();\n",
    "        struct ListNode* temp = dummy;\n",
    "        for(int i=0;i<n;i++){\n",
    "            temp -> next = new struct ListNode(vec[i]);\n",
    "            temp = temp->next;\n",
    "        }\n",
    "        return dummy->next;\n",
    "    }\n",
    "};"
   ]
  },
  {
   "cell_type": "code",
   "execution_count": null,
   "metadata": {},
   "outputs": [],
   "source": []
  },
  {
   "cell_type": "code",
   "execution_count": null,
   "metadata": {},
   "outputs": [],
   "source": []
  }
 ],
 "metadata": {
  "kernelspec": {
   "display_name": "base",
   "language": "python",
   "name": "python3"
  },
  "language_info": {
   "codemirror_mode": {
    "name": "ipython",
    "version": 3
   },
   "file_extension": ".py",
   "mimetype": "text/x-python",
   "name": "python",
   "nbconvert_exporter": "python",
   "pygments_lexer": "ipython3",
   "version": "3.11.5"
  }
 },
 "nbformat": 4,
 "nbformat_minor": 2
}
