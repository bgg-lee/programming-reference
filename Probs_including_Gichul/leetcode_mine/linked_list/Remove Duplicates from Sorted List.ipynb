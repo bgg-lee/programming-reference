{
 "cells": [
  {
   "cell_type": "markdown",
   "metadata": {},
   "source": [
    "83. Remove Duplicates from Sorted List\n",
    "Solved\n",
    "Easy\n",
    "Topics\n",
    "Companies\n",
    "Given the head of a sorted linked list, delete all duplicates such that each element appears only once. Return the linked list sorted as well.\n",
    "\n",
    " \n",
    "\n",
    "Example 1:\n",
    "\n",
    "\n",
    "Input: head = [1,1,2]\n",
    "Output: [1,2]\n",
    "Example 2:\n",
    "\n",
    "\n",
    "Input: head = [1,1,2,3,3]\n",
    "Output: [1,2,3]\n",
    " \n",
    "\n",
    "Constraints:\n",
    "\n",
    "The number of nodes in the list is in the range [0, 300].\n",
    "-100 <= Node.val <= 100\n",
    "The list is guaranteed to be sorted in ascending order."
   ]
  },
  {
   "cell_type": "code",
   "execution_count": null,
   "metadata": {},
   "outputs": [],
   "source": [
    "# Definition for singly-linked list.\n",
    "# class ListNode:\n",
    "#     def __init__(self, val=0, next=None):\n",
    "#         self.val = val\n",
    "#         self.next = next\n",
    "class Solution:\n",
    "    def deleteDuplicates(self, head: Optional[ListNode]) -> Optional[ListNode]:\n",
    "        if not head or not head.next : return head\n",
    "        curr = head\n",
    "        while curr:\n",
    "            if not curr.next : break\n",
    "            if curr.val != curr.next.val :\n",
    "                curr = curr.next\n",
    "            else :\n",
    "                curr.next = curr.next.next\n",
    "        return head"
   ]
  },
  {
   "cell_type": "code",
   "execution_count": null,
   "metadata": {},
   "outputs": [],
   "source": [
    "/**\n",
    " * Definition for singly-linked list.\n",
    " * struct ListNode {\n",
    " *     int val;\n",
    " *     struct ListNode *next;\n",
    " * };\n",
    " */\n",
    "struct ListNode* deleteDuplicates(struct ListNode* head) {\n",
    "    if(!head || !head->next) return head;\n",
    "    struct ListNode* temp = head;\n",
    "\n",
    "    while(temp && temp->next){\n",
    "        if(temp->val == temp->next->val){\n",
    "            temp->next = temp->next->next;\n",
    "        }else{\n",
    "            temp = temp->next;\n",
    "        }\n",
    "    }\n",
    "    return head;\n",
    "\n",
    "}"
   ]
  },
  {
   "cell_type": "code",
   "execution_count": null,
   "metadata": {},
   "outputs": [],
   "source": [
    "/**\n",
    " * Definition for singly-linked list.\n",
    " * struct ListNode {\n",
    " *     int val;\n",
    " *     ListNode *next;\n",
    " *     ListNode() : val(0), next(nullptr) {}\n",
    " *     ListNode(int x) : val(x), next(nullptr) {}\n",
    " *     ListNode(int x, ListNode *next) : val(x), next(next) {}\n",
    " * };\n",
    " */\n",
    "class Solution {\n",
    "public:\n",
    "    ListNode* deleteDuplicates(ListNode* head) {\n",
    "        if(!head || !head->next) return head;\n",
    "\n",
    "        ListNode* curr = head;\n",
    "        \n",
    "        while(curr && curr->next){\n",
    "            if(curr->val == curr->next->val){\n",
    "                ListNode* temp = curr->next;\n",
    "                curr->next = curr->next->next;\n",
    "                delete temp;\n",
    "            }\n",
    "            else curr = curr->next;\n",
    "        }\n",
    "        \n",
    "        return head;\n",
    "    }\n",
    "};"
   ]
  },
  {
   "cell_type": "code",
   "execution_count": null,
   "metadata": {},
   "outputs": [],
   "source": []
  },
  {
   "cell_type": "code",
   "execution_count": null,
   "metadata": {},
   "outputs": [],
   "source": []
  },
  {
   "cell_type": "code",
   "execution_count": null,
   "metadata": {},
   "outputs": [],
   "source": []
  }
 ],
 "metadata": {
  "kernelspec": {
   "display_name": "base",
   "language": "python",
   "name": "python3"
  },
  "language_info": {
   "codemirror_mode": {
    "name": "ipython",
    "version": 3
   },
   "file_extension": ".py",
   "mimetype": "text/x-python",
   "name": "python",
   "nbconvert_exporter": "python",
   "pygments_lexer": "ipython3",
   "version": "3.11.5"
  }
 },
 "nbformat": 4,
 "nbformat_minor": 2
}
