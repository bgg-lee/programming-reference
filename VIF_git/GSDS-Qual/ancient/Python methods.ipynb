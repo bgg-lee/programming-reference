{
 "cells": [
  {
   "cell_type": "markdown",
   "id": "c5555e36",
   "metadata": {},
   "source": [
    "# Graph"
   ]
  },
  {
   "cell_type": "code",
   "execution_count": 5,
   "id": "df6e8b53",
   "metadata": {
    "ExecuteTime": {
     "end_time": "2023-09-19T08:53:35.030744Z",
     "start_time": "2023-09-19T08:53:35.000950Z"
    },
    "code_folding": []
   },
   "outputs": [
    {
     "data": {
      "text/plain": [
       "([1, 2, 4, 3], [1, 2, 3, 4])"
      ]
     },
     "execution_count": 5,
     "metadata": {},
     "output_type": "execute_result"
    }
   ],
   "source": [
    "class GraphWithoutCollections:\n",
    "    def __init__(self):\n",
    "        self.graph = {}  # Dictionary to store adjacency list of graph\n",
    "\n",
    "    def add_edge(self, u, v):\n",
    "        # If vertex u is not in graph, add it\n",
    "        if u not in self.graph:\n",
    "            self.graph[u] = []\n",
    "        self.graph[u].append(v)\n",
    "        # Assuming it's an undirected graph\n",
    "        if v not in self.graph:\n",
    "            self.graph[v] = []\n",
    "        self.graph[v].append(u)\n",
    "\n",
    "    def dfs(self, start):\n",
    "        visited = {}\n",
    "        for node in self.graph:\n",
    "            visited[node] = False\n",
    "\n",
    "        result = []\n",
    "        self._dfs_helper(start, visited, result)\n",
    "        return result\n",
    "\n",
    "    def _dfs_helper(self, node, visited, result):\n",
    "        # Mark the current node as visited\n",
    "        visited[node] = True\n",
    "        result.append(node)\n",
    "\n",
    "        # Recur for all adjacent vertices\n",
    "        for i in self.graph[node]:\n",
    "            if not visited[i]:\n",
    "                self._dfs_helper(i, visited, result)\n",
    "\n",
    "    def bfs(self, start):\n",
    "        visited = {}\n",
    "        for node in self.graph:\n",
    "            visited[node] = False\n",
    "\n",
    "        # Create a queue for BFS\n",
    "        queue = []\n",
    "\n",
    "        # Mark the source node as visited and enqueue it\n",
    "        visited[start] = True\n",
    "        queue.append(start)\n",
    "\n",
    "        result = []\n",
    "\n",
    "        while queue:\n",
    "            # Dequeue a vertex from queue and print it\n",
    "            m = queue.pop(0)\n",
    "            result.append(m)\n",
    "\n",
    "            # Get all adjacent vertices of the dequeued vertex m\n",
    "            for i in self.graph[m]:\n",
    "                if not visited[i]:\n",
    "                    queue.append(i)\n",
    "                    visited[i] = True\n",
    "\n",
    "        return result\n",
    "\n",
    "# Test GraphWithoutCollections\n",
    "graph_example = GraphWithoutCollections()\n",
    "edges = [(1, 2), (1, 3), (2, 4), (3, 4)]\n",
    "for u, v in edges:\n",
    "    graph_example.add_edge(u, v)\n",
    "\n",
    "dfs_result = graph_example.dfs(1)\n",
    "bfs_result = graph_example.bfs(1)\n",
    "\n",
    "dfs_result, bfs_result\n"
   ]
  },
  {
   "cell_type": "code",
   "execution_count": 2,
   "id": "b47a9832",
   "metadata": {
    "ExecuteTime": {
     "end_time": "2023-09-19T07:36:01.586763Z",
     "start_time": "2023-09-19T07:36:01.572396Z"
    }
   },
   "outputs": [
    {
     "name": "stdout",
     "output_type": "stream",
     "text": [
      "2\n"
     ]
    }
   ],
   "source": [
    "def bfs(graph, start, end):\n",
    "    visited = set()\n",
    "    queue = [(start, 0)]  # (노드, 거리) 쌍을 리스트에 저장\n",
    "    while queue:\n",
    "        node, distance = queue.pop(0)\n",
    "        if node == end:\n",
    "            return distance\n",
    "        if node not in visited:\n",
    "            visited.add(node)\n",
    "            for neighbor in graph[node]:\n",
    "                queue.append((neighbor, distance + 1))\n",
    "    return -1  # 목표 노드에 도달하지 못한 경우\n",
    "\n",
    "# 그래프 예제 (위와 동일)\n",
    "graph = {\n",
    "    'A': ['B', 'C'],\n",
    "    'B': ['A', 'D', 'E'],\n",
    "    'C': ['A', 'F'],\n",
    "    'D': ['B'],\n",
    "    'E': ['B', 'F'],\n",
    "    'F': ['C', 'E']\n",
    "}\n",
    "\n",
    "print(bfs(graph, 'A', 'F'))  # 출력: 2\n"
   ]
  },
  {
   "cell_type": "code",
   "execution_count": 6,
   "id": "4631f132",
   "metadata": {
    "ExecuteTime": {
     "end_time": "2023-09-19T08:54:23.046728Z",
     "start_time": "2023-09-19T08:54:23.022756Z"
    }
   },
   "outputs": [
    {
     "data": {
      "text/plain": [
       "[1, 1, 1, 4, 4]"
      ]
     },
     "execution_count": 6,
     "metadata": {},
     "output_type": "execute_result"
    }
   ],
   "source": [
    "class UnionFindWithoutCollections:\n",
    "    def __init__(self, size):\n",
    "        self.parent = [i for i in range(size)]  # 각 노드의 부모 노드 정보\n",
    "        self.rank = [0 for _ in range(size)]  # 트리의 깊이를 저장하는 랭크\n",
    "\n",
    "    def find(self, x):\n",
    "        # x의 루트 노드를 찾아 반환\n",
    "        if self.parent[x] != x:\n",
    "            self.parent[x] = self.find(self.parent[x])\n",
    "        return self.parent[x]\n",
    "\n",
    "    def union(self, x, y):\n",
    "        root_x = self.find(x)\n",
    "        root_y = self.find(y)\n",
    "\n",
    "        # 두 트리를 합침\n",
    "        if root_x != root_y:\n",
    "            if self.rank[root_x] > self.rank[root_y]:\n",
    "                self.parent[root_y] = root_x\n",
    "            else:\n",
    "                self.parent[root_x] = root_y\n",
    "                if self.rank[root_x] == self.rank[root_y]:\n",
    "                    self.rank[root_y] += 1\n",
    "\n",
    "# 주석이 추가된 클래스를 테스트합니다.\n",
    "graph_example = GraphWithoutCollections()\n",
    "edges = [(1, 2), (1, 3), (2, 4), (3, 4)]\n",
    "for u, v in edges:\n",
    "    graph_example.add_edge(u, v)\n",
    "\n",
    "dfs_result = graph_example.dfs(1)\n",
    "bfs_result = graph_example.bfs(1)\n",
    "\n",
    "uf_example = UnionFindWithoutCollections(5)\n",
    "pairs = [(0, 1), (1, 2), (3, 4)]\n",
    "for u, v in pairs:\n",
    "    uf_example.union(u, v)\n",
    "\n",
    "roots = [uf_example.find(i) for i in range(5)]\n",
    "\n",
    "dfs_result, bfs_result, roots"
   ]
  },
  {
   "cell_type": "code",
   "execution_count": 3,
   "id": "fdaeb16f",
   "metadata": {
    "ExecuteTime": {
     "end_time": "2023-09-19T07:36:02.702326Z",
     "start_time": "2023-09-19T07:36:02.691010Z"
    }
   },
   "outputs": [
    {
     "name": "stdout",
     "output_type": "stream",
     "text": [
      "4\n"
     ]
    }
   ],
   "source": [
    "def dfs(graph, node, end, distance):\n",
    "    if node == end:\n",
    "        return distance\n",
    "    for neighbor in graph[node]:\n",
    "        if neighbor not in visited:\n",
    "            visited.add(neighbor)\n",
    "            result = dfs(graph, neighbor, end, distance + 1)\n",
    "            if result != -1:\n",
    "                return result\n",
    "    return -1  # 목표 노드에 도달하지 못한 경우\n",
    "\n",
    "# 그래프 예제 (위와 동일)\n",
    "graph = {\n",
    "    'A': ['B', 'C'],\n",
    "    'B': ['A', 'D', 'E'],\n",
    "    'C': ['A', 'F'],\n",
    "    'D': ['B'],\n",
    "    'E': ['B', 'F'],\n",
    "    'F': ['C', 'E']\n",
    "}\n",
    "\n",
    "visited = set()\n",
    "print(dfs(graph, 'A', 'F', 0))  # 출력: 2\n"
   ]
  },
  {
   "cell_type": "markdown",
   "id": "05fc33d7",
   "metadata": {},
   "source": [
    "# Binary Search Tree"
   ]
  },
  {
   "cell_type": "markdown",
   "id": "07632a61",
   "metadata": {},
   "source": [
    "트리 순회(Tree Traversal)는 트리의 노드를 방문하는 순서에 따라 다양한 방법으로 구분됩니다:\n",
    "\n",
    "전위 순회(Preorder Traversal) : 현재 노드 -> 왼쪽 하위 트리 -> 오른쪽 하위 트리 순서로 방문합니다.\n",
    "중위 순회(Inorder Traversal) : 왼쪽 하위 트리 -> 현재 노드 -> 오른쪽 하위 트리 순서로 방문합니다.\n",
    "후위 순회(Postorder Traversal) : 왼쪽 하위 트리 -> 오른쪽 하위 트리 -> 현재 노드 순서로 방문합니다.\n",
    "또한 바이너리 검색 트리에서의 삭제 연산은 세 가지 경우를 고려해야 합니다:\n",
    "\n",
    "리프 노드 삭제 : 자식이 없는 노드입니다. 이 경우 해당 노드를 바로 삭제합니다.\n",
    "하나의 자식만 가진 노드 삭제 : 해당 노드를 삭제하고 그 자식을 부모 노드에 연결합니다.\n",
    "두 자식을 가진 노드 삭제 : 왼쪽 하위 트리의 가장 큰 노드 또는 오른쪽 하위 트리의 가장 작은 노드(후계자)로 해당 노드를 대체하고 그 노드를 삭제합니다."
   ]
  },
  {
   "cell_type": "code",
   "execution_count": 1,
   "id": "a0a06a61",
   "metadata": {
    "ExecuteTime": {
     "end_time": "2023-09-11T02:51:12.197939Z",
     "start_time": "2023-09-11T02:51:12.166865Z"
    },
    "code_folding": []
   },
   "outputs": [],
   "source": [
    "class GraphWithoutCollections:\n",
    "    def __init__(self):\n",
    "        self.graph = {}\n",
    "    \n",
    "    def add_edge(self, u, v):\n",
    "        if u not in self.graph:\n",
    "            self.graph[u] = []\n",
    "        self.graph[u].append(v)\n",
    "        \n",
    "    def dfs(self, start_vertex):\n",
    "        visited = set()\n",
    "        output = []\n",
    "        \n",
    "        def dfs_recursive(v):\n",
    "            if v not in visited:\n",
    "                visited.add(v)\n",
    "                output.append(v)\n",
    "                for neighbor in self.graph.get(v, []):\n",
    "                    dfs_recursive(neighbor)\n",
    "        \n",
    "        dfs_recursive(start_vertex)\n",
    "        return output\n",
    "\n",
    "    def bfs(self, start_vertex):\n",
    "        visited = set()\n",
    "        queue = [start_vertex]\n",
    "        output = []\n",
    "\n",
    "        while queue:\n",
    "            vertex = queue.pop(0)\n",
    "            if vertex not in visited:\n",
    "                visited.add(vertex)\n",
    "                output.append(vertex)\n",
    "                queue.extend([neighbor for neighbor in self.graph.get(vertex, []) if neighbor not in visited])\n",
    "        return output\n",
    "\n",
    "class UnionFindWithoutCollections:\n",
    "    def __init__(self, n):\n",
    "        self.parent = [i for i in range(n)]\n",
    "        self.rank = [0] * n\n",
    "\n",
    "    def find(self, x):\n",
    "        if self.parent[x] != x:\n",
    "            self.parent[x] = self.find(self.parent[x])\n",
    "        return self.parent[x]\n",
    "\n",
    "    def union(self, x, y):\n",
    "        rootX = self.find(x)\n",
    "        rootY = self.find(y)\n",
    "\n",
    "        if rootX != rootY:\n",
    "            if self.rank[rootX] > self.rank[rootY]:\n",
    "                self.parent[rootY] = rootX\n",
    "            else:\n",
    "                self.parent[rootX] = rootY\n",
    "                if self.rank[rootX] == self.rank[rootY]:\n",
    "                    self.rank[rootY] += 1\n"
   ]
  },
  {
   "cell_type": "code",
   "execution_count": 2,
   "id": "497ef9c3",
   "metadata": {
    "ExecuteTime": {
     "end_time": "2023-09-13T02:47:22.796932Z",
     "start_time": "2023-09-13T02:47:22.752618Z"
    }
   },
   "outputs": [
    {
     "data": {
      "text/plain": [
       "([2, 3, 4, 5, 6, 7, 8],\n",
       " [5, 3, 2, 4, 7, 6, 8],\n",
       " [2, 4, 3, 6, 8, 7, 5],\n",
       " [2, 3, 4, 6, 7, 8])"
      ]
     },
     "execution_count": 2,
     "metadata": {},
     "output_type": "execute_result"
    }
   ],
   "source": [
    "class Node:\n",
    "    def __init__(self, key):\n",
    "        self.left = None  # 왼쪽 자식 노드\n",
    "        self.right = None  # 오른쪽 자식 노드\n",
    "        self.val = key  # 현재 노드의 값\n",
    "\n",
    "class BinaryTree:\n",
    "    def __init__(self):\n",
    "        self.root = None  # 트리의 루트 노드\n",
    "\n",
    "    # 키 값을 가진 노드를 트리에 삽입\n",
    "    def insert(self, key):\n",
    "        if self.root is None:\n",
    "            self.root = Node(key)\n",
    "        else:\n",
    "            self._insert_recursive(self.root, key)\n",
    "\n",
    "    # 재귀적으로 트리에 노드를 삽입\n",
    "    def _insert_recursive(self, node, key):\n",
    "        if node is None:\n",
    "            return Node(key)\n",
    "        \n",
    "        if key < node.val:\n",
    "            node.left = self._insert_recursive(node.left, key)\n",
    "        else:\n",
    "            node.right = self._insert_recursive(node.right, key)\n",
    "        \n",
    "        return node\n",
    "\n",
    "    # 중위 순회 결과 반환\n",
    "    def inorder(self):\n",
    "        return self._inorder_recursive(self.root)\n",
    "\n",
    "    def _inorder_recursive(self, node):\n",
    "        return [] if node is None else self._inorder_recursive(node.left) + [node.val] + self._inorder_recursive(node.right)\n",
    "\n",
    "    # 전위 순회 결과 반환\n",
    "    def preorder(self):\n",
    "        return self._preorder_recursive(self.root)\n",
    "\n",
    "    def _preorder_recursive(self, node):\n",
    "        return [] if node is None else [node.val] + self._preorder_recursive(node.left) + self._preorder_recursive(node.right)\n",
    "\n",
    "    # 후위 순회 결과 반환\n",
    "    def postorder(self):\n",
    "        return self._postorder_recursive(self.root)\n",
    "\n",
    "    def _postorder_recursive(self, node):\n",
    "        return [] if node is None else self._postorder_recursive(node.left) + self._postorder_recursive(node.right) + [node.val]\n",
    "\n",
    "    # 키 값을 가진 노드를 트리에서 삭제\n",
    "    def delete(self, key):\n",
    "        self.root = self._delete_recursive(self.root, key)\n",
    "\n",
    "    # 재귀적으로 노드를 삭제\n",
    "    def _delete_recursive(self, node, key):\n",
    "        if node is None:\n",
    "            return node\n",
    "\n",
    "        # 삭제할 키 값이 노드의 키 값보다 작으면 왼쪽 하위 트리에서 삭제\n",
    "        if key < node.val:\n",
    "            node.left = self._delete_recursive(node.left, key)\n",
    "        # 삭제할 키 값이 노드의 키 값보다 크면 오른쪽 하위 트리에서 삭제\n",
    "        elif key > node.val:\n",
    "            node.right = self._delete_recursive(node.right, key)\n",
    "        else:\n",
    "            # 노드가 하나의 자식 또는 자식이 없는 경우\n",
    "            if node.left is None:\n",
    "                temp = node.right\n",
    "                node = None\n",
    "                return temp\n",
    "            elif node.right is None:\n",
    "                temp = node.left\n",
    "                node = None\n",
    "                return temp\n",
    "\n",
    "            # 노드가 두 개의 자식을 가지는 경우\n",
    "            # 오른쪽 하위 트리에서 가장 작은 값을 가진 노드로 대체\n",
    "            node.val = self._min_value_node(node.right).val\n",
    "            node.right = self._delete_recursive(node.right, node.val)\n",
    "\n",
    "        return node\n",
    "\n",
    "    # 주어진 노드의 오른쪽 하위 트리에서 가장 작은 값을 가진 노드 반환\n",
    "    def _min_value_node(self, node):\n",
    "        current_node = node\n",
    "        while current_node.left is not None:\n",
    "            current_node = current_node.left\n",
    "        return current_node\n",
    "\n",
    "# 한글 주석이 달린 코드 테스트\n",
    "bt = BinaryTree()\n",
    "nodes = [5, 3, 7, 2, 4, 6, 8]\n",
    "for n in nodes:\n",
    "    bt.insert(n)\n",
    "\n",
    "inorder_result = bt.inorder()\n",
    "preorder_result = bt.preorder()\n",
    "postorder_result = bt.postorder()\n",
    "\n",
    "bt.delete(5)\n",
    "inorder_after_delete = bt.inorder()\n",
    "\n",
    "inorder_result, preorder_result, postorder_result, inorder_after_delete\n"
   ]
  },
  {
   "cell_type": "code",
   "execution_count": 38,
   "id": "9ac67982",
   "metadata": {
    "ExecuteTime": {
     "end_time": "2023-09-13T03:15:20.054197Z",
     "start_time": "2023-09-13T03:15:20.018934Z"
    },
    "code_folding": [
     0
    ]
   },
   "outputs": [
    {
     "data": {
      "text/plain": [
       "__main__.KaryTree"
      ]
     },
     "execution_count": 38,
     "metadata": {},
     "output_type": "execute_result"
    }
   ],
   "source": [
    "class KaryNode:\n",
    "    def __init__(self, key, K):\n",
    "        self.children = [None] * K  # K개의 자식 노드를 가질 수 있는 리스트\n",
    "        self.val = key  # 현재 노드의 값\n",
    "\n",
    "class KaryTree:\n",
    "    def __init__(self, K):\n",
    "        self.root = None  # 트리의 루트 노드\n",
    "        self.K = K  # 트리의 최대 자식 노드 수\n",
    "\n",
    "    # 키 값을 가진 노드를 트리에 삽입\n",
    "    def insert(self, key):\n",
    "        if self.root is None:\n",
    "            self.root = KaryNode(key, self.K)\n",
    "        else:\n",
    "            self._insert_recursive(self.root, key)\n",
    "\n",
    "    # 재귀적으로 트리에 노드를 삽입 (수정된 버전)\n",
    "    def _insert_recursive(self, node, key):\n",
    "        for i in range(self.K):\n",
    "            if not node.children[i]:\n",
    "                node.children[i] = KaryNode(key, self.K)\n",
    "                return True  # 삽입에 성공하면 True 반환\n",
    "            elif self._insert_recursive(node.children[i], key):  # 자식 노드에 대해 재귀적으로 삽입 시도\n",
    "                return True  # 재귀적으로 삽입에 성공하면 True 반환\n",
    "        return False  # 삽입에 실패하면 False 반환\n",
    "\n",
    "    # 전위 순회 결과 반환\n",
    "    def preorder(self):\n",
    "        return self._preorder_recursive(self.root)\n",
    "\n",
    "    def _preorder_recursive(self, node):\n",
    "        if not node:\n",
    "            return []\n",
    "        result = [node.val]\n",
    "        for child in node.children:\n",
    "            result.extend(self._preorder_recursive(child))\n",
    "        return result\n",
    "\n",
    "    # 후위 순회 결과 반환\n",
    "    def postorder(self):\n",
    "        return self._postorder_recursive(self.root)\n",
    "\n",
    "    def _postorder_recursive(self, node):\n",
    "        if not node:\n",
    "            return []\n",
    "        result = []\n",
    "        for child in node.children:\n",
    "            result.extend(self._postorder_recursive(child))\n",
    "        result.append(node.val)\n",
    "        return result\n",
    "    \n",
    "    # 첫 번째 자식으로 대체하여 삭제\n",
    "    def delete_with_first_child(self, key):\n",
    "        self.root = self._delete_with_first_child_recursive(self.root, key)\n",
    "    \n",
    "    def _delete_with_first_child_recursive(self, node, key):\n",
    "        if not node:\n",
    "            return None\n",
    "        \n",
    "        if node.val == key:\n",
    "            if node.children[0]:\n",
    "                first_child = node.children[0]\n",
    "                first_child.children.extend(node.children[1:])\n",
    "                return first_child\n",
    "            else:\n",
    "                return None\n",
    "        \n",
    "        for i in range(self.K):\n",
    "            node.children[i] = self._delete_with_first_child_recursive(node.children[i], key)\n",
    "        return node\n",
    "    \n",
    "    # 마지막 자식으로 대체하여 삭제\n",
    "    def delete_with_last_child(self, key):\n",
    "        self.root = self._delete_with_last_child_recursive(self.root, key)\n",
    "    \n",
    "    def _delete_with_last_child_recursive(self, node, key):\n",
    "        if not node:\n",
    "            return None\n",
    "        \n",
    "        if node.val == key:\n",
    "            if node.children[-1]:\n",
    "                last_child = node.children[-1]\n",
    "                last_child.children = node.children[:-1] + last_child.children\n",
    "                return last_child\n",
    "            else:\n",
    "                return None\n",
    "        \n",
    "        for i in range(self.K):\n",
    "            node.children[i] = self._delete_with_last_child_recursive(node.children[i], key)\n",
    "        return node\n",
    "\n",
    "KaryTree  # Return the class to confirm completion\n"
   ]
  },
  {
   "cell_type": "code",
   "execution_count": 39,
   "id": "5179d225",
   "metadata": {
    "ExecuteTime": {
     "end_time": "2023-09-13T03:15:22.982312Z",
     "start_time": "2023-09-13T03:15:22.965060Z"
    }
   },
   "outputs": [
    {
     "data": {
      "text/plain": [
       "([5, 3, 7, 2, 4, 6, 8, 9, 10, 11],\n",
       " [11, 10, 9, 8, 6, 4, 2, 7, 3, 5],\n",
       " [3, 7, 2, 4, 6, 8, 9, 10, 11],\n",
       " [])"
      ]
     },
     "execution_count": 39,
     "metadata": {},
     "output_type": "execute_result"
    }
   ],
   "source": [
    "# K-ary 트리 테스트 코드\n",
    "kt_test = KaryTree(3)  # 3-ary tree 생성\n",
    "\n",
    "# 노드 삽입\n",
    "nodes_to_insert = [5, 3, 7, 2, 4, 6, 8, 9, 10, 11]\n",
    "for n in nodes_to_insert:\n",
    "    kt_test.insert(n)\n",
    "\n",
    "# 전위 순회 및 후위 순회 결과 확인\n",
    "preorder_result_test = kt_test.preorder()\n",
    "postorder_result_test = kt_test.postorder()\n",
    "\n",
    "# 루트 노드 삭제 (첫 번째 자식으로 대체)\n",
    "kt_test.delete_with_first_child(5)\n",
    "preorder_after_first_child_delete_test = kt_test.preorder()\n",
    "\n",
    "# 3-ary 트리 다시 생성 및 노드 삽입\n",
    "kt_test = KaryTree(3)\n",
    "for n in nodes_to_insert:\n",
    "    kt_test.insert(n)\n",
    "\n",
    "# 루트 노드 삭제 (마지막 자식으로 대체)\n",
    "kt_test.delete_with_last_child(5)\n",
    "preorder_after_last_child_delete_test = kt_test.preorder()\n",
    "\n",
    "preorder_result_test, postorder_result_test, preorder_after_first_child_delete_test, preorder_after_last_child_delete_test\n"
   ]
  },
  {
   "cell_type": "markdown",
   "id": "adffa917",
   "metadata": {},
   "source": [
    "# Linked List"
   ]
  },
  {
   "cell_type": "code",
   "execution_count": 3,
   "id": "a9180544",
   "metadata": {
    "ExecuteTime": {
     "end_time": "2023-09-13T02:47:55.490550Z",
     "start_time": "2023-09-13T02:47:55.473889Z"
    }
   },
   "outputs": [
    {
     "data": {
      "text/plain": [
       "[1, 2, 3, 4, 5]"
      ]
     },
     "execution_count": 3,
     "metadata": {},
     "output_type": "execute_result"
    }
   ],
   "source": [
    "class ListNode:\n",
    "    def __init__(self, val=0, next=None):\n",
    "        self.val = val\n",
    "        self.next = next\n",
    "\n",
    "def create_linked_list(values):\n",
    "    if not values:\n",
    "        return None\n",
    "    head = ListNode(values[0])\n",
    "    current = head\n",
    "    for value in values[1:]:\n",
    "        current.next = ListNode(value)\n",
    "        current = current.next\n",
    "    return head\n",
    "\n",
    "def print_linked_list(head):\n",
    "    values = []\n",
    "    while head:\n",
    "        values.append(head.val)\n",
    "        head = head.next\n",
    "    return values\n",
    "\n",
    "# 연결 리스트 생성 예시\n",
    "lst_values = [1, 2, 3, 4, 5]\n",
    "head = create_linked_list(lst_values)\n",
    "print_linked_list(head)\n"
   ]
  },
  {
   "cell_type": "code",
   "execution_count": 4,
   "id": "2fc59ba2",
   "metadata": {
    "ExecuteTime": {
     "end_time": "2023-09-13T02:48:01.737341Z",
     "start_time": "2023-09-13T02:48:01.727988Z"
    },
    "code_folding": [
     0
    ]
   },
   "outputs": [],
   "source": [
    "#리버스(reverse)\n",
    "\n",
    "\n",
    "#원본 바꾸는 함수\n",
    "def reverseList(head: ListNode) -> ListNode:\n",
    "    prev = None\n",
    "    current = head\n",
    "    while current:\n",
    "        next_node = current.next\n",
    "        current.next = prev\n",
    "        prev = current\n",
    "        current = next_node\n",
    "    return prev\n",
    "\n",
    "#원본은 내버려두고 새로운 역순 뱉는 함수 \n",
    "def reverseListCopy(head: ListNode) -> ListNode:\n",
    "    if not head:\n",
    "        return None\n",
    "\n",
    "    prev = None\n",
    "    current = head\n",
    "    while current:\n",
    "        new_node = ListNode(current.val)\n",
    "        new_node.next = prev\n",
    "        prev = new_node\n",
    "        current = current.next\n",
    "    return prev\n",
    " "
   ]
  },
  {
   "cell_type": "code",
   "execution_count": 5,
   "id": "a863f1d1",
   "metadata": {
    "ExecuteTime": {
     "end_time": "2023-09-13T02:48:24.774069Z",
     "start_time": "2023-09-13T02:48:24.763424Z"
    },
    "code_folding": [
     0
    ]
   },
   "outputs": [
    {
     "data": {
      "text/plain": [
       "5"
      ]
     },
     "execution_count": 5,
     "metadata": {},
     "output_type": "execute_result"
    }
   ],
   "source": [
    "# 링크드 리스트길이 반환 \n",
    "def get_length(head: ListNode) -> int:\n",
    "\n",
    "    length = 0\n",
    "    current = head\n",
    "    while current:\n",
    "        length += 1\n",
    "        current = current.next\n",
    "    return length\n",
    "\n",
    "# Test\n",
    "length = get_length(head)\n",
    "length\n",
    "\n",
    "\n"
   ]
  },
  {
   "cell_type": "code",
   "execution_count": 6,
   "id": "80dda3d0",
   "metadata": {
    "ExecuteTime": {
     "end_time": "2023-09-13T02:48:54.826458Z",
     "start_time": "2023-09-13T02:48:54.810723Z"
    },
    "code_folding": [
     0
    ]
   },
   "outputs": [
    {
     "data": {
      "text/plain": [
       "[1, 2, 3, 4, 5]"
      ]
     },
     "execution_count": 6,
     "metadata": {},
     "output_type": "execute_result"
    }
   ],
   "source": [
    "# 링크드 리스트 중복 제거\n",
    "def remove_duplicates(head: ListNode) -> ListNode:\n",
    "    if not head:\n",
    "        return None\n",
    "\n",
    "    current = head\n",
    "    while current and current.next:\n",
    "        if current.val == current.next.val:\n",
    "            current.next = current.next.next\n",
    "        else:\n",
    "            current = current.next\n",
    "    return head\n",
    "\n",
    "# Test\n",
    "dup_list = create_linked_list([1, 2, 2, 3, 4, 4, 5])\n",
    "print_linked_list(dup_list)  # Before removing duplicates\n",
    "remove_duplicates(dup_list)\n",
    "print_linked_list(dup_list)  # After removing duplicates\n"
   ]
  },
  {
   "cell_type": "code",
   "execution_count": 7,
   "id": "55b4d4cd",
   "metadata": {
    "ExecuteTime": {
     "end_time": "2023-09-13T02:50:03.593769Z",
     "start_time": "2023-09-13T02:50:03.582793Z"
    },
    "code_folding": [
     0
    ]
   },
   "outputs": [
    {
     "data": {
      "text/plain": [
       "3"
      ]
     },
     "execution_count": 7,
     "metadata": {},
     "output_type": "execute_result"
    }
   ],
   "source": [
    "# k번째 노드 구하기\n",
    "def get_kth_node(head: ListNode, k: int) -> ListNode:\n",
    "    current = head\n",
    "    for _ in range(k-1):\n",
    "        if not current:\n",
    "            return None\n",
    "        current = current.next\n",
    "    return current\n",
    "\n",
    "# Test\n",
    "kth_node = get_kth_node(head, 3)\n",
    "kth_node.val if kth_node else None\n"
   ]
  },
  {
   "cell_type": "code",
   "execution_count": 8,
   "id": "6d3659d2",
   "metadata": {
    "ExecuteTime": {
     "end_time": "2023-09-13T02:50:15.390738Z",
     "start_time": "2023-09-13T02:50:15.380179Z"
    },
    "code_folding": [
     0
    ]
   },
   "outputs": [
    {
     "data": {
      "text/plain": [
       "3"
      ]
     },
     "execution_count": 8,
     "metadata": {},
     "output_type": "execute_result"
    }
   ],
   "source": [
    "#가운데 값 찾기\n",
    "def get_middle_node(head: ListNode) -> ListNode:\n",
    "    if not head:\n",
    "        return None\n",
    "\n",
    "    slow, fast = head, head\n",
    "    while fast and fast.next:\n",
    "        slow = slow.next\n",
    "        fast = fast.next.next\n",
    "    return slow\n",
    "\n",
    "# Test\n",
    "middle_node = get_middle_node(head)\n",
    "middle_node.val if middle_node else None\n"
   ]
  },
  {
   "cell_type": "code",
   "execution_count": 9,
   "id": "0f85f982",
   "metadata": {
    "ExecuteTime": {
     "end_time": "2023-09-13T02:50:41.720172Z",
     "start_time": "2023-09-13T02:50:41.705612Z"
    },
    "code_folding": [
     0
    ]
   },
   "outputs": [
    {
     "data": {
      "text/plain": [
       "True"
      ]
     },
     "execution_count": 9,
     "metadata": {},
     "output_type": "execute_result"
    }
   ],
   "source": [
    "#cycle 찾기\n",
    "def has_cycle(head: ListNode) -> bool:\n",
    "    if not head:\n",
    "        return False\n",
    "\n",
    "    slow, fast = head, head\n",
    "    while fast and fast.next:\n",
    "        slow = slow.next\n",
    "        fast = fast.next.next\n",
    "        if slow == fast:\n",
    "            return True\n",
    "    return False\n",
    "\n",
    "# Test (Creating a cycle for testing)\n",
    "cycle_head = create_linked_list([1, 2, 3, 4, 5])\n",
    "cycle_head.next.next.next.next.next = cycle_head.next.next\n",
    "has_cycle(cycle_head)\n"
   ]
  },
  {
   "cell_type": "code",
   "execution_count": 10,
   "id": "b43abce7",
   "metadata": {
    "ExecuteTime": {
     "end_time": "2023-09-13T02:50:57.574401Z",
     "start_time": "2023-09-13T02:50:57.562589Z"
    },
    "code_folding": [
     0
    ]
   },
   "outputs": [
    {
     "data": {
      "text/plain": [
       "7"
      ]
     },
     "execution_count": 10,
     "metadata": {},
     "output_type": "execute_result"
    }
   ],
   "source": [
    "#두 연결 리스트의 교차점(intersection) 찾기\n",
    "def get_intersection_node(headA: ListNode, headB: ListNode) -> ListNode:\n",
    "    if not headA or not headB:\n",
    "        return None\n",
    "\n",
    "    currA, currB = headA, headB\n",
    "\n",
    "    while currA != currB:\n",
    "        currA = currA.next if currA else headB\n",
    "        currB = currB.next if currB else headA\n",
    "\n",
    "    return currA\n",
    "\n",
    "# Test (Creating intersecting lists for testing)\n",
    "intersect_headA = create_linked_list([1, 3, 5, 7, 9])\n",
    "intersect_headB = create_linked_list([2, 4])\n",
    "intersect_headB.next.next = intersect_headA.next.next.next  # Making the lists intersect at node with value 7\n",
    "\n",
    "intersection_node = get_intersection_node(intersect_headA, intersect_headB)\n",
    "intersection_node.val if intersection_node else None\n"
   ]
  },
  {
   "cell_type": "code",
   "execution_count": 12,
   "id": "71139ba0",
   "metadata": {
    "ExecuteTime": {
     "end_time": "2023-09-13T02:51:32.328743Z",
     "start_time": "2023-09-13T02:51:32.316059Z"
    },
    "code_folding": [
     0
    ]
   },
   "outputs": [
    {
     "data": {
      "text/plain": [
       "[1, 2, 2, 4, 3, 5]"
      ]
     },
     "execution_count": 12,
     "metadata": {},
     "output_type": "execute_result"
    }
   ],
   "source": [
    "# partition: 연결 리스트를 주어진 값 x를 기준으로 재정렬합니다. 그 결과, x보다 작은 값들을 가진 노드들이 왼쪽에 위치하고 x 이상의 값들을 가진 노드들이 오른쪽에 위치하게 됩니다.\n",
    "def partition(head: ListNode, x: int) -> ListNode:\n",
    "    before_head = ListNode(0)\n",
    "    before = before_head\n",
    "    after_head = ListNode(0)\n",
    "    after = after_head\n",
    "\n",
    "    while head:\n",
    "        if head.val < x:\n",
    "            before.next = head\n",
    "            before = head  # Move the pointer to the current node\n",
    "        else:\n",
    "            after.next = head\n",
    "            after = head  # Move the pointer to the current node\n",
    "        head = head.next\n",
    "\n",
    "    after.next = None\n",
    "    before.next = after_head.next\n",
    "\n",
    "    return before_head.next\n",
    "\n",
    "# Test\n",
    "partition_list = create_linked_list([1, 4, 3, 2, 5, 2])\n",
    "partitioned_list = partition(partition_list, 3)\n",
    "print_linked_list(partitioned_list)\n"
   ]
  },
  {
   "cell_type": "code",
   "execution_count": 13,
   "id": "254556f5",
   "metadata": {
    "ExecuteTime": {
     "end_time": "2023-09-13T02:52:29.545396Z",
     "start_time": "2023-09-13T02:52:29.527397Z"
    },
    "code_folding": [
     0
    ]
   },
   "outputs": [
    {
     "data": {
      "text/plain": [
       "([1, 2, 2], [4, 3, 5])"
      ]
     },
     "execution_count": 13,
     "metadata": {},
     "output_type": "execute_result"
    }
   ],
   "source": [
    "#주어진 연결 리스트를 x 기준으로 두 부분으로 분할하여 각각의 헤드를 반환. \n",
    "#x보다 작은 노드들의 연결 리스트의 헤드와 x 이상인 노드들의 연결 리스트의 헤드를 반환\n",
    "def partition_into_two(head: ListNode, x: int) -> (ListNode, ListNode):\n",
    "    before_head = ListNode(0)\n",
    "    before = before_head\n",
    "    after_head = ListNode(0)\n",
    "    after = after_head\n",
    "\n",
    "    while head:\n",
    "        if head.val < x:\n",
    "            before.next = head\n",
    "            before = before.next\n",
    "        else:\n",
    "            after.next = head\n",
    "            after = after.next\n",
    "        head = head.next\n",
    "\n",
    "    before.next = None\n",
    "    after.next = None\n",
    "\n",
    "    return before_head.next, after_head.next\n",
    "\n",
    "# Test\n",
    "partition_list = create_linked_list([1, 4, 3, 2, 5, 2])\n",
    "left_partition, right_partition = partition_into_two(partition_list, 3)\n",
    "print_linked_list(left_partition), print_linked_list(right_partition)\n"
   ]
  },
  {
   "cell_type": "code",
   "execution_count": 14,
   "id": "e950a6c6",
   "metadata": {
    "ExecuteTime": {
     "end_time": "2023-09-13T02:52:39.674895Z",
     "start_time": "2023-09-13T02:52:39.657722Z"
    },
    "code_folding": [
     0
    ]
   },
   "outputs": [
    {
     "data": {
      "text/plain": [
       "[1, 1, 2, 3, 4, 4]"
      ]
     },
     "execution_count": 14,
     "metadata": {},
     "output_type": "execute_result"
    }
   ],
   "source": [
    "#이미 정렬된 두 함수를 merge\n",
    "def merge_two_sorted_lists(l1: ListNode, l2: ListNode) -> ListNode:\n",
    "    dummy = ListNode(0)\n",
    "    current = dummy\n",
    "\n",
    "    while l1 and l2:\n",
    "        if l1.val < l2.val:\n",
    "            current.next = l1\n",
    "            l1 = l1.next\n",
    "        else:\n",
    "            current.next = l2\n",
    "            l2 = l2.next\n",
    "        current = current.next\n",
    "\n",
    "    if l1:\n",
    "        current.next = l1\n",
    "    else:\n",
    "        current.next = l2\n",
    "\n",
    "    return dummy.next\n",
    "\n",
    "# Test\n",
    "list1 = create_linked_list([1, 2, 4])\n",
    "list2 = create_linked_list([1, 3, 4])\n",
    "merged_list = merge_two_sorted_lists(list1, list2)\n",
    "print_linked_list(merged_list)\n"
   ]
  },
  {
   "cell_type": "code",
   "execution_count": 16,
   "id": "637523b4",
   "metadata": {
    "ExecuteTime": {
     "end_time": "2023-09-13T02:53:44.159101Z",
     "start_time": "2023-09-13T02:53:44.145793Z"
    },
    "code_folding": [
     0
    ]
   },
   "outputs": [
    {
     "data": {
      "text/plain": [
       "[1, 2, 3, 4]"
      ]
     },
     "execution_count": 16,
     "metadata": {},
     "output_type": "execute_result"
    }
   ],
   "source": [
    "#merge sort\n",
    "def merge_sort(head: ListNode) -> ListNode:\n",
    "    if not head or not head.next:\n",
    "        return head\n",
    "\n",
    "    # Split the list into two halves\n",
    "    prev, slow, fast = None, head, head\n",
    "    while fast and fast.next:\n",
    "        prev, slow, fast = slow, slow.next, fast.next.next\n",
    "    prev.next = None  # Splitting the list\n",
    "\n",
    "    # Sort each half\n",
    "    left = merge_sort(head)\n",
    "    right = merge_sort(slow)\n",
    "\n",
    "    # Merge the sorted halves\n",
    "    return merge_two_sorted_lists(left, right)\n",
    "\n",
    "# Test\n",
    "unsorted_list = create_linked_list([3, 1, 4, 2])\n",
    "sorted_list = merge_sort(unsorted_list)\n",
    "print_linked_list(sorted_list)\n",
    "\n"
   ]
  },
  {
   "cell_type": "code",
   "execution_count": 17,
   "id": "5ed8ef28",
   "metadata": {
    "ExecuteTime": {
     "end_time": "2023-09-13T02:53:45.018115Z",
     "start_time": "2023-09-13T02:53:44.986340Z"
    },
    "code_folding": [
     0
    ]
   },
   "outputs": [
    {
     "data": {
      "text/plain": [
       "[1, 2, 3, 4, 5]"
      ]
     },
     "execution_count": 17,
     "metadata": {},
     "output_type": "execute_result"
    }
   ],
   "source": [
    "def selection_sort(head: ListNode) -> ListNode:\n",
    "    if not head or not head.next:\n",
    "        return head\n",
    "    \n",
    "    dummy = ListNode(0)\n",
    "    sorted_tail = dummy\n",
    "\n",
    "    while head:\n",
    "        prev_min, curr_min = None, head\n",
    "        prev, curr = head, head.next\n",
    "\n",
    "        # Find the minimum value node in the remaining list\n",
    "        while curr:\n",
    "            if curr.val < curr_min.val:\n",
    "                prev_min = prev\n",
    "                curr_min = curr\n",
    "            prev = curr\n",
    "            curr = curr.next\n",
    "\n",
    "        # Remove the minimum node from the original list\n",
    "        if prev_min:\n",
    "            prev_min.next = curr_min.next\n",
    "        else:\n",
    "            head = curr_min.next\n",
    "\n",
    "        # Append the minimum node to the sorted_tail\n",
    "        sorted_tail.next = curr_min\n",
    "        sorted_tail = sorted_tail.next\n",
    "\n",
    "    sorted_tail.next = None\n",
    "    return dummy.next\n",
    "\n",
    "# Test\n",
    "unsorted_list = create_linked_list([4, 3, 1, 5, 2])\n",
    "sorted_list_selection = selection_sort(unsorted_list)\n",
    "print_linked_list(sorted_list_selection)\n"
   ]
  },
  {
   "cell_type": "code",
   "execution_count": 18,
   "id": "7d239109",
   "metadata": {
    "ExecuteTime": {
     "end_time": "2023-09-13T02:54:02.293446Z",
     "start_time": "2023-09-13T02:54:02.279394Z"
    },
    "code_folding": [
     0
    ]
   },
   "outputs": [
    {
     "data": {
      "text/plain": [
       "[1, 2, 3, 4, 5]"
      ]
     },
     "execution_count": 18,
     "metadata": {},
     "output_type": "execute_result"
    }
   ],
   "source": [
    "def bubble_sort(head: ListNode) -> ListNode:\n",
    "    if not head or not head.next:\n",
    "        return head\n",
    "\n",
    "    dummy = ListNode(0, head)\n",
    "    is_sorted = False\n",
    "\n",
    "    while not is_sorted:\n",
    "        is_sorted = True\n",
    "        prev, curr = dummy, head\n",
    "        while curr and curr.next:\n",
    "            if curr.val > curr.next.val:\n",
    "                # Swap the values of curr and curr.next\n",
    "                curr.val, curr.next.val = curr.next.val, curr.val\n",
    "                is_sorted = False\n",
    "            prev = curr\n",
    "            curr = curr.next\n",
    "\n",
    "    return dummy.next\n",
    "\n",
    "# Test\n",
    "unsorted_list = create_linked_list([4, 3, 1, 5, 2])\n",
    "sorted_list_bubble = bubble_sort(unsorted_list)\n",
    "print_linked_list(sorted_list_bubble)\n"
   ]
  },
  {
   "cell_type": "code",
   "execution_count": 20,
   "id": "858c8ee9",
   "metadata": {
    "ExecuteTime": {
     "end_time": "2023-09-13T02:54:25.678321Z",
     "start_time": "2023-09-13T02:54:25.663352Z"
    },
    "code_folding": [
     0
    ]
   },
   "outputs": [
    {
     "data": {
      "text/plain": [
       "True"
      ]
     },
     "execution_count": 20,
     "metadata": {},
     "output_type": "execute_result"
    }
   ],
   "source": [
    "#부분문자열, substring 여부\n",
    "def is_subarray(main_list: ListNode, sub_list: ListNode) -> bool:\n",
    "    if not sub_list:\n",
    "        return True\n",
    "    if not main_list:\n",
    "        return False\n",
    "\n",
    "    ptr1, ptr2 = main_list, sub_list\n",
    "\n",
    "    while ptr1:\n",
    "        # Check if current sequence of main_list matches sub_list\n",
    "        temp1, temp2 = ptr1, ptr2\n",
    "        while temp2 and temp1 and temp1.val == temp2.val:\n",
    "            temp1 = temp1.next\n",
    "            temp2 = temp2.next\n",
    "\n",
    "        # If we've reached the end of sub_list, it means we've found a match\n",
    "        if not temp2:\n",
    "            return True\n",
    "\n",
    "        ptr1 = ptr1.next\n",
    "\n",
    "    return False\n",
    "\n",
    "# Test\n",
    "main_list = create_linked_list([1, 2, 3, 4, 5])\n",
    "sub_list1 = create_linked_list([3, 4, 5])\n",
    "sub_list2 = create_linked_list([2, 5])\n",
    "\n",
    "is_subarray(main_list, sub_list1)\n"
   ]
  },
  {
   "cell_type": "code",
   "execution_count": 22,
   "id": "d792371a",
   "metadata": {
    "ExecuteTime": {
     "end_time": "2023-09-13T02:55:37.917755Z",
     "start_time": "2023-09-13T02:55:37.912225Z"
    },
    "code_folding": [
     0
    ]
   },
   "outputs": [],
   "source": [
    "# position i 부터 j까지의 substring 추출\n",
    "def get_substring(head, i, j):\n",
    "    \n",
    "    start = head\n",
    "    for _ in range(i):\n",
    "        start = start.next\n",
    "    end = start\n",
    "    for _ in range(j - i - 1):\n",
    "        end = end.next\n",
    "    return start, end"
   ]
  },
  {
   "cell_type": "code",
   "execution_count": 23,
   "id": "2f9a3f7c",
   "metadata": {
    "ExecuteTime": {
     "end_time": "2023-09-13T02:55:39.592681Z",
     "start_time": "2023-09-13T02:55:39.585609Z"
    },
    "code_folding": [
     0
    ]
   },
   "outputs": [],
   "source": [
    "def is_palindrome(head):\n",
    "    # Find the middle of linked list\n",
    "    slow, fast = head, head\n",
    "    while fast and fast.next:\n",
    "        slow = slow.next\n",
    "        fast = fast.next.next\n",
    "\n",
    "    # Reverse the second half of linked list\n",
    "    reversed_second_half = reverse_linked_list(slow)\n",
    "\n",
    "    # Compare the first half and reversed second half\n",
    "    first_pointer, second_pointer = head, reversed_second_half\n",
    "    while second_pointer:\n",
    "        if first_pointer.val != second_pointer.val:\n",
    "            return False\n",
    "        first_pointer = first_pointer.next\n",
    "        second_pointer = second_pointer.next\n",
    "\n",
    "    # Restore the original structure of linked list\n",
    "    reverse_linked_list(reversed_second_half)\n",
    "\n",
    "    return True"
   ]
  },
  {
   "cell_type": "code",
   "execution_count": 25,
   "id": "d0c02300",
   "metadata": {
    "ExecuteTime": {
     "end_time": "2023-09-13T02:58:21.296664Z",
     "start_time": "2023-09-13T02:58:21.285686Z"
    },
    "code_folding": [
     9,
     10
    ]
   },
   "outputs": [],
   "source": [
    "\"\"\"\n",
    "# Definition for a Node.\n",
    "class Node:\n",
    "    def __init__(self, x: int, next: 'Node' = None, random: 'Node' = None):\n",
    "        self.val = int(x)\n",
    "        self.next = next\n",
    "        self.random = random\n",
    "\"\"\"\n",
    "## 주어진 연결 리스트를 복사하되, 각 노드의 random 포인터도 정확하게 복제합니다\n",
    "def copyRandomList(self, head: 'Optional[Node]') -> 'Optional[Node]':\n",
    "    if head is None:\n",
    "        return None\n",
    "    mapping = {}\n",
    "    cur = head\n",
    "    while cur:\n",
    "        mapping[cur]=Node(cur.val, None, None)\n",
    "        cur = cur.next\n",
    "\n",
    "    cur = head\n",
    "    while cur:\n",
    "        if cur.next:\n",
    "            mapping[cur].next = mapping[cur.next]\n",
    "        if cur.random:\n",
    "            mapping[cur].random = mapping[cur.random]\n",
    "        cur = cur.next\n",
    "    return mapping[head]"
   ]
  },
  {
   "cell_type": "code",
   "execution_count": 24,
   "id": "b1166c12",
   "metadata": {
    "ExecuteTime": {
     "end_time": "2023-09-13T02:57:44.239672Z",
     "start_time": "2023-09-13T02:57:44.203460Z"
    },
    "code_folding": [
     0
    ]
   },
   "outputs": [
    {
     "data": {
      "text/plain": [
       "[['z', 'a', 'b', 'c', 'c', 'b', 'a', 'z'],\n",
       " ['a', 'z', 'a'],\n",
       " ['k'],\n",
       " [' '],\n",
       " ['d']]"
      ]
     },
     "execution_count": 24,
     "metadata": {},
     "output_type": "execute_result"
    }
   ],
   "source": [
    "# max palindrome 문제 통째로 구현\n",
    "def reverse_linked_list(head):\n",
    "    prev = None\n",
    "    current = head\n",
    "    while current:\n",
    "        next_node = current.next\n",
    "        current.next = prev\n",
    "        prev = current\n",
    "        current = next_node\n",
    "    return prev\n",
    "\n",
    "def is_palindrome(head):\n",
    "    # Find the middle of linked list\n",
    "    slow, fast = head, head\n",
    "    while fast and fast.next:\n",
    "        slow = slow.next\n",
    "        fast = fast.next.next\n",
    "\n",
    "    # Reverse the second half of linked list\n",
    "    reversed_second_half = reverse_linked_list(slow)\n",
    "\n",
    "    # Compare the first half and reversed second half\n",
    "    first_pointer, second_pointer = head, reversed_second_half\n",
    "    while second_pointer:\n",
    "        if first_pointer.val != second_pointer.val:\n",
    "            return False\n",
    "        first_pointer = first_pointer.next\n",
    "        second_pointer = second_pointer.next\n",
    "\n",
    "    # Restore the original structure of linked list\n",
    "    reverse_linked_list(reversed_second_half)\n",
    "\n",
    "    return True\n",
    "\n",
    "def get_substring(head, i, j):\n",
    "    # Extract substring from linked list from position i to j\n",
    "    start = head\n",
    "    for _ in range(i):\n",
    "        start = start.next\n",
    "    end = start\n",
    "    for _ in range(j - i - 1):\n",
    "        end = end.next\n",
    "    return start, end\n",
    "\n",
    "\n",
    "\n",
    "def is_substring(main, sub):\n",
    "    main_clone = main\n",
    "    while main_clone:\n",
    "        main_temp = main_clone\n",
    "        sub_temp = sub\n",
    "        while main_temp and sub_temp and main_temp.val == sub_temp.val:\n",
    "            main_temp = main_temp.next\n",
    "            sub_temp = sub_temp.next\n",
    "        if not sub_temp:  # Means sub has been exhausted and is a substring of main\n",
    "            return True\n",
    "        main_clone = main_clone.next\n",
    "    return False\n",
    "\n",
    "def max_palindromes_linked_list_updated(head):\n",
    "    s_len = 0\n",
    "    temp = head\n",
    "    while temp:\n",
    "        s_len += 1\n",
    "        temp = temp.next\n",
    "\n",
    "    res = []\n",
    "    dct = {}\n",
    "    for i in range(s_len):\n",
    "        for j in range(s_len, i, -1):\n",
    "            start, end = get_substring(head, i, j)\n",
    "            subs = ListNode()\n",
    "            current = subs\n",
    "            while start != end.next:\n",
    "                current.next = ListNode(start.val)\n",
    "                current = current.next\n",
    "                start = start.next\n",
    "            if is_palindrome(subs.next):\n",
    "                length = j - i\n",
    "                if length not in dct:\n",
    "                    dct[length] = [subs.next]\n",
    "                else:\n",
    "                    dct[length].append(subs.next)\n",
    "\n",
    "    for length in sorted(dct.keys(), reverse=True):\n",
    "        for subs in dct[length]:\n",
    "            flag = True\n",
    "            for prev in res:\n",
    "                if is_substring(prev, subs) or is_substring(subs, prev):\n",
    "                    flag = False\n",
    "                    break\n",
    "            if flag:\n",
    "                res.append(subs)\n",
    "    return [print_linked_list(r) for r in res]\n",
    "# s1 = \"kabccbadzdefgfeda\"\n",
    "# max_palindromes(s1)  # [\"k\", \"abccba\", \"dzd\", \"defgfed\"]\n",
    "\n",
    "# s2 = \"kabccba dzabccbaza\"\n",
    "# max_palindromes(s2)  # [\"k\", \" \", \"d\", \"zabccbaz\", \"aza\"]\n",
    "head_test = create_linked_list(\"kabccba dzabccbaza\")\n",
    "max_palindromes_linked_list_updated(head_test)\n"
   ]
  },
  {
   "cell_type": "markdown",
   "id": "e6246fb8",
   "metadata": {},
   "source": [
    "# String"
   ]
  },
  {
   "cell_type": "code",
   "execution_count": 29,
   "id": "a080fe99",
   "metadata": {
    "ExecuteTime": {
     "end_time": "2023-09-13T03:00:07.991985Z",
     "start_time": "2023-09-13T03:00:07.977392Z"
    },
    "code_folding": [
     0
    ]
   },
   "outputs": [
    {
     "data": {
      "text/plain": [
       "['abc', 'acb', 'bac', 'bca', 'cab', 'cba']"
      ]
     },
     "execution_count": 29,
     "metadata": {},
     "output_type": "execute_result"
    }
   ],
   "source": [
    "def get_permutations(s):\n",
    "    def backtrack(path, remaining):\n",
    "        if not remaining:\n",
    "            result.append(path)\n",
    "            return\n",
    "        for i in range(len(remaining)):\n",
    "            backtrack(path + remaining[i], remaining[:i] + remaining[i+1:])\n",
    "\n",
    "    result = []\n",
    "    backtrack(\"\", s)\n",
    "    return result\n",
    "\n",
    "# Test the function\n",
    "get_permutations(\"abc\")\n"
   ]
  },
  {
   "cell_type": "code",
   "execution_count": 26,
   "id": "8f95a8fd",
   "metadata": {
    "ExecuteTime": {
     "end_time": "2023-09-13T02:59:17.776440Z",
     "start_time": "2023-09-13T02:59:17.747777Z"
    }
   },
   "outputs": [],
   "source": [
    "# 문자열 스트링 string\n",
    "def reverse_string(s: str) -> str:\n",
    "    \"\"\"문자열 뒤집기\"\"\"\n",
    "    return s[::-1]\n",
    "\n",
    "def has_duplicates(s: str) -> bool:\n",
    "    \"\"\"문자열에 중복된 문자가 있는지 확인\"\"\"\n",
    "    return len(s) != len(set(s))\n",
    "\n",
    "def extract_numbers(s: str) -> list:\n",
    "    \"\"\"문자열에서 숫자 추출\"\"\"\n",
    "    return [int(i) for i in ''.join(filter(str.isdigit, s))]\n",
    "\n",
    "def extract_words(s: str) -> list:\n",
    "    \"\"\"문자열에서 단어 추출\"\"\"\n",
    "    return s.split()\n",
    "\n",
    "def find_pattern(s: str, pattern: str) -> list:\n",
    "    \"\"\"문자열에서 패턴 찾기\"\"\"\n",
    "    import re\n",
    "    return re.findall(pattern, s)\n",
    "\n",
    "def replace_string(s: str, old: str, new: str) -> str:\n",
    "    \"\"\"문자열 내의 부분 문자열 교체\"\"\"\n",
    "    return s.replace(old, new)\n",
    "\n",
    "def split_string(s: str, delimiter: str) -> list:\n",
    "    \"\"\"문자열 분리\"\"\"\n",
    "    return s.split(delimiter)\n",
    "\n",
    "def concatenate_strings(*args) -> str:\n",
    "    \"\"\"여러 문자열 연결\"\"\"\n",
    "    return ''.join(args)\n",
    "\n",
    "def capitalize_first(s: str) -> str:\n",
    "    \"\"\"문자열의 첫 글자를 대문자로 변환\"\"\"\n",
    "    return s.capitalize()\n",
    "\n",
    "def remove_pattern(s: str, pattern: str) -> str:\n",
    "    \"\"\"문자열에서 패턴 제거\"\"\"\n",
    "    import re\n",
    "    return re.sub(pattern, '', s)\n",
    "\n",
    "def trim_string(s: str) -> str:\n",
    "    \"\"\"문자열 앞뒤 공백 제거\"\"\"\n",
    "    return s.strip()\n",
    "\n",
    "def to_lowercase(s: str) -> str:\n",
    "    \"\"\"문자열을 소문자로 변환\"\"\"\n",
    "    return s.lower()\n",
    "\n",
    "def to_uppercase(s: str) -> str:\n",
    "    \"\"\"문자열을 대문자로 변환\"\"\"\n",
    "    return s.upper()\n",
    "\n",
    "def count_pattern(s: str, pattern: str) -> int:\n",
    "    \"\"\"문자열에서 패턴의 등장 횟수 세기\"\"\"\n",
    "    return s.count(pattern)\n",
    "\n",
    "def string_length(s: str) -> int:\n",
    "    \"\"\"문자열의 길이 반환\"\"\"\n",
    "    return len(s)\n",
    "\n",
    "def remove_inner_spaces(s: str) -> str:\n",
    "    \"\"\"문자열 중간의 공백 제거\"\"\"\n",
    "    return ''.join(s.split())\n",
    "\n",
    "def extract_alphabets(s: str) -> str:\n",
    "    \"\"\"문자열에서 알파벳만 추출\"\"\"\n",
    "    return ''.join(filter(str.isalpha, s))\n",
    "\n",
    "def remove_special_characters(s: str) -> str:\n",
    "    \"\"\"문자열에서 특수 문자 제거\"\"\"\n",
    "    import re\n",
    "    return re.sub('[^A-Za-z0-9 ]+', '', s)\n",
    "\n",
    "def is_alpha(s: str) -> bool:\n",
    "    \"\"\"문자열이 오직 알파벳으로만 이루어져 있는지 확인\"\"\"\n",
    "    return s.isalpha()\n",
    "\n",
    "def is_numeric(s: str) -> bool:\n",
    "    \"\"\"문자열이 오직 숫자로만 이루어져 있는지 확인\"\"\"\n",
    "    return s.isnumeric()\n",
    "\n",
    "def find_position(s: str, word: str) -> int:\n",
    "    \"\"\"문자열에서 주어진 단어나 문자의 첫 번째 위치 찾기\"\"\"\n",
    "    return s.find(word)\n",
    "\n",
    "def get_middle_characters(s: str) -> str:\n",
    "    \"\"\"문자열의 중앙 문자(들) 반환\"\"\"\n",
    "    mid = len(s) // 2\n",
    "    return s[mid] if len(s) % 2 != 0 else s[mid-1:mid+1]\n",
    "\n",
    "def remove_word(s: str, word: str) -> str:\n",
    "    \"\"\"문자열에서 주어진 단어 제거\"\"\"\n",
    "    return s.replace(word, '')\n",
    "\n",
    "def remove_all_spaces(s: str) -> str:\n",
    "    \"\"\"문자열에서 모든 공백 제거\"\"\"\n",
    "    return s.replace(' ', '')\n",
    "\n",
    "def get_character_at(s: str, position: int) -> str:\n",
    "    \"\"\"문자열의 특정 위치의 문자 반환\"\"\"\n",
    "    return s[position] if 0 <= position < len(s) else None\n",
    "\n",
    "def swap_case(s: str) -> str:\n",
    "    \"\"\"문자열에서 대문자는 소문자로, 소문자는 대문자로 변환\"\"\"\n",
    "    return s.swapcase()"
   ]
  },
  {
   "cell_type": "markdown",
   "id": "abb3be41",
   "metadata": {},
   "source": [
    "# List"
   ]
  },
  {
   "cell_type": "code",
   "execution_count": 28,
   "id": "999fe752",
   "metadata": {
    "ExecuteTime": {
     "end_time": "2023-09-13T02:59:39.084340Z",
     "start_time": "2023-09-13T02:59:39.055718Z"
    }
   },
   "outputs": [],
   "source": [
    "#리스트 list\n",
    "\n",
    "def merge_lists(*args) -> list:\n",
    "    \"\"\"여러 리스트를 합칩니다.\"\"\"\n",
    "    merged = []\n",
    "    for lst in args:\n",
    "        merged.extend(lst)\n",
    "    return merged\n",
    "\n",
    "def remove_duplicates(lst: list) -> list:\n",
    "    \"\"\"리스트에서 중복된 요소를 제거합니다.\"\"\"\n",
    "    return list(dict.fromkeys(lst))\n",
    "\n",
    "def find_max_min(lst: list) -> tuple:\n",
    "    \"\"\"리스트에서 최대값과 최소값을 찾습니다.\"\"\"\n",
    "    return max(lst), min(lst)\n",
    "\n",
    "def rotate_list(lst: list, k: int) -> list:\n",
    "    \"\"\"리스트를 k만큼 회전시킵니다.\"\"\"\n",
    "    k = k % len(lst)\n",
    "    return lst[k:] + lst[:k]\n",
    "#Given an integer array nums, rotate the array to the right by k steps, where k is non-negative.\n",
    "def rotate(nums:list, k: int) -> None:\n",
    "\n",
    "    k = k % len(nums) \n",
    "    p1= nums[-k:]\n",
    "    p2 = nums[:-k]\n",
    "\n",
    "    nums[:]=p1+p2\n",
    "\n",
    "#test\n",
    "a=[1,2,3,4,5]\n",
    "rotate(a,3)\n",
    "a\n",
    "\n",
    "def count_element(lst: list, element) -> int:\n",
    "    \"\"\"리스트에서 주어진 요소의 빈도수를 반환합니다.\"\"\"\n",
    "    return lst.count(element)\n",
    "\n",
    "def reverse_list(lst: list) -> list:\n",
    "    \"\"\"리스트의 순서를 뒤집습니다.\"\"\"\n",
    "    return lst[::-1]\n",
    "\n",
    "def find_element_index(lst: list, element) -> int:\n",
    "    \"\"\"리스트에서 주어진 요소의 인덱스를 반환합니다.\"\"\"\n",
    "    if element in lst:\n",
    "        return lst.index(element)\n",
    "    return -1\n",
    "\n",
    "def filter_list(lst: list, condition_func) -> list:\n",
    "    \"\"\"리스트 내 주어진 조건에 맞는 요소만을 반환합니다.\"\"\"\n",
    "    return [item for item in lst if condition_func(item)]\n",
    "\n",
    "def find_sublists(lst: list, length: int) -> list:\n",
    "    \"\"\"리스트에서 연속된 서브리스트를 반환합니다.\"\"\"\n",
    "    return [lst[i:i+length] for i in range(0, len(lst) - length + 1)]\n",
    "\n",
    "def sum_of_numbers(lst: list) -> int:\n",
    "    \"\"\"리스트 내의 숫자들의 합을 반환합니다.\"\"\"\n",
    "    return sum(lst)\n",
    "import random\n",
    "\n",
    "def sort_list(lst: list, descending=False) -> list:\n",
    "    \"\"\"리스트 정렬하기\"\"\"\n",
    "    return sorted(lst, reverse=descending)\n",
    "\n",
    "def remove_value(lst: list, value) -> list:\n",
    "    \"\"\"리스트 내에서 특정 값을 가진 요소 제거\"\"\"\n",
    "    return [x for x in lst if x != value]\n",
    "\n",
    "def intersection_of_lists(lst1: list, lst2: list) -> list:\n",
    "    \"\"\"리스트 교집합 구하기\"\"\"\n",
    "    return [x for x in lst1 if x in lst2]\n",
    "\n",
    "def union_of_lists(lst1: list, lst2: list) -> list:\n",
    "    \"\"\"리스트 합집합 구하기\"\"\"\n",
    "    return list(dict.fromkeys(lst1 + lst2))\n",
    "\n",
    "def difference_of_lists(lst1: list, lst2: list) -> list:\n",
    "    \"\"\"리스트 차집합 구하기\"\"\"\n",
    "    return [x for x in lst1 if x not in lst2]\n",
    "\n",
    "def average_of_list(lst: list) -> float:\n",
    "    \"\"\"리스트 평균 구하기\"\"\"\n",
    "    return sum(lst) / len(lst)\n",
    "\n",
    "def mode_of_list(lst: list):\n",
    "    \"\"\"리스트 내에서 최빈값 찾기\"\"\"\n",
    "    return max(set(lst), key=lst.count)\n",
    "\n",
    "def count_occurrences(lst: list, value) -> int:\n",
    "    \"\"\"리스트 내 특정 요소의 등장 횟수 확인\"\"\"\n",
    "    return lst.count(value)\n",
    "\n",
    "def remove_consecutive_duplicates(lst: list) -> list:\n",
    "    \"\"\"리스트 내 연속된 중복 요소 제거\"\"\"\n",
    "    if not lst:\n",
    "        return []\n",
    "    result = [lst[0]]\n",
    "    for i in range(1, len(lst)):\n",
    "        if lst[i] != lst[i-1]:\n",
    "            result.append(lst[i])\n",
    "    return result\n",
    "\n",
    "def shuffle_list(lst: list) -> list:\n",
    "    \"\"\"리스트 내 요소 순서 무작위로 섞기\"\"\"\n",
    "    random.shuffle(lst)\n",
    "    return lst\n"
   ]
  },
  {
   "cell_type": "markdown",
   "id": "0d31c5fb",
   "metadata": {},
   "source": [
    "# Math"
   ]
  },
  {
   "cell_type": "code",
   "execution_count": 31,
   "id": "19a90995",
   "metadata": {
    "ExecuteTime": {
     "end_time": "2023-09-13T03:01:00.596036Z",
     "start_time": "2023-09-13T03:01:00.586731Z"
    },
    "code_folding": []
   },
   "outputs": [
    {
     "data": {
      "text/plain": [
       "[3, 4, 5, 1, 2]"
      ]
     },
     "execution_count": 31,
     "metadata": {},
     "output_type": "execute_result"
    }
   ],
   "source": []
  },
  {
   "cell_type": "code",
   "execution_count": 1,
   "id": "df0e84a8",
   "metadata": {
    "ExecuteTime": {
     "end_time": "2023-09-19T05:25:20.566718Z",
     "start_time": "2023-09-19T05:25:20.544100Z"
    }
   },
   "outputs": [
    {
     "name": "stdout",
     "output_type": "stream",
     "text": [
      "60\n"
     ]
    }
   ],
   "source": [
    "def gcd(a, b):\n",
    "    \"\"\"a와 b의 최대공약수를 반환한다.\"\"\"\n",
    "    while b:\n",
    "        a, b = b, a % b\n",
    "    return a\n",
    "\n",
    "def lcm(a, b):\n",
    "    \"\"\"a와 b의 최소공배수를 반환한다.\"\"\"\n",
    "    return abs(a*b) // gcd(a, b)\n",
    "\n",
    "# 예제 사용:\n",
    "result = lcm(12, 15)\n",
    "print(result)  # 출력: 60\n"
   ]
  },
  {
   "cell_type": "code",
   "execution_count": 3,
   "id": "e5b340ca",
   "metadata": {
    "ExecuteTime": {
     "end_time": "2023-09-19T05:30:18.079342Z",
     "start_time": "2023-09-19T05:30:18.072109Z"
    }
   },
   "outputs": [
    {
     "name": "stdout",
     "output_type": "stream",
     "text": [
      "55\n"
     ]
    }
   ],
   "source": [
    "def fibonacci(n):\n",
    "    \"\"\"n번째 피보나치 수를 반환합니다.\"\"\"\n",
    "    if n <= 1:\n",
    "        return n\n",
    "    a, b = 0, 1\n",
    "    for _ in range(2, n + 1):\n",
    "        a, b = b, a + b\n",
    "    return b\n",
    "\n",
    "# 사용 예시\n",
    "print(fibonacci(10))  # 결과: 55\n"
   ]
  },
  {
   "cell_type": "code",
   "execution_count": 4,
   "id": "5ed1a894",
   "metadata": {
    "ExecuteTime": {
     "end_time": "2023-09-19T05:31:56.392233Z",
     "start_time": "2023-09-19T05:31:56.386014Z"
    }
   },
   "outputs": [
    {
     "name": "stdout",
     "output_type": "stream",
     "text": [
      "120\n"
     ]
    }
   ],
   "source": [
    "def factorial(n):\n",
    "    \"\"\"n의 팩토리얼 값을 반환합니다.\"\"\"\n",
    "    if n == 0:\n",
    "        return 1\n",
    "    result = 1\n",
    "    for i in range(1, n + 1):\n",
    "        result *= i\n",
    "    return result\n",
    "\n",
    "# 사용 예시\n",
    "print(factorial(5))  # 결과: 120\n"
   ]
  },
  {
   "cell_type": "code",
   "execution_count": 2,
   "id": "37e6edaf",
   "metadata": {
    "ExecuteTime": {
     "end_time": "2023-09-19T05:25:58.003448Z",
     "start_time": "2023-09-19T05:25:57.996802Z"
    }
   },
   "outputs": [
    {
     "name": "stdout",
     "output_type": "stream",
     "text": [
      "True\n"
     ]
    }
   ],
   "source": [
    "def is_prime(n):\n",
    "    # 1 이하의 숫자는 소수가 아님\n",
    "    if n <= 1:\n",
    "        return False\n",
    "    # 2부터 n의 제곱근까지의 모든 숫자로 n을 나눠본다.\n",
    "    for i in range(2, int(n**0.5) + 1):\n",
    "        if n % i == 0:\n",
    "            return False\n",
    "    return True\n",
    "\n",
    "# 테스트\n",
    "number = 17\n",
    "print(is_prime(number))\n"
   ]
  },
  {
   "cell_type": "code",
   "execution_count": 5,
   "id": "40aa25f0",
   "metadata": {
    "ExecuteTime": {
     "end_time": "2023-09-19T05:33:05.537891Z",
     "start_time": "2023-09-19T05:33:05.526022Z"
    }
   },
   "outputs": [
    {
     "name": "stdout",
     "output_type": "stream",
     "text": [
      "[2, 2, 2, 7]\n"
     ]
    }
   ],
   "source": [
    "def prime_factors(n):\n",
    "    \"\"\"n의 소인수분해 결과를 반환합니다.\"\"\"\n",
    "    factors = []\n",
    "    # 2로 나눌 수 있는 경우 모두 처리합니다.\n",
    "    while n % 2 == 0:\n",
    "        factors.append(2)\n",
    "        n //= 2\n",
    "    # 3부터 홀수로 나누면서 소인수를 찾습니다.\n",
    "    for i in range(3, int(n**0.5) + 1, 2):\n",
    "        while n % i == 0:\n",
    "            factors.append(i)\n",
    "            n //= i\n",
    "    if n > 2:\n",
    "        factors.append(n)\n",
    "    return factors\n",
    "\n",
    "# 사용 예시\n",
    "print(prime_factors(56))  # 결과: [2, 2, 2, 7]\n"
   ]
  },
  {
   "cell_type": "code",
   "execution_count": 6,
   "id": "5254d350",
   "metadata": {
    "ExecuteTime": {
     "end_time": "2023-09-19T05:34:36.412946Z",
     "start_time": "2023-09-19T05:34:36.401050Z"
    }
   },
   "outputs": [
    {
     "name": "stdout",
     "output_type": "stream",
     "text": [
      "[2, 3, 5, 7, 11, 13, 17, 19, 23, 29]\n"
     ]
    }
   ],
   "source": [
    "def sieve_of_eratosthenes(n):\n",
    "    \"\"\"n 이하의 모든 소수를 반환합니다.\"\"\"\n",
    "    sieve = [True] * (n+1)\n",
    "    sieve[0], sieve[1] = False, False\n",
    "    for i in range(2, int(n**0.5) + 1):\n",
    "        if sieve[i]:\n",
    "            for j in range(i*i, n+1, i):\n",
    "                sieve[j] = False\n",
    "    return [i for i, val in enumerate(sieve) if val]\n",
    "\n",
    "# 사용 예시\n",
    "print(sieve_of_eratosthenes(30))  # 결과: [2, 3, 5, 7, 11, 13, 17, 19, 23, 29]\n"
   ]
  },
  {
   "cell_type": "code",
   "execution_count": 1,
   "id": "831df0e5",
   "metadata": {
    "ExecuteTime": {
     "end_time": "2023-09-19T07:29:07.607724Z",
     "start_time": "2023-09-19T07:29:02.949922Z"
    }
   },
   "outputs": [
    {
     "name": "stdout",
     "output_type": "stream",
     "text": [
      "10진수 숫자를 입력하세요: 27\n",
      "변환할 진법을 입력하세요: 3\n",
      "27를 3진법으로 변환한 결과: 1000\n"
     ]
    }
   ],
   "source": [
    "def decimal_to_base_n(num, base):\n",
    "    if num == 0:\n",
    "        return \"0\"\n",
    "\n",
    "    result = \"\"\n",
    "    while num > 0:\n",
    "        remainder = num % base\n",
    "        result = str(remainder) + result\n",
    "        num //= base\n",
    "\n",
    "    return result\n",
    "\n",
    "num = int(input(\"10진수 숫자를 입력하세요: \"))\n",
    "base = int(input(\"변환할 진법을 입력하세요: \"))\n",
    "\n",
    "result = decimal_to_base_n(num, base)\n",
    "print(f\"{num}를 {base}진법으로 변환한 결과: {result}\")\n"
   ]
  },
  {
   "cell_type": "markdown",
   "id": "267f7913",
   "metadata": {},
   "source": [
    "# Backtracking"
   ]
  },
  {
   "cell_type": "markdown",
   "id": "f9521998",
   "metadata": {},
   "source": [
    "1. N-Queens Problem (N-퀸 문제)\n",
    "\n",
    "문제 설명:\n",
    "\n",
    "N x N 체스판에 N개의 퀸을 서로 공격할 수 없는 위치에 놓는 문제입니다. 퀸은 같은 행, 열, 대각선 상에 있는 다른 체스말을 공격할 수 있습니다.\n",
    "이 문제의 목적은 퀸들을 안전하게 배치하는 모든 가능한 방법을 찾는 것입니다.\n",
    "풀이:\n",
    "백트래킹을 사용하여 체스판의 각 행에 대해 퀸을 안전하게 배치할 수 있는 열을 찾습니다. 만약 현재 행에 퀸을 배치할 안전한 위치를 찾을 수 없다면, 이전 행으로 돌아가서 다른 위치를 시도합니다."
   ]
  },
  {
   "cell_type": "code",
   "execution_count": 7,
   "id": "b2c009bf",
   "metadata": {
    "ExecuteTime": {
     "end_time": "2023-09-19T05:53:27.137392Z",
     "start_time": "2023-09-19T05:53:27.119100Z"
    }
   },
   "outputs": [
    {
     "name": "stdout",
     "output_type": "stream",
     "text": [
      "[2, 0, 3, 1]\n"
     ]
    }
   ],
   "source": [
    "def is_safe(board, row, col, n):\n",
    "    # 같은 열에 퀸이 있는지 확인\n",
    "    for i in range(row):\n",
    "        if board[i] == col:\n",
    "            return False\n",
    "\n",
    "    # 왼쪽 대각선 상에 퀸이 있는지 확인\n",
    "    for i, j in zip(range(row, -1, -1), range(col, -1, -1)):\n",
    "        if board[i] == j:\n",
    "            return False\n",
    "\n",
    "    # 오른쪽 대각선 상에 퀸이 있는지 확인\n",
    "    for i, j in zip(range(row, -1, -1), range(col, n)):\n",
    "        if board[i] == j:\n",
    "            return False\n",
    "\n",
    "    return True\n",
    "\n",
    "def solve_n_queens(board, row, n, solutions):\n",
    "    if row == n:\n",
    "        solutions.append(board.copy())\n",
    "        return\n",
    "\n",
    "    for col in range(n):\n",
    "        if is_safe(board, row, col, n):\n",
    "            board[row] = col\n",
    "            solve_n_queens(board, row + 1, n, solutions)\n",
    "\n",
    "def n_queens(n):\n",
    "    board = [-1] * n\n",
    "    solutions = []\n",
    "    solve_n_queens(board, 0, n, solutions)\n",
    "    return solutions\n",
    "\n",
    "# 결과 확인\n",
    "for solution in n_queens(4):\n",
    "    print(solution)\n"
   ]
  },
  {
   "cell_type": "code",
   "execution_count": null,
   "id": "21314127",
   "metadata": {},
   "outputs": [],
   "source": [
    "\n",
    "# Python Built-in Functions Examples\n",
    "\n",
    "# 1. abs()\n",
    "print(\"1. abs():\", abs(-5))  # 5\n",
    "\n",
    "# 2. all()\n",
    "print(\"2. all():\", all([True, True, False]))  # False\n",
    "\n",
    "# 3. any()\n",
    "print(\"3. any():\", any([True, False, False]))  # True\n",
    "\n",
    "# 4. bin()\n",
    "print(\"4. bin():\", bin(5))  # 0b101\n",
    "\n",
    "# 5. bool()\n",
    "print(\"5. bool():\", bool(0))  # False\n",
    "\n",
    "# 6. chr()\n",
    "print(\"6. chr():\", chr(97))  # 'a'\n",
    "\n",
    "# 7. divmod()\n",
    "print(\"7. divmod():\", divmod(9, 2))  # (4, 1)\n",
    "\n",
    "# 8. enumerate()\n",
    "for index, value in enumerate([\"a\", \"b\", \"c\"]):\n",
    "    print(f\"8. enumerate(): index {index} has value {value}\")\n",
    "\n",
    "# 9. filter()\n",
    "result = filter(lambda x: x % 2 == 0, [1, 2, 3, 4])\n",
    "print(\"9. filter():\", list(result))  # [2, 4]\n",
    "\n",
    "# 10. hex()\n",
    "print(\"10. hex():\", hex(255))  # 0xff\n",
    "\n",
    "# 11. int()\n",
    "print(\"11. int():\", int(\"100\", 2))  # 4\n",
    "\n",
    "# 12. len()\n",
    "print(\"12. len():\", len(\"hello\"))  # 5\n",
    "\n",
    "# 13. list()\n",
    "print(\"13. list():\", list((1, 2, 3)))  # [1, 2, 3]\n",
    "\n",
    "# 14. map()\n",
    "result = map(lambda x: x * 2, [1, 2, 3, 4])\n",
    "print(\"14. map():\", list(result))  # [2, 4, 6, 8]\n",
    "\n",
    "# 15. max()\n",
    "print(\"15. max():\", max([1, 3, 2, 4, 0]))  # 4\n",
    "\n",
    "# 16. min()\n",
    "print(\"16. min():\", min([1, 3, 2, 4, 0]))  # 0\n",
    "\n",
    "# 17. oct()\n",
    "print(\"17. oct():\", oct(8))  # 0o10\n",
    "\n",
    "# 18. ord()\n",
    "print(\"18. ord():\", ord('a'))  # 97\n",
    "\n",
    "# 19. pow()\n",
    "print(\"19. pow():\", pow(2, 3))  # 8\n",
    "\n",
    "# 20. range()\n",
    "print(\"20. range():\", list(range(0, 10, 2)))  # [0, 2, 4, 6, 8]\n",
    "\n",
    "# 21. reversed()\n",
    "print(\"21. reversed():\", list(reversed([1, 2, 3])))  # [3, 2, 1]\n",
    "\n",
    "# 22. round()\n",
    "print(\"22. round():\", round(3.14159, 2))  # 3.14\n",
    "\n",
    "# 23. set()\n",
    "print(\"23. set():\", set([1, 2, 2, 3, 3]))  # {1, 2, 3}\n",
    "\n",
    "# 24. sorted()\n",
    "print(\"24. sorted():\", sorted([3, 2, 1]))  # [1, 2, 3]\n",
    "\n",
    "# 25. str()\n",
    "print(\"25. str():\", str(100))  # '100'\n",
    "\n",
    "# 26. sum()\n",
    "print(\"26. sum():\", sum([1, 2, 3, 4]))  # 10\n",
    "\n",
    "# 27. tuple()\n",
    "print(\"27. tuple():\", tuple([1, 2, 3]))  # (1, 2, 3)\n",
    "\n",
    "# 28. type()\n",
    "print(\"28. type():\", type(123))  # <class 'int'>\n",
    "\n",
    "# 29. zip()\n",
    "result = zip([1, 2, 3], [\"a\", \"b\", \"c\"])\n",
    "print(\"29. zip():\", list(result))  # [(1, 'a'), (2, 'b'), (3, 'c')]\n",
    "\n",
    "# 30. isinstance()\n",
    "print(\"30. isinstance():\", isinstance(123, int))  # True\n"
   ]
  }
 ],
 "metadata": {
  "hide_input": false,
  "kernelspec": {
   "display_name": "Python 3 (ipykernel)",
   "language": "python",
   "name": "python3"
  },
  "language_info": {
   "codemirror_mode": {
    "name": "ipython",
    "version": 3
   },
   "file_extension": ".py",
   "mimetype": "text/x-python",
   "name": "python",
   "nbconvert_exporter": "python",
   "pygments_lexer": "ipython3",
   "version": "3.9.13"
  },
  "toc": {
   "base_numbering": 1,
   "nav_menu": {
    "height": "271px",
    "width": "186px"
   },
   "number_sections": true,
   "sideBar": true,
   "skip_h1_title": false,
   "title_cell": "Table of Contents",
   "title_sidebar": "Contents",
   "toc_cell": false,
   "toc_position": {
    "height": "calc(100% - 180px)",
    "left": "10px",
    "top": "150px",
    "width": "165px"
   },
   "toc_section_display": true,
   "toc_window_display": true
  }
 },
 "nbformat": 4,
 "nbformat_minor": 5
}
