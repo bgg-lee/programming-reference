{
 "cells": [
  {
   "cell_type": "code",
   "execution_count": 16,
   "metadata": {},
   "outputs": [],
   "source": [
    "def next_permutation(a):\n",
    "    n = len(a)\n",
    "    i = n - 1\n",
    "    \n",
    "    while i > 0 and a[i - 1] >= a[i]:\n",
    "        i -= 1\n",
    "    \n",
    "    if i <= 0:\n",
    "        return False\n",
    "    \n",
    "    j = n - 1\n",
    "    \n",
    "    while a[j] <= a[i - 1]:\n",
    "        j -= 1\n",
    "    \n",
    "    a[i - 1], a[j] = a[j], a[i - 1]\n",
    "    j = n - 1\n",
    "    \n",
    "    while i < j:\n",
    "        a[i], a[j] = a[j], a[i]\n",
    "        i += 1\n",
    "        j -= 1\n",
    "    \n",
    "    return a\n",
    "\n",
    "def prev_permutation(a):\n",
    "    n = len(a)\n",
    "    i = n - 1\n",
    "    \n",
    "    while i > 0 and a[i - 1] <= a[i]:\n",
    "        i -= 1\n",
    "    \n",
    "    if i <= 0:\n",
    "        return False\n",
    "    \n",
    "    j = n - 1\n",
    "    \n",
    "    while a[j] >= a[i - 1]:\n",
    "        j -= 1\n",
    "    \n",
    "    a[i - 1], a[j] = a[j], a[i - 1]\n",
    "    j = n - 1\n",
    "    \n",
    "    while i < j:\n",
    "        a[i], a[j] = a[j], a[i]\n",
    "        i += 1\n",
    "        j -= 1\n",
    "    \n",
    "    return a\n"
   ]
  },
  {
   "cell_type": "code",
   "execution_count": 15,
   "metadata": {},
   "outputs": [
    {
     "data": {
      "text/plain": [
       "[1, 3, 2]"
      ]
     },
     "execution_count": 15,
     "metadata": {},
     "output_type": "execute_result"
    }
   ],
   "source": [
    "next_permutation([1,2,3])"
   ]
  },
  {
   "cell_type": "code",
   "execution_count": 14,
   "metadata": {},
   "outputs": [
    {
     "data": {
      "text/plain": [
       "'acb'"
      ]
     },
     "execution_count": 14,
     "metadata": {},
     "output_type": "execute_result"
    }
   ],
   "source": [
    "''.join(next_permutation(list(\"abc\")))"
   ]
  },
  {
   "cell_type": "code",
   "execution_count": 17,
   "metadata": {},
   "outputs": [
    {
     "data": {
      "text/plain": [
       "[1, 2, 3]"
      ]
     },
     "execution_count": 17,
     "metadata": {},
     "output_type": "execute_result"
    }
   ],
   "source": [
    "prev_permutation([1, 3, 2])"
   ]
  },
  {
   "cell_type": "code",
   "execution_count": 18,
   "metadata": {},
   "outputs": [
    {
     "data": {
      "text/plain": [
       "'abc'"
      ]
     },
     "execution_count": 18,
     "metadata": {},
     "output_type": "execute_result"
    }
   ],
   "source": [
    "''.join(prev_permutation(list(\"acb\")))"
   ]
  },
  {
   "cell_type": "code",
   "execution_count": null,
   "metadata": {},
   "outputs": [],
   "source": []
  }
 ],
 "metadata": {
  "kernelspec": {
   "display_name": "base",
   "language": "python",
   "name": "python3"
  },
  "language_info": {
   "codemirror_mode": {
    "name": "ipython",
    "version": 3
   },
   "file_extension": ".py",
   "mimetype": "text/x-python",
   "name": "python",
   "nbconvert_exporter": "python",
   "pygments_lexer": "ipython3",
   "version": "3.9.7"
  },
  "orig_nbformat": 4
 },
 "nbformat": 4,
 "nbformat_minor": 2
}
