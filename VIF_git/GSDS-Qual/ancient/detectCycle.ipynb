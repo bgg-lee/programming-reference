{
 "cells": [
  {
   "cell_type": "markdown",
   "metadata": {},
   "source": [
    "### Detect Cycle in Linked List"
   ]
  },
  {
   "cell_type": "code",
   "execution_count": 9,
   "metadata": {},
   "outputs": [],
   "source": [
    "# Definition for singly-linked list.\n",
    "class ListNode:\n",
    "    def __init__(self, x):\n",
    "        self.val = x\n",
    "        self.next = None\n",
    "\n",
    "a = ListNode(3)\n",
    "b = ListNode(2)\n",
    "c = ListNode(0)\n",
    "d = ListNode(-4)\n",
    "a.next = b\n",
    "b.next = c\n",
    "c.next = d\n",
    "d.next = b"
   ]
  },
  {
   "cell_type": "code",
   "execution_count": 13,
   "metadata": {},
   "outputs": [],
   "source": [
    "# option 1: fast pointer\n",
    "def hasCycle(head):\n",
    "    slowptr = head\n",
    "    fastptr = head\n",
    "    # 이런 조건을 주는 이유: cycle이 없다면 fastptr이 먼저 끝에 도달할 거기 떄문에 slowptr이 먼저 끊길 일이 없음\n",
    "    # fastptr, fastptr.next 둘다 None 아닌지 확인하는 이유: \n",
    "    # fastptr.next.next를 주기 때문에 None.next하면 안되기 때문에 .next 존재하는 지도 확인해야 함\n",
    "    while fastptr and fastptr.next:\n",
    "        slowptr = slowptr.next\n",
    "        fastptr = fastptr.next.next\n",
    "        if slowptr==fastptr:    # cycle이 있다면 언젠가는 slowptr과 fastptr은 만날 수 밖에 없음\n",
    "            return True\n",
    "    return False\n",
    "\n",
    "# option 2: visited list\n",
    "def detectCycle(head):\n",
    "    visited = []\n",
    "    dummyptr = head\n",
    "    while dummyptr:\n",
    "        if dummyptr in visited:\n",
    "            return dummyptr\n",
    "        visited.append(dummyptr)\n",
    "        dummyptr = dummyptr.next\n",
    "    return None"
   ]
  },
  {
   "cell_type": "code",
   "execution_count": 16,
   "metadata": {},
   "outputs": [
    {
     "data": {
      "text/plain": [
       "True"
      ]
     },
     "execution_count": 16,
     "metadata": {},
     "output_type": "execute_result"
    }
   ],
   "source": [
    "hasCycle(a)"
   ]
  },
  {
   "cell_type": "markdown",
   "metadata": {},
   "source": [
    "### Detect Cycle in Directed Graph"
   ]
  },
  {
   "cell_type": "code",
   "execution_count": 31,
   "metadata": {},
   "outputs": [],
   "source": [
    "class Graph():\n",
    "    def __init__(self, vertices):\n",
    "        self.graph = dict()\n",
    "        self.V = vertices\n",
    "    \n",
    "    def addEdge(self, u, v):\n",
    "        if u in self.graph.keys():\n",
    "            self.graph[u].append(v)\n",
    "        else:\n",
    "            self.graph[u] = [v]"
   ]
  },
  {
   "cell_type": "code",
   "execution_count": 32,
   "metadata": {},
   "outputs": [],
   "source": [
    "g = Graph(4)\n",
    "g.addEdge(0, 1)\n",
    "g.addEdge(0, 2)\n",
    "g.addEdge(1, 2)\n",
    "g.addEdge(2, 0)\n",
    "g.addEdge(2, 3)\n",
    "g.addEdge(3, 3)"
   ]
  },
  {
   "cell_type": "code",
   "execution_count": 33,
   "metadata": {},
   "outputs": [],
   "source": [
    "# True는 cycle이 있다는 거\n",
    "def isCyclicUtil(graph, v, visited, visitStack):\n",
    "    visited[v] = True\n",
    "    visitStack[v] = True # directed graph에서 stack에서 안빠져나갔는데 stack에 또 들어오면 cycle\n",
    "\n",
    "    for neighbor in graph.graph[v]:\n",
    "        if visited[neighbor]==False:\n",
    "            if isCyclicUtil(graph, neighbor, visited, visitStack) == True:  # recursion 들어간 거 중 하나라도 True면 True 반환\n",
    "                return True\n",
    "        elif visitStack[neighbor] == True:  # stack에 neighbor가 있는데 또 들어온거 -> cycle이 있다는 거\n",
    "            return True\n",
    "    visitStack[v] = False   # recuresion 끝나면 visitStack False로 표기해주어 stack에서 나갔다는 거\n",
    "    return False\n",
    "\n",
    "def isCyclic(graph):\n",
    "    visited = [False] * graph.V\n",
    "    visitStack = [False] * graph.V\n",
    "    for node in range(graph.V):\n",
    "        if visited[node]==False:\n",
    "            if isCyclicUtil(graph, node, visited, visitStack)==True:\n",
    "                return True\n",
    "    return False"
   ]
  },
  {
   "cell_type": "code",
   "execution_count": 34,
   "metadata": {},
   "outputs": [
    {
     "data": {
      "text/plain": [
       "True"
      ]
     },
     "execution_count": 34,
     "metadata": {},
     "output_type": "execute_result"
    }
   ],
   "source": [
    "isCyclic(g)"
   ]
  },
  {
   "cell_type": "markdown",
   "metadata": {},
   "source": [
    "### Detect Cycle in Undirected Graph"
   ]
  },
  {
   "cell_type": "code",
   "execution_count": 1,
   "metadata": {},
   "outputs": [],
   "source": [
    "class Graph:\n",
    "    def __init__(self, vertices):\n",
    "        self.V = vertices\n",
    "        self.graph = dict()\n",
    "    def addEdge(self, v, w):\n",
    "        if v in self.graph.keys():\n",
    "            self.graph[v].append(w)\n",
    "        if w in self.graph.keys():\n",
    "            self.graph[w].append(v)\n",
    "        if v not in self.graph.keys():\n",
    "            self.graph[v] = [w]\n",
    "        if w not in self.graph.keys():\n",
    "            self.graph[w] = [v]"
   ]
  },
  {
   "cell_type": "code",
   "execution_count": 2,
   "metadata": {},
   "outputs": [],
   "source": [
    "g = Graph(5)\n",
    "g.addEdge(1, 0)\n",
    "g.addEdge(1, 2)\n",
    "g.addEdge(2, 0)\n",
    "g.addEdge(0, 3)\n",
    "g.addEdge(3, 4)"
   ]
  },
  {
   "cell_type": "code",
   "execution_count": 3,
   "metadata": {},
   "outputs": [],
   "source": [
    "def isCyclicUtil(graph, v, visited, parent):\n",
    "    visited[v] = True # 여기선 visitStack은 필요없음 대신 parent가 필요\n",
    "\n",
    "    for neighbor in graph.graph[v]:\n",
    "        if visited[neighbor]==False:\n",
    "            if isCyclicUtil(graph, neighbor, visited, v):\n",
    "                return True\n",
    "        elif parent!=neighbor:  # visited[neighbor]==True (이미 한번 지난거면서) 이면서 neighbor가 parent가 아니면 cycle 있는 거\n",
    "            return True\n",
    "    return False"
   ]
  },
  {
   "cell_type": "code",
   "execution_count": 4,
   "metadata": {},
   "outputs": [],
   "source": [
    "def isCyclic(graph):\n",
    "    visited = [False]*graph.V   # graph.V는 vertices 개수\n",
    "    # print(visited)\n",
    "    \n",
    "    for i in range(graph.V):\n",
    "        if visited[i]==False:\n",
    "            if isCyclicUtil(graph, i, visited, None)==True:\n",
    "                return True\n",
    "    return False"
   ]
  },
  {
   "cell_type": "code",
   "execution_count": 5,
   "metadata": {},
   "outputs": [
    {
     "name": "stdout",
     "output_type": "stream",
     "text": [
      "[False, False, False, False, False]\n"
     ]
    },
    {
     "data": {
      "text/plain": [
       "True"
      ]
     },
     "execution_count": 5,
     "metadata": {},
     "output_type": "execute_result"
    }
   ],
   "source": [
    "isCyclic(g)"
   ]
  },
  {
   "cell_type": "code",
   "execution_count": null,
   "metadata": {},
   "outputs": [],
   "source": []
  }
 ],
 "metadata": {
  "kernelspec": {
   "display_name": "sp2no",
   "language": "python",
   "name": "python3"
  },
  "language_info": {
   "codemirror_mode": {
    "name": "ipython",
    "version": 3
   },
   "file_extension": ".py",
   "mimetype": "text/x-python",
   "name": "python",
   "nbconvert_exporter": "python",
   "pygments_lexer": "ipython3",
   "version": "3.11.5"
  }
 },
 "nbformat": 4,
 "nbformat_minor": 2
}
