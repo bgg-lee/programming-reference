{
 "cells": [
  {
   "cell_type": "code",
   "execution_count": 16,
   "id": "8e4f508f",
   "metadata": {},
   "outputs": [],
   "source": [
    "\"\"\"\n",
    "**Instruction**\n",
    "Please see instruction document.\n",
    "\"\"\"\n",
    "from BST_Helper import *\n",
    "def P3(root: TreeNode, val: int) -> TreeNode:    \n",
    "    ##### Write your Code Here #####\n",
    "    \n",
    "        # Helper function to perform the preorder traversal on a BST\n",
    "    def preorder(root):\n",
    "        if root is None:\n",
    "            return\n",
    "        preorder(root.left)\n",
    "        print(root.data, end=' ')\n",
    "        preorder(root.right)\n",
    "\n",
    "\n",
    "    # Function to insert a BST node at the front of a doubly linked list\n",
    "    def push(root, head):\n",
    "        # insert the given node at the front of a DDL\n",
    "        root.right = head\n",
    "        # update the left child of the existing head node of the DDL\n",
    "        # to point to the BST node\n",
    "        if head is not None:\n",
    "            head.left = root\n",
    "        # update the head pointer of DDL\n",
    "        head = root\n",
    "        return head\n",
    "\n",
    "\n",
    "    '''\n",
    "    Recursive function to construct a sorted doubly linked list from a BST\n",
    "        root —> Pointer to the root node of the binary search tree\n",
    "        head —> Reference to the head node of the doubly linked list\n",
    "        nodes —> Stores the total number of nodes processed so far in the BST\n",
    "    '''\n",
    "    def convertBSTtoSortedDLL(root, head, nodes=0):\n",
    "\n",
    "        # base case\n",
    "        if root is None:\n",
    "            return head, nodes\n",
    "\n",
    "        # recursively convert the right subtree\n",
    "        head, nodes = convertBSTtoSortedDLL(root.right, head, nodes)\n",
    "\n",
    "        # push the current node at the front of the doubly linked list\n",
    "        head = push(root, head)\n",
    "\n",
    "        # increment the number of nodes\n",
    "        nodes = nodes + 1\n",
    "\n",
    "        # recursively convert the left subtree\n",
    "        head, nodes = convertBSTtoSortedDLL(root.left, head, nodes)\n",
    "\n",
    "        return head, nodes\n",
    "\n",
    "\n",
    "    '''\n",
    "    Recursive function to construct a height-balanced BST from a doubly linked list\n",
    "        head —> Reference to the head node of the doubly linked list\n",
    "        n —> Total number of nodes in the doubly linked list\n",
    "    '''\n",
    "    def convertSortedDLLToBST(head, n):\n",
    "\n",
    "        # base case\n",
    "        if n <= 0:\n",
    "            return None, head\n",
    "\n",
    "        # recursively construct the left subtree\n",
    "        leftSubTree, head = convertSortedDLLToBST(head, n // 2)\n",
    "\n",
    "        # `head` now points to the middle node of the sorted DDL\n",
    "\n",
    "        # make the middle node of the sorted DDL as the root node of the BST\n",
    "        root = head\n",
    "\n",
    "        # update left child of the root node\n",
    "        root.left = leftSubTree\n",
    "\n",
    "        # update the head reference of the doubly linked list\n",
    "        head = head.right\n",
    "\n",
    "        # recursively construct the right subtree with the remaining nodes\n",
    "        root.right, head = convertSortedDLLToBST(head, n - (n // 2 + 1))\n",
    "                                                        # +1 for root Node\n",
    "\n",
    "        # return the root node\n",
    "        return root, head\n",
    "\n",
    "\n",
    "    # Function to construct a height-balanced BST from an unbalanced BST\n",
    "    def constructBalancedBST(root):\n",
    "\n",
    "        # pointer to the head node of the doubly linked list\n",
    "        head = None\n",
    "\n",
    "        # convert the given BST into a sorted doubly linked list\n",
    "        head, nodes = convertBSTtoSortedDLL(root, head)\n",
    "\n",
    "        # construct a height-balanced BST from the sorted doubly linked list\n",
    "        root, head = convertSortedDLLToBST(head, nodes)\n",
    "\n",
    "        return root\n",
    "        \n",
    "    def __insertHelp(curNode: TreeNode, x:int) -> TreeNode:\n",
    "        if not curNode:\n",
    "            return TreeNode(x)\n",
    "        if x < curNode.val:\n",
    "            curNode.left = __insertHelp(curNode.left, x)\n",
    "        elif x > curNode.val:\n",
    "            curNode.right = __insertHelp(curNode.right, x)\n",
    "        return curNode\n",
    "            \n",
    "#     def insert(x: int) -> None:\n",
    "#         root = __insertHelp(self.root, x)\n",
    "        \n",
    "    new_root = __insertHelp(root, val)\n",
    "    ans = constructBalancedBST(new_root)  \n",
    "    \n",
    "    return ans\n",
    "    ##### End of your code #####\n"
   ]
  },
  {
   "cell_type": "code",
   "execution_count": 17,
   "id": "ca51e8d7",
   "metadata": {
    "scrolled": false
   },
   "outputs": [
    {
     "name": "stdout",
     "output_type": "stream",
     "text": [
      "[6, 3, 8, 2, 5, 7, 9]\n"
     ]
    }
   ],
   "source": [
    "root = create_linked_bst( [7,3,8,2,5,None,9])\n",
    "fullBST = P3(root, 6)\n",
    "print(fullBST .printTree())"
   ]
  },
  {
   "cell_type": "code",
   "execution_count": 18,
   "id": "7f1941df",
   "metadata": {},
   "outputs": [
    {
     "name": "stdout",
     "output_type": "stream",
     "text": [
      "[7, 3, 9, 2, 5, 8, 10]\n"
     ]
    }
   ],
   "source": [
    "root = create_linked_bst( [7,3,8,2,5,None,9])\n",
    "fullBST = P3(root, 10)\n",
    "print(fullBST .printTree())"
   ]
  },
  {
   "cell_type": "code",
   "execution_count": 19,
   "id": "2d9bd815",
   "metadata": {},
   "outputs": [
    {
     "name": "stdout",
     "output_type": "stream",
     "text": [
      "[10, 5, 15, 3, 7, 12, 18, 1, 4, 6, 8, 11, 13, 16, 20]\n"
     ]
    }
   ],
   "source": [
    "root = create_linked_bst( [10,5,15,3,6,12,18,1,4,None,8,11,13,16,20])\n",
    "fullBST = P3(root, 7)\n",
    "print(fullBST .printTree())"
   ]
  },
  {
   "cell_type": "code",
   "execution_count": 20,
   "id": "64dc53df",
   "metadata": {},
   "outputs": [
    {
     "name": "stdout",
     "output_type": "stream",
     "text": [
      "[10, 5, 14, 3, 7, 12, 18, 1, 4, 6, 8, 11, 13, 15, 20]\n"
     ]
    }
   ],
   "source": [
    "root = create_linked_bst( [10,5,15,3,7,12,18,1,4,6,8,11,13,None,20]) \n",
    "fullBST = P3(root, 14)\n",
    "print(fullBST .printTree())"
   ]
  },
  {
   "cell_type": "code",
   "execution_count": 21,
   "id": "b91f0117",
   "metadata": {
    "scrolled": true
   },
   "outputs": [
    {
     "name": "stdout",
     "output_type": "stream",
     "text": [
      "[9, 5, 13, 3, 7, 11, 18, 1, 4, 6, 8, 10, 12, 15, 20]\n"
     ]
    }
   ],
   "source": [
    "root = create_linked_bst( [10,5,15,3,7,12,18,1,4,6,8,11,13,None,20]) \n",
    "fullBST = P3(root, 9)\n",
    "print(fullBST .printTree())"
   ]
  },
  {
   "cell_type": "code",
   "execution_count": null,
   "id": "6cb44bba",
   "metadata": {},
   "outputs": [],
   "source": [
    "\"\"\"\n",
    "**Instruction**\n",
    "Please see instruction document.\n",
    "\"\"\"\n",
    "from BST_Helper import *\n",
    "def P3(root: TreeNode, val: int) -> TreeNode:    \n",
    "    ##### Write your Code Here #####\n",
    "    \n",
    "  \n",
    "    return ans\n",
    "    ##### End of your code #####\n"
   ]
  },
  {
   "cell_type": "code",
   "execution_count": null,
   "id": "e639ec82",
   "metadata": {},
   "outputs": [],
   "source": []
  }
 ],
 "metadata": {
  "kernelspec": {
   "display_name": "Python 3 (ipykernel)",
   "language": "python",
   "name": "python3"
  },
  "language_info": {
   "codemirror_mode": {
    "name": "ipython",
    "version": 3
   },
   "file_extension": ".py",
   "mimetype": "text/x-python",
   "name": "python",
   "nbconvert_exporter": "python",
   "pygments_lexer": "ipython3",
   "version": "3.10.2"
  }
 },
 "nbformat": 4,
 "nbformat_minor": 5
}
